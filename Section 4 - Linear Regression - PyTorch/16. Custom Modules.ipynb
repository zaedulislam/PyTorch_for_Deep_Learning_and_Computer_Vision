{
  "nbformat": 4,
  "nbformat_minor": 0,
  "metadata": {
    "colab": {
      "name": "16. Custom Modules.ipynb",
      "provenance": [],
      "authorship_tag": "ABX9TyPImMVDPLo8nHamUinSwUe1",
      "include_colab_link": true
    },
    "kernelspec": {
      "name": "python3",
      "display_name": "Python 3"
    },
    "language_info": {
      "name": "python"
    }
  },
  "cells": [
    {
      "cell_type": "markdown",
      "metadata": {
        "id": "view-in-github",
        "colab_type": "text"
      },
      "source": [
        "<a href=\"https://colab.research.google.com/github/zaedulislam/PyTorch_for_Deep_Learning_and_Computer_Vision/blob/main/Section%204%20-%20Linear%20Regression%20-%20PyTorch/16.%20Custom%20Modules.ipynb\" target=\"_parent\"><img src=\"https://colab.research.google.com/assets/colab-badge.svg\" alt=\"Open In Colab\"/></a>"
      ]
    },
    {
      "cell_type": "markdown",
      "metadata": {
        "id": "s18jweKHsIkd"
      },
      "source": [
        "Notion Page: https://www.notion.so/islamzaedul/Section-4-Linear-Regression-PyTorch-07e980b180d1420a8703e1df0fae6a83#8652666b7ca4418cb4995cb2ef45661c"
      ]
    },
    {
      "cell_type": "code",
      "metadata": {
        "colab": {
          "base_uri": "https://localhost:8080/"
        },
        "id": "KD4Zgvfgr-q9",
        "outputId": "7ea7f81a-e9ab-45bd-e08d-77736b06760d"
      },
      "source": [
        "!pip3 install torch"
      ],
      "execution_count": 24,
      "outputs": [
        {
          "output_type": "stream",
          "name": "stdout",
          "text": [
            "Requirement already satisfied: torch in /usr/local/lib/python3.7/dist-packages (1.10.0+cu111)\n",
            "Requirement already satisfied: typing-extensions in /usr/local/lib/python3.7/dist-packages (from torch) (3.10.0.2)\n"
          ]
        }
      ]
    },
    {
      "cell_type": "code",
      "metadata": {
        "id": "dCwZQNrMsT1c"
      },
      "source": [
        "import torch\n",
        "import torch.nn as nn"
      ],
      "execution_count": 25,
      "outputs": []
    },
    {
      "cell_type": "markdown",
      "metadata": {
        "id": "XSafT2j_3CY9"
      },
      "source": [
        "## Making predictions using the linear class in an object oriented programming approach "
      ]
    },
    {
      "cell_type": "markdown",
      "metadata": {
        "id": "Z18h6Z_tyzIw"
      },
      "source": [
        "### Boilerplate code that is always needed to write to create a custom class"
      ]
    },
    {
      "cell_type": "code",
      "metadata": {
        "id": "IQUWeb-ztALa"
      },
      "source": [
        "# We will use inheritance such that this subclass will leverage code from our base class and then the module.\n",
        "# \"Module\" -> Module itself will typically act as a base class for all neural network modules.\n",
        "# In this case, the linear regression model class (LR) will be a subclass of nn.Module, thereby inherit methods and variables from this parent class.\n",
        "\n",
        "class LR(nn.Module):\n",
        "    # We use this constructor to initialize new instances of the class \n",
        "    # \"self\" simply represents the instance of the class, the object that's yet to be initialized.\n",
        "    def __init__(self, input_size, output_size):\n",
        "        # When dealing with class inheritance, one should be mindful of calling super().__init_(). Which simply allows for more \n",
        "        # freedom in the use of multiple inheritance from parent classes.\n",
        "        super().__init__()\n",
        "        self.linear = nn.Linear(input_size, output_size)\n",
        "    \n",
        "    def forward(self, x):\n",
        "        pred = self.linear(x)\n",
        "        return pred\n"
      ],
      "execution_count": 26,
      "outputs": []
    },
    {
      "cell_type": "code",
      "metadata": {
        "colab": {
          "base_uri": "https://localhost:8080/"
        },
        "id": "bn66nkRetAiv",
        "outputId": "31949616-dbc5-4795-ca2e-8da1455ac00d"
      },
      "source": [
        "# Random number generator\n",
        "torch.manual_seed(1)\n",
        "\n",
        "model = LR(1, 1)\n",
        "print(list(model.parameters()))"
      ],
      "execution_count": 27,
      "outputs": [
        {
          "output_type": "stream",
          "name": "stdout",
          "text": [
            "[Parameter containing:\n",
            "tensor([[0.5153]], requires_grad=True), Parameter containing:\n",
            "tensor([-0.4414], requires_grad=True)]\n"
          ]
        }
      ]
    },
    {
      "cell_type": "code",
      "metadata": {
        "colab": {
          "base_uri": "https://localhost:8080/"
        },
        "id": "P34E2qdW00TC",
        "outputId": "0f3b1f53-3ad6-4ea4-e687-fde013dbb4bb"
      },
      "source": [
        "x = torch.tensor([1.0])\n",
        "print(model.forward(x))"
      ],
      "execution_count": 28,
      "outputs": [
        {
          "output_type": "stream",
          "name": "stdout",
          "text": [
            "tensor([0.0739], grad_fn=<AddBackward0>)\n"
          ]
        }
      ]
    },
    {
      "cell_type": "code",
      "metadata": {
        "colab": {
          "base_uri": "https://localhost:8080/"
        },
        "id": "A_Nwo5N11Eqi",
        "outputId": "eecd500f-baef-44e3-e8a8-f1dec651224b"
      },
      "source": [
        "x = torch.tensor([[1.0], [2.0]])\n",
        "print(model.forward(x))"
      ],
      "execution_count": 29,
      "outputs": [
        {
          "output_type": "stream",
          "name": "stdout",
          "text": [
            "tensor([[0.0739],\n",
            "        [0.5891]], grad_fn=<AddmmBackward0>)\n"
          ]
        }
      ]
    }
  ]
}