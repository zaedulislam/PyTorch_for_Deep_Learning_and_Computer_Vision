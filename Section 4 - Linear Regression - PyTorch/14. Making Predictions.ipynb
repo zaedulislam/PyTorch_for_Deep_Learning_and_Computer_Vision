{
  "nbformat": 4,
  "nbformat_minor": 0,
  "metadata": {
    "colab": {
      "name": "14. Making Predictions.ipynb",
      "provenance": [],
      "authorship_tag": "ABX9TyMHWTmo2QuZBUNCCE8a9S35",
      "include_colab_link": true
    },
    "kernelspec": {
      "name": "python3",
      "display_name": "Python 3"
    },
    "language_info": {
      "name": "python"
    }
  },
  "cells": [
    {
      "cell_type": "markdown",
      "metadata": {
        "id": "view-in-github",
        "colab_type": "text"
      },
      "source": [
        "<a href=\"https://colab.research.google.com/github/zaedulislam/PyTorch_for_Deep_Learning_and_Computer_Vision/blob/main/Section%204%20-%20Linear%20Regression%20-%20PyTorch/14.%20Making%20Predictions.ipynb\" target=\"_parent\"><img src=\"https://colab.research.google.com/assets/colab-badge.svg\" alt=\"Open In Colab\"/></a>"
      ]
    },
    {
      "cell_type": "markdown",
      "metadata": {
        "id": "eyLy8kl9yiJW"
      },
      "source": [
        "Notion Page: https://www.notion.so/islamzaedul/Section-4-Linear-Regression-PyTorch-07e980b180d1420a8703e1df0fae6a83#541106ebec94490aba61f7d1898fb283"
      ]
    },
    {
      "cell_type": "code",
      "metadata": {
        "colab": {
          "base_uri": "https://localhost:8080/"
        },
        "id": "wLQZD5hFw72r",
        "outputId": "59c1b6e1-0891-4fe3-b09d-d090fe90407c"
      },
      "source": [
        "!pip3 install torch"
      ],
      "execution_count": 3,
      "outputs": [
        {
          "output_type": "stream",
          "name": "stdout",
          "text": [
            "Requirement already satisfied: torch in /usr/local/lib/python3.7/dist-packages (1.10.0+cu111)\n",
            "Requirement already satisfied: typing-extensions in /usr/local/lib/python3.7/dist-packages (from torch) (3.10.0.2)\n"
          ]
        }
      ]
    },
    {
      "cell_type": "code",
      "metadata": {
        "id": "ENBx85Zaz3Ek"
      },
      "source": [
        "import torch"
      ],
      "execution_count": 4,
      "outputs": []
    },
    {
      "cell_type": "code",
      "metadata": {
        "id": "ahdFzY08z5gE"
      },
      "source": [
        "m = torch.tensor(3.0, requires_grad=True)\n",
        "b = torch.tensor(1.0, requires_grad=True)   "
      ],
      "execution_count": 5,
      "outputs": []
    },
    {
      "cell_type": "code",
      "metadata": {
        "id": "qQS6Hl590DeO"
      },
      "source": [
        "def forward(x):\n",
        "    y = m*x + b\n",
        "    return y"
      ],
      "execution_count": 6,
      "outputs": []
    },
    {
      "cell_type": "code",
      "metadata": {
        "colab": {
          "base_uri": "https://localhost:8080/"
        },
        "id": "rMrJS6vy0Qbx",
        "outputId": "2507027b-f88d-4acb-d3fd-41312400c2c2"
      },
      "source": [
        "x = torch.tensor(2)\n",
        "forward(x)"
      ],
      "execution_count": 7,
      "outputs": [
        {
          "output_type": "execute_result",
          "data": {
            "text/plain": [
              "tensor(7., grad_fn=<AddBackward0>)"
            ]
          },
          "metadata": {},
          "execution_count": 7
        }
      ]
    },
    {
      "cell_type": "code",
      "metadata": {
        "colab": {
          "base_uri": "https://localhost:8080/"
        },
        "id": "70cx49lj0kqB",
        "outputId": "24ce3149-6d30-44dd-fc4a-666b240b0b3a"
      },
      "source": [
        "x = torch.tensor([[4], [7]])\n",
        "forward(x)"
      ],
      "execution_count": 10,
      "outputs": [
        {
          "output_type": "execute_result",
          "data": {
            "text/plain": [
              "tensor([[13.],\n",
              "        [22.]], grad_fn=<AddBackward0>)"
            ]
          },
          "metadata": {},
          "execution_count": 10
        }
      ]
    }
  ]
}