{
  "nbformat": 4,
  "nbformat_minor": 0,
  "metadata": {
    "colab": {
      "name": "17. Creating Dataset.ipynb",
      "provenance": [],
      "collapsed_sections": [],
      "authorship_tag": "ABX9TyPrmtblrJF2kskf8ViNPFJ2",
      "include_colab_link": true
    },
    "kernelspec": {
      "name": "python3",
      "display_name": "Python 3"
    },
    "language_info": {
      "name": "python"
    }
  },
  "cells": [
    {
      "cell_type": "markdown",
      "metadata": {
        "id": "view-in-github",
        "colab_type": "text"
      },
      "source": [
        "<a href=\"https://colab.research.google.com/github/zaedulislam/PyTorch_for_Deep_Learning_and_Computer_Vision/blob/main/Section%204%20-%20Linear%20Regression%20-%20PyTorch/17.%20Creating%20Dataset.ipynb\" target=\"_parent\"><img src=\"https://colab.research.google.com/assets/colab-badge.svg\" alt=\"Open In Colab\"/></a>"
      ]
    },
    {
      "cell_type": "markdown",
      "metadata": {
        "id": "eYRIhoUtNSUA"
      },
      "source": [
        "Notion Page: https://www.notion.so/islamzaedul/Section-4-Linear-Regression-PyTorch-07e980b180d1420a8703e1df0fae6a83#873116e252704531922e71e848ec2fba"
      ]
    },
    {
      "cell_type": "code",
      "metadata": {
        "colab": {
          "base_uri": "https://localhost:8080/"
        },
        "id": "F5sN23jurVjI",
        "outputId": "40dc5950-c15d-44c2-f1b7-2ab7c6859af2"
      },
      "source": [
        "!pip3 install torch"
      ],
      "execution_count": 95,
      "outputs": [
        {
          "output_type": "stream",
          "name": "stdout",
          "text": [
            "Requirement already satisfied: torch in /usr/local/lib/python3.7/dist-packages (1.10.0+cu111)\n",
            "Requirement already satisfied: typing-extensions in /usr/local/lib/python3.7/dist-packages (from torch) (3.10.0.2)\n"
          ]
        }
      ]
    },
    {
      "cell_type": "code",
      "metadata": {
        "id": "3yqF5gE6rf_I"
      },
      "source": [
        "import torch\n",
        "import torch.nn as nn\n",
        "import matplotlib.pyplot as plt\n",
        "import numpy as np"
      ],
      "execution_count": 96,
      "outputs": []
    },
    {
      "cell_type": "code",
      "metadata": {
        "colab": {
          "base_uri": "https://localhost:8080/",
          "height": 296
        },
        "id": "u3U3exactLvW",
        "outputId": "94496996-5af8-41d2-9b2d-dbfe8ac5f126"
      },
      "source": [
        "# \"rand()\"\" method returns a Tensor filled with random numbers that are normally distributed. This function accepts a sequence of integers \n",
        "# which define the shape of our tensor\n",
        "# \"torch.randn(100, 1)\" -> The tensor will have 100 rows and one column such that there will be 100 points in each point has a single value within the normal distribution\n",
        "X = torch.randn(100, 1) * 10 \n",
        "y = X \n",
        "plt.plot(X.numpy(), y.numpy(), 'o')\n",
        "plt.ylabel('y')\n",
        "plt.xlabel('x')"
      ],
      "execution_count": 97,
      "outputs": [
        {
          "output_type": "execute_result",
          "data": {
            "text/plain": [
              "Text(0.5, 0, 'x')"
            ]
          },
          "metadata": {},
          "execution_count": 97
        },
        {
          "output_type": "display_data",
          "data": {
            "image/png": "[encoded data removed]",
            "text/plain": [
              "<Figure size 432x288 with 1 Axes>"
            ]
          },
          "metadata": {
            "needs_background": "light"
          }
        }
      ]
    },
    {
      "cell_type": "code",
      "metadata": {
        "colab": {
          "base_uri": "https://localhost:8080/",
          "height": 296
        },
        "id": "iTuZXVznUrHl",
        "outputId": "4c4a73cf-e6a0-48cd-a496-1725e08fb83b"
      },
      "source": [
        "X = torch.randn(100, 1) * 10 \n",
        "\n",
        "# Adding a bit of noise to our output, to each y-value of the point to shift it upwards or downwards such that the noise is also normally \n",
        "# distributed across the entire range\n",
        "y = X + 3 * torch.randn(100, 1)\n",
        "\n",
        "plt.plot(X.numpy(), y.numpy(), 'o')\n",
        "plt.ylabel('y')\n",
        "plt.xlabel('x')"
      ],
      "execution_count": 98,
      "outputs": [
        {
          "output_type": "execute_result",
          "data": {
            "text/plain": [
              "Text(0.5, 0, 'x')"
            ]
          },
          "metadata": {},
          "execution_count": 98
        },
        {
          "output_type": "display_data",
          "data": {
            "image/png": "[encoded data removed]",
            "text/plain": [
              "<Figure size 432x288 with 1 Axes>"
            ]
          },
          "metadata": {
            "needs_background": "light"
          }
        }
      ]
    },
    {
      "cell_type": "code",
      "metadata": {
        "colab": {
          "base_uri": "https://localhost:8080/"
        },
        "id": "nJ0NeBC7SrbG",
        "outputId": "07c51fb0-1deb-45e3-e024-c6a584a4cf52"
      },
      "source": [
        "print(X)"
      ],
      "execution_count": 99,
      "outputs": [
        {
          "output_type": "stream",
          "name": "stdout",
          "text": [
            "tensor([[  5.3569],\n",
            "        [ -4.3119],\n",
            "        [  1.5728],\n",
            "        [ 12.5396],\n",
            "        [ 13.2752],\n",
            "        [ -4.9541],\n",
            "        [ 15.4962],\n",
            "        [  3.4763],\n",
            "        [  1.0181],\n",
            "        [  3.4001],\n",
            "        [ -6.4467],\n",
            "        [ -2.8702],\n",
            "        [ 33.2122],\n",
            "        [ -4.0206],\n",
            "        [ -7.1226],\n",
            "        [ -6.2003],\n",
            "        [  6.3484],\n",
            "        [ -8.0436],\n",
            "        [-10.3712],\n",
            "        [-10.6691],\n",
            "        [ -2.0850],\n",
            "        [ -2.1552],\n",
            "        [  2.7053],\n",
            "        [  5.5969],\n",
            "        [ 17.1332],\n",
            "        [-17.9427],\n",
            "        [-15.2080],\n",
            "        [  9.1958],\n",
            "        [ -5.4835],\n",
            "        [ -3.4724],\n",
            "        [ -7.4745],\n",
            "        [ -9.2344],\n",
            "        [  5.5137],\n",
            "        [-15.4737],\n",
            "        [  7.5748],\n",
            "        [ -4.0676],\n",
            "        [ -1.2773],\n",
            "        [  2.8037],\n",
            "        [  0.3746],\n",
            "        [ -6.3784],\n",
            "        [ -7.0637],\n",
            "        [ 25.5709],\n",
            "        [  7.7053],\n",
            "        [-10.7391],\n",
            "        [ -2.0151],\n",
            "        [ -5.6026],\n",
            "        [  6.8171],\n",
            "        [ -5.1700],\n",
            "        [  8.7484],\n",
            "        [  9.8728],\n",
            "        [  2.5047],\n",
            "        [ -7.9303],\n",
            "        [  5.2310],\n",
            "        [ 12.2361],\n",
            "        [ -9.4579],\n",
            "        [-13.5291],\n",
            "        [ -0.0521],\n",
            "        [ -0.7886],\n",
            "        [ -3.8912],\n",
            "        [ -0.7960],\n",
            "        [  7.6048],\n",
            "        [-10.0252],\n",
            "        [  9.4617],\n",
            "        [  3.5120],\n",
            "        [ -1.6366],\n",
            "        [ -3.5822],\n",
            "        [ -0.5944],\n",
            "        [-24.9194],\n",
            "        [  2.4226],\n",
            "        [  2.8831],\n",
            "        [ -1.0952],\n",
            "        [  3.1257],\n",
            "        [ -3.4168],\n",
            "        [  9.4734],\n",
            "        [  6.2233],\n",
            "        [ -4.4814],\n",
            "        [ -2.8565],\n",
            "        [  3.8798],\n",
            "        [-11.4347],\n",
            "        [ -6.5123],\n",
            "        [-29.1674],\n",
            "        [ -5.6733],\n",
            "        [-11.9918],\n",
            "        [ -0.4742],\n",
            "        [ -6.5368],\n",
            "        [ 15.5862],\n",
            "        [  4.0007],\n",
            "        [ 24.4228],\n",
            "        [ -3.8184],\n",
            "        [  4.3265],\n",
            "        [ 16.4991],\n",
            "        [ -4.3200],\n",
            "        [  5.7302],\n",
            "        [-17.9624],\n",
            "        [ -3.0614],\n",
            "        [ -4.2027],\n",
            "        [  2.8281],\n",
            "        [  3.6424],\n",
            "        [ -0.7983],\n",
            "        [  3.4172]])\n"
          ]
        }
      ]
    },
    {
      "cell_type": "code",
      "metadata": {
        "id": "IQUWeb-ztALa"
      },
      "source": [
        "# We will use inheritance such that this subclass will leverage code from our base class and then the module\n",
        "# \"Module\" -> Module itself will typically act as a base class for all neural network modules\n",
        "# In this case, the linear regression model class (LR) will be a subclass of nn.Module, thereby inherit methods and variables from this parent class\n",
        "\n",
        "class LR(nn.Module):\n",
        "    # We use this constructor to initialize new instances of the class \n",
        "    # \"self\" simply represents the instance of the class, the object that's yet to be initialized\n",
        "    def __init__(self, input_size, output_size):\n",
        "        # When dealing with class inheritance, one should be mindful of calling super().__init_(). Which simply allows for more \n",
        "        # freedom in the use of multiple inheritance from parent classes.\n",
        "        super().__init__()\n",
        "        self.linear = nn.Linear(input_size, output_size)\n",
        "    \n",
        "    def forward(self, x):\n",
        "        pred = self.linear(x)\n",
        "        return pred\n"
      ],
      "execution_count": 100,
      "outputs": []
    },
    {
      "cell_type": "code",
      "metadata": {
        "colab": {
          "base_uri": "https://localhost:8080/"
        },
        "id": "bn66nkRetAiv",
        "outputId": "3a79bd13-1a74-42ec-cb2c-b387f4319a90"
      },
      "source": [
        "# Random number generator\n",
        "torch.manual_seed(1)\n",
        "\n",
        "model = LR(1, 1)\n",
        "print(model)"
      ],
      "execution_count": 101,
      "outputs": [
        {
          "output_type": "stream",
          "name": "stdout",
          "text": [
            "LR(\n",
            "  (linear): Linear(in_features=1, out_features=1, bias=True)\n",
            ")\n"
          ]
        }
      ]
    },
    {
      "cell_type": "code",
      "metadata": {
        "colab": {
          "base_uri": "https://localhost:8080/"
        },
        "id": "Dr9wUXtbWPa7",
        "outputId": "9c472264-a68c-47fa-8ceb-02a6ec1d067e"
      },
      "source": [
        "[w, b] = model.parameters()\n",
        "print(w, b)\n",
        "\n",
        "# Converting to python value from tensor value\n",
        "w1 = w[0][0].item()\n",
        "b1 = b[0].item()\n",
        "\n",
        "print(w1, b1)"
      ],
      "execution_count": 102,
      "outputs": [
        {
          "output_type": "stream",
          "name": "stdout",
          "text": [
            "Parameter containing:\n",
            "tensor([[0.5153]], requires_grad=True) Parameter containing:\n",
            "tensor([-0.4414], requires_grad=True)\n",
            "0.5152631998062134 -0.44137823581695557\n"
          ]
        }
      ]
    },
    {
      "cell_type": "code",
      "metadata": {
        "id": "K-MK6zs_YQC7"
      },
      "source": [
        "def get_params():\n",
        "    return (w[0][0].item(), b[0].item())"
      ],
      "execution_count": 103,
      "outputs": []
    },
    {
      "cell_type": "code",
      "metadata": {
        "id": "QWbeo-CmYf5w"
      },
      "source": [
        "def plot_fit(title):\n",
        "    plt.title = title\n",
        "    w1, b1 = get_params()\n",
        "    \n",
        "    x1 = np.array([-30, 30])\n",
        "    y1 = w1*x1 + b1\n",
        "    \n",
        "    plt.plot(x1, y1, 'r')\n",
        "    plt.scatter(X, y)\n",
        "    plt.show()"
      ],
      "execution_count": 104,
      "outputs": []
    },
    {
      "cell_type": "code",
      "metadata": {
        "colab": {
          "base_uri": "https://localhost:8080/",
          "height": 265
        },
        "id": "8w9osSVbZRoh",
        "outputId": "bbe3da69-842f-4e78-aa82-d0af1448de7e"
      },
      "source": [
        "plot_fit('Initial Model')"
      ],
      "execution_count": 105,
      "outputs": [
        {
          "output_type": "display_data",
          "data": {
            "image/png": "[encoded data removed]",
            "text/plain": [
              "<Figure size 432x288 with 1 Axes>"
            ]
          },
          "metadata": {
            "needs_background": "light"
          }
        }
      ]
    }
  ]
}