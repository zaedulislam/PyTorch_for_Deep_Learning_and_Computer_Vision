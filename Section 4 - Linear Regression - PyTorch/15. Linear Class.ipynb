{
  "nbformat": 4,
  "nbformat_minor": 0,
  "metadata": {
    "colab": {
      "name": "15. Linear Class.ipynb",
      "provenance": [],
      "collapsed_sections": [],
      "authorship_tag": "ABX9TyPO5Jsy3C1zEKtmReFhVXf9",
      "include_colab_link": true
    },
    "kernelspec": {
      "name": "python3",
      "display_name": "Python 3"
    },
    "language_info": {
      "name": "python"
    }
  },
  "cells": [
    {
      "cell_type": "markdown",
      "metadata": {
        "id": "view-in-github",
        "colab_type": "text"
      },
      "source": [
        "<a href=\"https://colab.research.google.com/github/zaedulislam/PyTorch_for_Deep_Learning_and_Computer_Vision/blob/main/Section%204%20-%20Linear%20Regression%20-%20PyTorch/15.%20Linear%20Class.ipynb\" target=\"_parent\"><img src=\"https://colab.research.google.com/assets/colab-badge.svg\" alt=\"Open In Colab\"/></a>"
      ]
    },
    {
      "cell_type": "markdown",
      "metadata": {
        "id": "sv0NFFmlonqw"
      },
      "source": [
        "Notion Page: https://www.notion.so/islamzaedul/Section-4-Linear-Regression-PyTorch-07e980b180d1420a8703e1df0fae6a83#f7b42c37d45e41a2b2f6c4edf7a27068"
      ]
    },
    {
      "cell_type": "code",
      "metadata": {
        "colab": {
          "base_uri": "https://localhost:8080/"
        },
        "id": "P-GAS77som4d",
        "outputId": "da2d5596-3388-4ccd-b6bd-b063d292fad5"
      },
      "source": [
        "!pip3 install torch"
      ],
      "execution_count": 12,
      "outputs": [
        {
          "output_type": "stream",
          "name": "stdout",
          "text": [
            "Requirement already satisfied: torch in /usr/local/lib/python3.7/dist-packages (1.10.0+cu111)\n",
            "Requirement already satisfied: typing-extensions in /usr/local/lib/python3.7/dist-packages (from torch) (3.10.0.2)\n"
          ]
        }
      ]
    },
    {
      "cell_type": "code",
      "metadata": {
        "id": "qlj_NgUspH-E"
      },
      "source": [
        "import torch\n",
        "from torch.nn import Linear"
      ],
      "execution_count": 13,
      "outputs": []
    },
    {
      "cell_type": "code",
      "metadata": {
        "colab": {
          "base_uri": "https://localhost:8080/"
        },
        "id": "_6fhdbvtpJo7",
        "outputId": "1b0231b6-095a-42e4-bf0d-8235c53843b1"
      },
      "source": [
        "torch.manual_seed(1)\n",
        "\n",
        "# Creating a linear model\n",
        "# What this means is that for every prediction that we make using our linear model for every output, there is a single input.\n",
        "model = Linear(in_features=1, out_features=1)\n",
        "\n",
        "# \"model.weight\" -> m\n",
        "# \"model.bias\" -> b\n",
        "\n",
        "print(model.bias, model.weight)"
      ],
      "execution_count": 14,
      "outputs": [
        {
          "output_type": "stream",
          "name": "stdout",
          "text": [
            "Parameter containing:\n",
            "tensor([-0.4414], requires_grad=True) Parameter containing:\n",
            "tensor([[0.5153]], requires_grad=True)\n"
          ]
        }
      ]
    },
    {
      "cell_type": "code",
      "metadata": {
        "colab": {
          "base_uri": "https://localhost:8080/"
        },
        "id": "tftRG-gXpvI2",
        "outputId": "4bd764f7-7ce3-4259-c685-a02d5a2ff257"
      },
      "source": [
        "x = torch.tensor([2.0])\n",
        "print(model(x))"
      ],
      "execution_count": 15,
      "outputs": [
        {
          "output_type": "stream",
          "name": "stdout",
          "text": [
            "tensor([0.5891], grad_fn=<AddBackward0>)\n"
          ]
        }
      ]
    },
    {
      "cell_type": "code",
      "metadata": {
        "colab": {
          "base_uri": "https://localhost:8080/"
        },
        "id": "hRNwT1hbrPAO",
        "outputId": "f1d5fd75-82b5-4c3e-dc5e-fc8ed570e8c7"
      },
      "source": [
        "x = torch.tensor([[2.0], [3.3]])\n",
        "print(model(x))"
      ],
      "execution_count": 16,
      "outputs": [
        {
          "output_type": "stream",
          "name": "stdout",
          "text": [
            "tensor([[0.5891],\n",
            "        [1.2590]], grad_fn=<AddmmBackward0>)\n"
          ]
        }
      ]
    }
  ]
}