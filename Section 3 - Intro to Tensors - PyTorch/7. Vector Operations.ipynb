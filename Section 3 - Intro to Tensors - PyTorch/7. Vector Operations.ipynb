{
  "cells": [
    {
      "cell_type": "markdown",
      "metadata": {
        "colab_type": "text",
        "id": "view-in-github"
      },
      "source": [
        "<a href=\"https://colab.research.google.com/github/zaedulislam/PyTorch_for_Deep_Learning_and_Computer_Vision/blob/main/Section%203%20-%20Intro%20to%20Tensors%20-%20PyTorch/7_Vector_Operations.ipynb\" target=\"_parent\"><img src=\"https://colab.research.google.com/assets/colab-badge.svg\" alt=\"Open In Colab\"/></a>"
      ]
    },
    {
      "cell_type": "markdown",
      "metadata": {},
      "source": [
        "## 7. Vector Operations"
      ]
    },
    {
      "cell_type": "code",
      "execution_count": 29,
      "metadata": {
        "colab": {
          "base_uri": "https://localhost:8080/"
        },
        "id": "Za9avvDUOLSY",
        "outputId": "2c4d140e-eda1-46bf-d73c-d9b413bf01de"
      },
      "outputs": [
        {
          "name": "stdout",
          "output_type": "stream",
          "text": [
            "Requirement already satisfied: torch in /usr/local/lib/python3.7/dist-packages (1.10.0+cu111)\n",
            "Requirement already satisfied: typing-extensions in /usr/local/lib/python3.7/dist-packages (from torch) (3.10.0.2)\n"
          ]
        }
      ],
      "source": [
        "!pip3 install torch"
      ]
    },
    {
      "cell_type": "code",
      "execution_count": 30,
      "metadata": {
        "id": "AWvNdAvBOf10"
      },
      "outputs": [],
      "source": [
        "import torch\n",
        "import matplotlib.pyplot as plt"
      ]
    },
    {
      "cell_type": "code",
      "execution_count": 31,
      "metadata": {
        "id": "9Eqxh-_FOmwr"
      },
      "outputs": [],
      "source": [
        "t_one = torch.tensor([1, 2, 3])\n",
        "t_two = torch.tensor([1, 2, 3])"
      ]
    },
    {
      "cell_type": "code",
      "execution_count": 32,
      "metadata": {
        "colab": {
          "base_uri": "https://localhost:8080/"
        },
        "id": "3RC4x1f3PYYZ",
        "outputId": "0953ccec-85b7-43a6-8c57-1ec6a44e8652"
      },
      "outputs": [
        {
          "data": {
            "text/plain": [
              "tensor([2, 4, 6])"
            ]
          },
          "execution_count": 32,
          "metadata": {},
          "output_type": "execute_result"
        }
      ],
      "source": [
        "# Add two tensors\n",
        "t_one + t_two"
      ]
    },
    {
      "cell_type": "code",
      "execution_count": 33,
      "metadata": {
        "colab": {
          "base_uri": "https://localhost:8080/"
        },
        "id": "AgsMnf1cPatg",
        "outputId": "653b65da-6146-4ff7-a638-df63dc7b7628"
      },
      "outputs": [
        {
          "data": {
            "text/plain": [
              "tensor([1, 4, 9])"
            ]
          },
          "execution_count": 33,
          "metadata": {},
          "output_type": "execute_result"
        }
      ],
      "source": [
        "# Multiply two tensors\n",
        "t_one * t_two"
      ]
    },
    {
      "cell_type": "code",
      "execution_count": 34,
      "metadata": {
        "colab": {
          "base_uri": "https://localhost:8080/"
        },
        "id": "R-HjXr1vQeeZ",
        "outputId": "53afdebe-6cdb-4111-d7e6-23e33ece1808"
      },
      "outputs": [
        {
          "data": {
            "text/plain": [
              "tensor([ 5, 10, 15])"
            ]
          },
          "execution_count": 34,
          "metadata": {},
          "output_type": "execute_result"
        }
      ],
      "source": [
        "# Vector can multiplied by a scalar\n",
        "t_one * 5"
      ]
    },
    {
      "cell_type": "code",
      "execution_count": 35,
      "metadata": {
        "colab": {
          "base_uri": "https://localhost:8080/"
        },
        "id": "8JKhwsezQvl9",
        "outputId": "5a81e706-29fe-440d-a5e8-80aee9b5d4c6"
      },
      "outputs": [
        {
          "name": "stdout",
          "output_type": "stream",
          "text": [
            "tensor(14)\n"
          ]
        }
      ],
      "source": [
        "dot_product = torch.dot(t_one, t_two)\n",
        "print(dot_product)"
      ]
    },
    {
      "cell_type": "code",
      "execution_count": 36,
      "metadata": {
        "colab": {
          "base_uri": "https://localhost:8080/"
        },
        "id": "TVY3Gkr4RNgD",
        "outputId": "e795b075-b8ef-4c6d-ff2a-cc1d23d78242"
      },
      "outputs": [
        {
          "data": {
            "text/plain": [
              "tensor([ 0.0000,  0.1010,  0.2020,  0.3030,  0.4040,  0.5051,  0.6061,  0.7071,\n",
              "         0.8081,  0.9091,  1.0101,  1.1111,  1.2121,  1.3131,  1.4141,  1.5152,\n",
              "         1.6162,  1.7172,  1.8182,  1.9192,  2.0202,  2.1212,  2.2222,  2.3232,\n",
              "         2.4242,  2.5253,  2.6263,  2.7273,  2.8283,  2.9293,  3.0303,  3.1313,\n",
              "         3.2323,  3.3333,  3.4343,  3.5354,  3.6364,  3.7374,  3.8384,  3.9394,\n",
              "         4.0404,  4.1414,  4.2424,  4.3434,  4.4444,  4.5455,  4.6465,  4.7475,\n",
              "         4.8485,  4.9495,  5.0505,  5.1515,  5.2525,  5.3535,  5.4545,  5.5556,\n",
              "         5.6566,  5.7576,  5.8586,  5.9596,  6.0606,  6.1616,  6.2626,  6.3636,\n",
              "         6.4646,  6.5657,  6.6667,  6.7677,  6.8687,  6.9697,  7.0707,  7.1717,\n",
              "         7.2727,  7.3737,  7.4747,  7.5758,  7.6768,  7.7778,  7.8788,  7.9798,\n",
              "         8.0808,  8.1818,  8.2828,  8.3838,  8.4848,  8.5859,  8.6869,  8.7879,\n",
              "         8.8889,  8.9899,  9.0909,  9.1919,  9.2929,  9.3939,  9.4950,  9.5960,\n",
              "         9.6970,  9.7980,  9.8990, 10.0000])"
            ]
          },
          "execution_count": 36,
          "metadata": {},
          "output_type": "execute_result"
        }
      ],
      "source": [
        "# Print out 100 equally spaced numbers between zero to 10\n",
        "torch.linspace(0, 10)"
      ]
    },
    {
      "cell_type": "code",
      "execution_count": 37,
      "metadata": {
        "colab": {
          "base_uri": "https://localhost:8080/"
        },
        "id": "9EaIKy4ERZvS",
        "outputId": "9c179c83-549f-4bb9-a7fe-a1616745c676"
      },
      "outputs": [
        {
          "data": {
            "text/plain": [
              "tensor([ 0.0000,  2.5000,  5.0000,  7.5000, 10.0000])"
            ]
          },
          "execution_count": 37,
          "metadata": {},
          "output_type": "execute_result"
        }
      ],
      "source": [
        "# We can explicitly specify a step size rather than resorting to the default if I specify step size of five. It will print out five equally spaced numbers between zero to 10.\n",
        "torch.linspace(0, 10, 5)"
      ]
    },
    {
      "cell_type": "code",
      "execution_count": 38,
      "metadata": {
        "colab": {
          "base_uri": "https://localhost:8080/"
        },
        "id": "sPJa7Ft4SVA-",
        "outputId": "6359c667-c6e8-4e79-eec5-97ff8d3f2b2b"
      },
      "outputs": [
        {
          "name": "stdout",
          "output_type": "stream",
          "text": [
            "[1.0000000e+00 1.2182494e+01 1.4841316e+02 1.8080425e+03 2.2026465e+04]\n"
          ]
        }
      ],
      "source": [
        "# The linspace function can come in handy when plotting a function on a two-dimensional coordinate system. \n",
        "# We will let the silent space represent the x-axis going from zero to 10 in intervals of two points five, where X will equal land space and the Y-axis will be a function of each X value.\n",
        "x = torch.linspace(0, 10, 5)\n",
        "y = torch.exp(x)\n",
        "print(y.numpy())"
      ]
    },
    {
      "cell_type": "code",
      "execution_count": 39,
      "metadata": {
        "colab": {
          "base_uri": "https://localhost:8080/",
          "height": 283
        },
        "id": "jheNdrhWSnKq",
        "outputId": "f753d6bb-5e65-459f-c2a4-864d73cfb034"
      },
      "outputs": [
        {
          "data": {
            "text/plain": [
              "[<matplotlib.lines.Line2D at 0x7f85df2add90>]"
            ]
          },
          "execution_count": 39,
          "metadata": {},
          "output_type": "execute_result"
        },
        {
          "data": {
            "image/png": "[encoded data removed]",
            "text/plain": [
              "<Figure size 432x288 with 1 Axes>"
            ]
          },
          "metadata": {
            "needs_background": "light"
          },
          "output_type": "display_data"
        }
      ],
      "source": [
        "plt.plot(x.numpy(), y.numpy())"
      ]
    },
    {
      "cell_type": "code",
      "execution_count": 40,
      "metadata": {
        "colab": {
          "base_uri": "https://localhost:8080/",
          "height": 283
        },
        "id": "PPm1eHssVK8J",
        "outputId": "9b27faf5-4b0d-42d6-d402-917609d6ce2c"
      },
      "outputs": [
        {
          "data": {
            "text/plain": [
              "[<matplotlib.lines.Line2D at 0x7f85df223390>]"
            ]
          },
          "execution_count": 40,
          "metadata": {},
          "output_type": "execute_result"
        },
        {
          "data": {
            "image/png": "[encoded data removed]",
            "text/plain": [
              "<Figure size 432x288 with 1 Axes>"
            ]
          },
          "metadata": {
            "needs_background": "light"
          },
          "output_type": "display_data"
        }
      ],
      "source": [
        "x = torch.linspace(0, 10, 100)\n",
        "y = torch.exp(x)\n",
        "plt.plot(x.numpy(), y.numpy())"
      ]
    },
    {
      "cell_type": "code",
      "execution_count": 43,
      "metadata": {
        "colab": {
          "base_uri": "https://localhost:8080/",
          "height": 283
        },
        "id": "54k5P2CgVigI",
        "outputId": "8f9ccabe-15a4-4edb-f462-01945d8eaa60"
      },
      "outputs": [
        {
          "data": {
            "text/plain": [
              "[<matplotlib.lines.Line2D at 0x7f85df191fd0>]"
            ]
          },
          "execution_count": 43,
          "metadata": {},
          "output_type": "execute_result"
        },
        {
          "data": {
            "image/png": "[encoded data removed]",
            "text/plain": [
              "<Figure size 432x288 with 1 Axes>"
            ]
          },
          "metadata": {
            "needs_background": "light"
          },
          "output_type": "display_data"
        }
      ],
      "source": [
        "x = torch.linspace(0, 10, 100)\n",
        "y = torch.sin(x)\n",
        "plt.plot(x.numpy(), y.numpy())"
      ]
    }
  ],
  "metadata": {
    "colab": {
      "authorship_tag": "ABX9TyPLIXSzCuyl1Sl2jhJI2Jtw",
      "include_colab_link": true,
      "name": "7. Vector Operations.ipynb",
      "provenance": []
    },
    "kernelspec": {
      "display_name": "Python 3",
      "name": "python3"
    },
    "language_info": {
      "name": "python"
    }
  },
  "nbformat": 4,
  "nbformat_minor": 0
}
