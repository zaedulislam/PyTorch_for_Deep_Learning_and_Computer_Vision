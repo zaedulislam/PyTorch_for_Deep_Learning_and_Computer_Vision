{
  "nbformat": 4,
  "nbformat_minor": 0,
  "metadata": {
    "colab": {
      "name": "9. Slicing 3D Tensors.ipynb",
      "provenance": [],
      "authorship_tag": "ABX9TyPnepxI2pO7/y+ZOTRT1cZT",
      "include_colab_link": true
    },
    "kernelspec": {
      "name": "python3",
      "display_name": "Python 3"
    },
    "language_info": {
      "name": "python"
    }
  },
  "cells": [
    {
      "cell_type": "markdown",
      "metadata": {
        "id": "view-in-github",
        "colab_type": "text"
      },
      "source": [
        "<a href=\"https://colab.research.google.com/github/zaedulislam/PyTorch_for_Deep_Learning_and_Computer_Vision/blob/main/Section%203%20-%20Intro%20to%20Tensors%20-%20PyTorch/9.%20Slicing%203D%20Tensors.ipynb\" target=\"_parent\"><img src=\"https://colab.research.google.com/assets/colab-badge.svg\" alt=\"Open In Colab\"/></a>"
      ]
    },
    {
      "cell_type": "markdown",
      "metadata": {
        "id": "cKaGw1sq7EaA"
      },
      "source": [
        "# 9. Slicing 3D Tensors"
      ]
    },
    {
      "cell_type": "markdown",
      "metadata": {
        "id": "aSMBpuqE7-E3"
      },
      "source": [
        "Notion Page: https://www.notion.so/zaedulislam/Section-3-Intro-to-Tensors-PyTorch-ec1c8bad7a0a4af0b64f18f80eeb2779#785c1ff380d94c7aa28acb607ffdf5ff"
      ]
    },
    {
      "cell_type": "code",
      "metadata": {
        "colab": {
          "base_uri": "https://localhost:8080/"
        },
        "id": "Wy1VwHg67B9o",
        "outputId": "fcc69eeb-d081-4a1d-a684-139ec76fbc99"
      },
      "source": [
        "!pip3 install torch "
      ],
      "execution_count": null,
      "outputs": [
        {
          "output_type": "stream",
          "name": "stdout",
          "text": [
            "Requirement already satisfied: torch in /usr/local/lib/python3.7/dist-packages (1.10.0+cu111)\n",
            "Requirement already satisfied: typing-extensions in /usr/local/lib/python3.7/dist-packages (from torch) (3.10.0.2)\n"
          ]
        }
      ]
    },
    {
      "cell_type": "code",
      "metadata": {
        "id": "sMtEgXOa76gu"
      },
      "source": [
        "import torch"
      ],
      "execution_count": null,
      "outputs": []
    },
    {
      "cell_type": "code",
      "metadata": {
        "colab": {
          "base_uri": "https://localhost:8080/"
        },
        "id": "LGfejKnP8JJR",
        "outputId": "d9468669-500b-4b1d-cb34-067f1a8ea51d"
      },
      "source": [
        "x = torch.arange(18).view(3, 2, 3)\n",
        "x"
      ],
      "execution_count": null,
      "outputs": [
        {
          "output_type": "execute_result",
          "data": {
            "text/plain": [
              "tensor([[[ 0,  1,  2],\n",
              "         [ 3,  4,  5]],\n",
              "\n",
              "        [[ 6,  7,  8],\n",
              "         [ 9, 10, 11]],\n",
              "\n",
              "        [[12, 13, 14],\n",
              "         [15, 16, 17]]])"
            ]
          },
          "metadata": {},
          "execution_count": 4
        }
      ]
    },
    {
      "cell_type": "code",
      "metadata": {
        "colab": {
          "base_uri": "https://localhost:8080/"
        },
        "id": "qVUdIjwt8kVz",
        "outputId": "b143531f-b65d-422c-a45e-b8a663af01af"
      },
      "source": [
        "x[2, 1, 2]"
      ],
      "execution_count": null,
      "outputs": [
        {
          "output_type": "execute_result",
          "data": {
            "text/plain": [
              "tensor(17)"
            ]
          },
          "metadata": {},
          "execution_count": 5
        }
      ]
    },
    {
      "cell_type": "code",
      "metadata": {
        "colab": {
          "base_uri": "https://localhost:8080/"
        },
        "id": "hS_igwcc_r--",
        "outputId": "b19408d3-92de-41cf-d410-ae5fc9a2df2c"
      },
      "source": [
        "x[1, 0:2, 0:3]"
      ],
      "execution_count": null,
      "outputs": [
        {
          "output_type": "execute_result",
          "data": {
            "text/plain": [
              "tensor([[ 6,  7,  8],\n",
              "        [ 9, 10, 11]])"
            ]
          },
          "metadata": {},
          "execution_count": 21
        }
      ]
    },
    {
      "cell_type": "code",
      "metadata": {
        "colab": {
          "base_uri": "https://localhost:8080/"
        },
        "id": "yuLzZgdRAnhx",
        "outputId": "dd5f4234-05a9-467f-8fcf-d827458dc249"
      },
      "source": [
        "# Since we're slicing all two rows, we can simply omit the range and it will be inferred as such\n",
        "x[1, :, 0:3]"
      ],
      "execution_count": null,
      "outputs": [
        {
          "output_type": "execute_result",
          "data": {
            "text/plain": [
              "tensor([[ 6,  7,  8],\n",
              "        [ 9, 10, 11]])"
            ]
          },
          "metadata": {},
          "execution_count": 22
        }
      ]
    },
    {
      "cell_type": "code",
      "metadata": {
        "colab": {
          "base_uri": "https://localhost:8080/"
        },
        "id": "MN5Xxh5aAvr9",
        "outputId": "fd897703-c4de-4fff-9160-d7d4a426406e"
      },
      "source": [
        "# Since we're slicing all three columns, we can simply omit the range and it will be inferred as such\n",
        "x[1, 0:2, :]"
      ],
      "execution_count": null,
      "outputs": [
        {
          "output_type": "execute_result",
          "data": {
            "text/plain": [
              "tensor([[ 6,  7,  8],\n",
              "        [ 9, 10, 11]])"
            ]
          },
          "metadata": {},
          "execution_count": 19
        }
      ]
    }
  ]
}