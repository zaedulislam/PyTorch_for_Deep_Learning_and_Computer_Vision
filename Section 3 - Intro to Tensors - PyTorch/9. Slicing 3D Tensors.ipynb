{
  "nbformat": 4,
  "nbformat_minor": 0,
  "metadata": {
    "colab": {
      "name": "9. Slicing 3D Tensors.ipynb",
      "provenance": [],
      "authorship_tag": "ABX9TyOTFr52zl/PtqPSCCXBX32S",
      "include_colab_link": true
    },
    "kernelspec": {
      "name": "python3",
      "display_name": "Python 3"
    },
    "language_info": {
      "name": "python"
    }
  },
  "cells": [
    {
      "cell_type": "markdown",
      "metadata": {
        "id": "view-in-github",
        "colab_type": "text"
      },
      "source": [
        "<a href=\"https://colab.research.google.com/github/zaedulislam/PyTorch_for_Deep_Learning_and_Computer_Vision/blob/main/Section%203%20-%20Intro%20to%20Tensors%20-%20PyTorch/9.%20Slicing%203D%20Tensors.ipynb\" target=\"_parent\"><img src=\"https://colab.research.google.com/assets/colab-badge.svg\" alt=\"Open In Colab\"/></a>"
      ]
    },
    {
      "cell_type": "markdown",
      "metadata": {
        "id": "aSMBpuqE7-E3"
      },
      "source": [
        "Notion Page: https://www.notion.so/islamzaedul/Section-3-Intro-to-Tensors-PyTorch-00312679b16344739b86e8636e470770#d0b721c386e0425bab317f2e8f157c3f"
      ]
    },
    {
      "cell_type": "code",
      "metadata": {
        "colab": {
          "base_uri": "https://localhost:8080/"
        },
        "id": "Wy1VwHg67B9o",
        "outputId": "abbbf977-299d-4e86-c498-8fe34b795d48"
      },
      "source": [
        "!pip3 install torch "
      ],
      "execution_count": 12,
      "outputs": [
        {
          "output_type": "stream",
          "name": "stdout",
          "text": [
            "Requirement already satisfied: torch in /usr/local/lib/python3.7/dist-packages (1.10.0+cu111)\n",
            "Requirement already satisfied: typing-extensions in /usr/local/lib/python3.7/dist-packages (from torch) (3.10.0.2)\n"
          ]
        }
      ]
    },
    {
      "cell_type": "code",
      "metadata": {
        "id": "sMtEgXOa76gu"
      },
      "source": [
        "import torch"
      ],
      "execution_count": 13,
      "outputs": []
    },
    {
      "cell_type": "markdown",
      "metadata": {
        "id": "cKaGw1sq7EaA"
      },
      "source": [
        "# 9. Slicing 3D Tensors"
      ]
    },
    {
      "cell_type": "code",
      "metadata": {
        "colab": {
          "base_uri": "https://localhost:8080/"
        },
        "id": "LGfejKnP8JJR",
        "outputId": "5a2ef6e9-a8b3-4bc1-e9f7-7f7ece622b0b"
      },
      "source": [
        "x = torch.arange(18).view(3, 2, 3)\n",
        "x"
      ],
      "execution_count": 14,
      "outputs": [
        {
          "output_type": "execute_result",
          "data": {
            "text/plain": [
              "tensor([[[ 0,  1,  2],\n",
              "         [ 3,  4,  5]],\n",
              "\n",
              "        [[ 6,  7,  8],\n",
              "         [ 9, 10, 11]],\n",
              "\n",
              "        [[12, 13, 14],\n",
              "         [15, 16, 17]]])"
            ]
          },
          "metadata": {},
          "execution_count": 14
        }
      ]
    },
    {
      "cell_type": "code",
      "metadata": {
        "colab": {
          "base_uri": "https://localhost:8080/"
        },
        "id": "qVUdIjwt8kVz",
        "outputId": "69818f18-a3ee-40ae-f919-2d436895b494"
      },
      "source": [
        "x[2, 1, 2]"
      ],
      "execution_count": 15,
      "outputs": [
        {
          "output_type": "execute_result",
          "data": {
            "text/plain": [
              "tensor(17)"
            ]
          },
          "metadata": {},
          "execution_count": 15
        }
      ]
    },
    {
      "cell_type": "markdown",
      "source": [
        "**Parameters:**\n",
        "\n",
        "> tensor_position_start: Specifies the Tensor to start iterating\n",
        "\n",
        "> tensor_position_end: Specifies the Tensor to stop iterating\n",
        "\n",
        "> tensor_dimension_start: Specifies the Tensor to start the iteration of tensor in given positions\n",
        "\n",
        "> tensor_dimension_stop: Specifies the Tensor to stop the iteration of tensor in given positions\n",
        "\n",
        ">  tensor_value_start: Specifies the start position of the  tensor to iterate the elements given in dimensions\n",
        "\n",
        "> tensor_value_stop: Specifies the end position of the tensor to iterate the elements given in dimensions"
      ],
      "metadata": {
        "id": "GbLUdQqsYFqw"
      }
    },
    {
      "cell_type": "code",
      "metadata": {
        "colab": {
          "base_uri": "https://localhost:8080/"
        },
        "id": "hS_igwcc_r--",
        "outputId": "9ae471e6-2b2d-4a6f-87e3-65389e3d9db2"
      },
      "source": [
        "x[1, 0:2, 0:3]"
      ],
      "execution_count": 22,
      "outputs": [
        {
          "output_type": "execute_result",
          "data": {
            "text/plain": [
              "tensor([[ 6,  7,  8],\n",
              "        [ 9, 10, 11]])"
            ]
          },
          "metadata": {},
          "execution_count": 22
        }
      ]
    },
    {
      "cell_type": "markdown",
      "source": [
        "**Since we're slicing all two rows, we can simply omit the range and it will be inferred as such**"
      ],
      "metadata": {
        "id": "59KVWQhvWGMl"
      }
    },
    {
      "cell_type": "code",
      "metadata": {
        "colab": {
          "base_uri": "https://localhost:8080/"
        },
        "id": "yuLzZgdRAnhx",
        "outputId": "7e251aba-8709-441c-e149-ed68e34e9f68"
      },
      "source": [
        "x[1, :, 0:3]"
      ],
      "execution_count": 17,
      "outputs": [
        {
          "output_type": "execute_result",
          "data": {
            "text/plain": [
              "tensor([[ 6,  7,  8],\n",
              "        [ 9, 10, 11]])"
            ]
          },
          "metadata": {},
          "execution_count": 17
        }
      ]
    },
    {
      "cell_type": "markdown",
      "source": [
        "**Since we're slicing all three columns, we can simply omit the range and it will be inferred as such**"
      ],
      "metadata": {
        "id": "DYqCtLJRWI8Y"
      }
    },
    {
      "cell_type": "code",
      "metadata": {
        "colab": {
          "base_uri": "https://localhost:8080/"
        },
        "id": "MN5Xxh5aAvr9",
        "outputId": "60e78b1b-5a4f-412f-cffd-1504a4622d1c"
      },
      "source": [
        "x[1, 0:2, :]"
      ],
      "execution_count": 18,
      "outputs": [
        {
          "output_type": "execute_result",
          "data": {
            "text/plain": [
              "tensor([[ 6,  7,  8],\n",
              "        [ 9, 10, 11]])"
            ]
          },
          "metadata": {},
          "execution_count": 18
        }
      ]
    }
  ]
}