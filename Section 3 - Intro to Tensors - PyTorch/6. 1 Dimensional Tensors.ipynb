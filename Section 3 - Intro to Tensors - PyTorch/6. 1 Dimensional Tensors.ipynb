{
  "cells": [
    {
      "cell_type": "markdown",
      "metadata": {
        "colab_type": "text",
        "id": "view-in-github"
      },
      "source": [
        "<a href=\"https://colab.research.google.com/github/zaedulislam/PyTorch_for_Deep_Learning_and_Computer_Vision/blob/main/Section%203%20-%20Intro%20to%20Tensors%20-%20PyTorch/Intro_to_Tensors.ipynb\" target=\"_parent\"><img src=\"https://colab.research.google.com/assets/colab-badge.svg\" alt=\"Open In Colab\"/></a>"
      ]
    },
    {
      "cell_type": "markdown",
      "metadata": {
        "id": "N9Df9KlbjVcm"
      },
      "source": [
        "# 6. 1 Dimensional Tensors"
      ]
    },
    {
      "cell_type": "markdown",
      "metadata": {
        "id": "kJP1WpLHHeIt"
      },
      "source": [
        "Notion Page: https://www.notion.so/islamzaedul/Section-3-Intro-to-Tensors-PyTorch-00312679b16344739b86e8636e470770#e4321bce9ad54cb788e89d374c25b39e"
      ]
    },
    {
      "cell_type": "code",
      "execution_count": 20,
      "metadata": {
        "colab": {
          "base_uri": "https://localhost:8080/"
        },
        "id": "O9m_JOR4jYhR",
        "outputId": "318b4809-8ec7-4dfd-fc4f-d0aedf5d295f"
      },
      "outputs": [
        {
          "name": "stdout",
          "output_type": "stream",
          "text": [
            "Requirement already satisfied: torch in /usr/local/lib/python3.7/dist-packages (1.10.0+cu111)\n",
            "Requirement already satisfied: typing-extensions in /usr/local/lib/python3.7/dist-packages (from torch) (3.10.0.2)\n"
          ]
        }
      ],
      "source": [
        "!pip3 install torch"
      ]
    },
    {
      "cell_type": "code",
      "execution_count": 53,
      "metadata": {
        "id": "m5v2Er5YjleM"
      },
      "outputs": [],
      "source": [
        "import torch\n",
        "import numpy as np"
      ]
    },
    {
      "cell_type": "code",
      "execution_count": 22,
      "metadata": {
        "colab": {
          "base_uri": "https://localhost:8080/"
        },
        "id": "cx24Ig8gjvQ7",
        "outputId": "ece70ffe-7cec-47cc-a70e-d420f3a2a589"
      },
      "outputs": [
        {
          "name": "stdout",
          "output_type": "stream",
          "text": [
            "tensor([1, 2, 3, 4, 5, 6])\n"
          ]
        }
      ],
      "source": [
        "# Create a 1D tensor\n",
        "v = torch.tensor([1, 2, 3, 4, 5, 6])\n",
        "print(v)"
      ]
    },
    {
      "cell_type": "code",
      "execution_count": 23,
      "metadata": {
        "colab": {
          "base_uri": "https://localhost:8080/"
        },
        "id": "zsiZlNPJkBlD",
        "outputId": "7baea3a7-5095-466f-e1f5-3799e9581603"
      },
      "outputs": [
        {
          "name": "stdout",
          "output_type": "stream",
          "text": [
            "torch.int64\n"
          ]
        }
      ],
      "source": [
        "# To determine the datatype contained in the tensor\n",
        "print(v.dtype)"
      ]
    },
    {
      "cell_type": "code",
      "execution_count": 24,
      "metadata": {
        "colab": {
          "base_uri": "https://localhost:8080/"
        },
        "id": "PTshHKmNkkO2",
        "outputId": "54fc8b17-e9f8-4c99-b925-780baf56278f"
      },
      "outputs": [
        {
          "name": "stdout",
          "output_type": "stream",
          "text": [
            "tensor(3)\n"
          ]
        }
      ],
      "source": [
        "# Indexing a tenser is very similar to how we would index a python list\n",
        "print(v[2])"
      ]
    },
    {
      "cell_type": "code",
      "execution_count": 25,
      "metadata": {
        "colab": {
          "base_uri": "https://localhost:8080/"
        },
        "id": "em4ktcQumQHF",
        "outputId": "b7fb08e8-1366-487f-804e-0a4a1138614c"
      },
      "outputs": [
        {
          "name": "stdout",
          "output_type": "stream",
          "text": [
            "tensor([2, 3, 4])\n"
          ]
        }
      ],
      "source": [
        "# Slice from index one to Index four. And notice that returns the integers that indices one, two and three, it does not grab the integer at index four since the stop index is exclusive.\n",
        "print(v[1:4])"
      ]
    },
    {
      "cell_type": "code",
      "execution_count": 26,
      "metadata": {
        "colab": {
          "base_uri": "https://localhost:8080/"
        },
        "id": "t-rkERBwwkc2",
        "outputId": "02aee86f-e9ab-4cef-92c3-502717d75d3b"
      },
      "outputs": [
        {
          "name": "stdout",
          "output_type": "stream",
          "text": [
            "tensor([2, 3, 4, 5, 6])\n"
          ]
        }
      ],
      "source": [
        "# To grab everything from index one and beyond, we can simply use the same shortcut as what would for Python\n",
        "print(v[1:])"
      ]
    },
    {
      "cell_type": "code",
      "execution_count": 27,
      "metadata": {
        "id": "V2zwCF00xQrD"
      },
      "outputs": [],
      "source": [
        "f = torch.FloatTensor([1, 2, 3, 4, 5, 6])"
      ]
    },
    {
      "cell_type": "code",
      "execution_count": 28,
      "metadata": {
        "colab": {
          "base_uri": "https://localhost:8080/"
        },
        "id": "09kBqxb9xdZM",
        "outputId": "d5521f0f-bbe7-42fb-fdb0-7530bbce3121"
      },
      "outputs": [
        {
          "name": "stdout",
          "output_type": "stream",
          "text": [
            "tensor([1., 2., 3., 4., 5., 6.])\n"
          ]
        }
      ],
      "source": [
        "print(f)"
      ]
    },
    {
      "cell_type": "code",
      "execution_count": 29,
      "metadata": {
        "colab": {
          "base_uri": "https://localhost:8080/"
        },
        "id": "FLcL2NlVxfxX",
        "outputId": "9d7f9a49-d8c5-4c4e-ba83-6b87ce6d9b38"
      },
      "outputs": [
        {
          "name": "stdout",
          "output_type": "stream",
          "text": [
            "torch.float32\n"
          ]
        }
      ],
      "source": [
        "print(f.dtype)"
      ]
    },
    {
      "cell_type": "code",
      "execution_count": 30,
      "metadata": {
        "colab": {
          "base_uri": "https://localhost:8080/"
        },
        "id": "AE2PMcOLxlzw",
        "outputId": "b8ff66fb-e670-4d96-fa0d-ed6c3fda9983"
      },
      "outputs": [
        {
          "name": "stdout",
          "output_type": "stream",
          "text": [
            "torch.Size([6])\n"
          ]
        }
      ],
      "source": [
        "# Determine the size of the tensor\n",
        "print(f.size())"
      ]
    },
    {
      "cell_type": "code",
      "execution_count": 35,
      "metadata": {
        "colab": {
          "base_uri": "https://localhost:8080/"
        },
        "id": "IJ8APERp2lh5",
        "outputId": "0a76e2ac-97f1-4914-f37a-b3b5b9fedf5b"
      },
      "outputs": [
        {
          "data": {
            "text/plain": [
              "tensor([[1],\n",
              "        [2],\n",
              "        [3],\n",
              "        [4],\n",
              "        [5],\n",
              "        [6]])"
            ]
          },
          "execution_count": 35,
          "metadata": {},
          "output_type": "execute_result"
        }
      ],
      "source": [
        "# View the 1D tenor(v) as six rows of data in a single column. It's similar to reshape method of numpy to reshape an array\n",
        "v.view(6, 1)"
      ]
    },
    {
      "cell_type": "code",
      "execution_count": 32,
      "metadata": {
        "colab": {
          "base_uri": "https://localhost:8080/"
        },
        "id": "mCsQv3_o2qmT",
        "outputId": "d12ed284-0348-4f27-98cf-f054406cc537"
      },
      "outputs": [
        {
          "name": "stdout",
          "output_type": "stream",
          "text": [
            "tensor([1, 2, 3, 4, 5, 6])\n"
          ]
        }
      ],
      "source": [
        "print(v)"
      ]
    },
    {
      "cell_type": "code",
      "execution_count": 45,
      "metadata": {
        "colab": {
          "base_uri": "https://localhost:8080/",
          "height": 204
        },
        "id": "foeDbGwz69NH",
        "outputId": "59b788e3-5f5d-4620-aa5f-6cf79ba26471"
      },
      "outputs": [
        {
          "ename": "RuntimeError",
          "evalue": "ignored",
          "output_type": "error",
          "traceback": [
            "\u001b[0;31m---------------------------------------------------------------------------\u001b[0m",
            "\u001b[0;31mRuntimeError\u001b[0m                              Traceback (most recent call last)",
            "\u001b[0;32m<ipython-input-45-edbbc8ef8917>\u001b[0m in \u001b[0;36m<module>\u001b[0;34m()\u001b[0m\n\u001b[1;32m      1\u001b[0m \u001b[0;31m# What we rearrange, our tensor must be compatible with your original input, i.e. if we were to rearrange the tensor into seven rows in one column.\u001b[0m\u001b[0;34m\u001b[0m\u001b[0;34m\u001b[0m\u001b[0;34m\u001b[0m\u001b[0m\n\u001b[1;32m      2\u001b[0m \u001b[0;31m# It would throw an error, since I we have six elements which would be insufficient to make seven rows out of it.\u001b[0m\u001b[0;34m\u001b[0m\u001b[0;34m\u001b[0m\u001b[0;34m\u001b[0m\u001b[0m\n\u001b[0;32m----> 3\u001b[0;31m \u001b[0mv\u001b[0m\u001b[0;34m.\u001b[0m\u001b[0mview\u001b[0m\u001b[0;34m(\u001b[0m\u001b[0;36m7\u001b[0m\u001b[0;34m,\u001b[0m \u001b[0;36m1\u001b[0m\u001b[0;34m)\u001b[0m\u001b[0;34m\u001b[0m\u001b[0;34m\u001b[0m\u001b[0m\n\u001b[0m",
            "\u001b[0;31mRuntimeError\u001b[0m: shape '[7, 1]' is invalid for input of size 6"
          ]
        }
      ],
      "source": [
        "# What we rearrange, our tensor must be compatible with your original input, i.e. if we were to rearrange the tensor into seven rows in one column. \n",
        "# It would throw an error, since I we have six elements which would be insufficient to make seven rows out of it.\n",
        "v.view(7, 1)"
      ]
    },
    {
      "cell_type": "code",
      "execution_count": 46,
      "metadata": {
        "colab": {
          "base_uri": "https://localhost:8080/"
        },
        "id": "_KZosJ_B9Xvn",
        "outputId": "3ce36760-f617-47f8-ffe4-c274aa7ffef8"
      },
      "outputs": [
        {
          "data": {
            "text/plain": [
              "tensor([[1, 2],\n",
              "        [3, 4],\n",
              "        [5, 6]])"
            ]
          },
          "execution_count": 46,
          "metadata": {},
          "output_type": "execute_result"
        }
      ],
      "source": [
        "v.view(3, 2)"
      ]
    },
    {
      "cell_type": "markdown",
      "metadata": {
        "id": "yu_Jt3Yz_6av"
      },
      "source": [
        "### We can interchangeably switch between numpy arrays and tensors."
      ]
    },
    {
      "cell_type": "code",
      "execution_count": 50,
      "metadata": {
        "colab": {
          "base_uri": "https://localhost:8080/"
        },
        "id": "a0K2WmXD9sBj",
        "outputId": "62e1160c-1627-4a2f-e2b5-ffa0a6f3468d"
      },
      "outputs": [
        {
          "data": {
            "text/plain": [
              "tensor([[1, 2],\n",
              "        [3, 4],\n",
              "        [5, 6]])"
            ]
          },
          "execution_count": 50,
          "metadata": {},
          "output_type": "execute_result"
        }
      ],
      "source": [
        "# If we don't want to explicitely specity the number of column, use -1 and let the Pytorch decide for us\n",
        "v.view(3, -1)"
      ]
    },
    {
      "cell_type": "code",
      "execution_count": 57,
      "metadata": {
        "colab": {
          "base_uri": "https://localhost:8080/"
        },
        "id": "56EjCDlv-t6m",
        "outputId": "ed05618c-4352-4197-be82-eb23cbc9366c"
      },
      "outputs": [
        {
          "name": "stdout",
          "output_type": "stream",
          "text": [
            "[1 2 3 4 5]\n"
          ]
        }
      ],
      "source": [
        "a = np.array([1, 2, 3, 4, 5])\n",
        "print(a)"
      ]
    },
    {
      "cell_type": "code",
      "execution_count": 56,
      "metadata": {
        "colab": {
          "base_uri": "https://localhost:8080/"
        },
        "id": "DCzW_5rW_Fd5",
        "outputId": "0eddc0be-3f76-4cfb-cd70-4c03f929d322"
      },
      "outputs": [
        {
          "name": "stdout",
          "output_type": "stream",
          "text": [
            "tensor([1, 2, 3, 4, 5])\n"
          ]
        }
      ],
      "source": [
        "# Transform a numpy array to a tensor\n",
        "tensor_cnv = torch.from_numpy(a)\n",
        "print(tensor_cnv)"
      ]
    },
    {
      "cell_type": "code",
      "execution_count": 61,
      "metadata": {
        "colab": {
          "base_uri": "https://localhost:8080/"
        },
        "id": "PqrwI1wm_gvc",
        "outputId": "4ab0e270-8b32-4445-f0a1-5304ab618e9c"
      },
      "outputs": [
        {
          "name": "stdout",
          "output_type": "stream",
          "text": [
            "[1 2 3 4 5]\n"
          ]
        }
      ],
      "source": [
        "# Tansform a tensor to a numpy array\n",
        "numpy_cnv = tensor_cnv.numpy()\n",
        "print(numpy_cnv)"
      ]
    }
  ],
  "metadata": {
    "colab": {
      "authorship_tag": "ABX9TyMlytYDzdfuR/MjNGC0FZSS",
      "include_colab_link": true,
      "name": "Intro_to_Tensors.ipynb",
      "provenance": []
    },
    "kernelspec": {
      "display_name": "Python 3",
      "name": "python3"
    },
    "language_info": {
      "name": "python"
    }
  },
  "nbformat": 4,
  "nbformat_minor": 0
}
