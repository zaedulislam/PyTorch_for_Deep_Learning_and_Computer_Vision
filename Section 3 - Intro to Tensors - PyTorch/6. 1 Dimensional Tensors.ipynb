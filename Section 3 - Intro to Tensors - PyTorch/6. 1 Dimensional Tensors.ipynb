{
  "nbformat": 4,
  "nbformat_minor": 0,
  "metadata": {
    "colab": {
      "name": "6. 1 Dimensional Tensors.ipynb",
      "provenance": [],
      "authorship_tag": "ABX9TyMQvDER5kbXBqtZgWdKKFDP",
      "include_colab_link": true
    },
    "kernelspec": {
      "name": "python3",
      "display_name": "Python 3"
    },
    "language_info": {
      "name": "python"
    }
  },
  "cells": [
    {
      "cell_type": "markdown",
      "metadata": {
        "id": "view-in-github",
        "colab_type": "text"
      },
      "source": [
        "<a href=\"https://colab.research.google.com/github/zaedulislam/PyTorch_for_Deep_Learning_and_Computer_Vision/blob/main/Section%203%20-%20Intro%20to%20Tensors%20-%20PyTorch/6.%201%20Dimensional%20Tensors.ipynb\" target=\"_parent\"><img src=\"https://colab.research.google.com/assets/colab-badge.svg\" alt=\"Open In Colab\"/></a>"
      ]
    },
    {
      "cell_type": "markdown",
      "metadata": {
        "id": "kJP1WpLHHeIt"
      },
      "source": [
        "Notion Page: https://www.notion.so/islamzaedul/Section-3-Intro-to-Tensors-PyTorch-00312679b16344739b86e8636e470770#e4321bce9ad54cb788e89d374c25b39e"
      ]
    },
    {
      "cell_type": "code",
      "metadata": {
        "id": "O9m_JOR4jYhR",
        "colab": {
          "base_uri": "https://localhost:8080/"
        },
        "outputId": "78c626e8-14a8-4258-8858-ba95d323c542"
      },
      "source": [
        "!pip3 install torch"
      ],
      "execution_count": null,
      "outputs": [
        {
          "output_type": "stream",
          "name": "stdout",
          "text": [
            "Requirement already satisfied: torch in /usr/local/lib/python3.7/dist-packages (1.10.0+cu111)\n",
            "Requirement already satisfied: typing-extensions in /usr/local/lib/python3.7/dist-packages (from torch) (3.10.0.2)\n"
          ]
        }
      ]
    },
    {
      "cell_type": "code",
      "metadata": {
        "id": "m5v2Er5YjleM"
      },
      "source": [
        "import torch\n",
        "import numpy as np"
      ],
      "execution_count": null,
      "outputs": []
    },
    {
      "cell_type": "markdown",
      "metadata": {
        "id": "N9Df9KlbjVcm"
      },
      "source": [
        "# 6. 1 Dimensional Tensors"
      ]
    },
    {
      "cell_type": "markdown",
      "source": [
        "**Create a 1D tensor**"
      ],
      "metadata": {
        "id": "RBC8gC2NHgOo"
      }
    },
    {
      "cell_type": "code",
      "metadata": {
        "colab": {
          "base_uri": "https://localhost:8080/"
        },
        "id": "cx24Ig8gjvQ7",
        "outputId": "0c31e5c4-3095-471c-a850-13d1bd914247"
      },
      "source": [
        "v = torch.tensor([1, 2, 3, 4, 5, 6])\n",
        "print(v)"
      ],
      "execution_count": null,
      "outputs": [
        {
          "output_type": "stream",
          "name": "stdout",
          "text": [
            "tensor([1, 2, 3, 4, 5, 6])\n"
          ]
        }
      ]
    },
    {
      "cell_type": "markdown",
      "source": [
        "**Determine the datatype contained in the tensor**"
      ],
      "metadata": {
        "id": "VCXjw0vDHndt"
      }
    },
    {
      "cell_type": "code",
      "metadata": {
        "colab": {
          "base_uri": "https://localhost:8080/"
        },
        "id": "zsiZlNPJkBlD",
        "outputId": "4692d007-63eb-414f-9e4b-0df3728e6bdd"
      },
      "source": [
        "print(v.dtype)"
      ],
      "execution_count": null,
      "outputs": [
        {
          "output_type": "stream",
          "name": "stdout",
          "text": [
            "torch.int64\n"
          ]
        }
      ]
    },
    {
      "cell_type": "markdown",
      "source": [
        "**Indexing a tensor is very similar to how we would index a python list**"
      ],
      "metadata": {
        "id": "aZKMRx23H4LL"
      }
    },
    {
      "cell_type": "code",
      "metadata": {
        "colab": {
          "base_uri": "https://localhost:8080/"
        },
        "id": "PTshHKmNkkO2",
        "outputId": "785032b3-52fa-4946-ed88-09d9c80a0dfa"
      },
      "source": [
        "print(v[2])"
      ],
      "execution_count": null,
      "outputs": [
        {
          "output_type": "stream",
          "name": "stdout",
          "text": [
            "tensor(3)\n"
          ]
        }
      ]
    },
    {
      "cell_type": "markdown",
      "source": [
        "**Slice from index one to index four. And notice that returns the integers that indices one, two and three, it does not grab the integer at index four since the stop index is exclusive**"
      ],
      "metadata": {
        "id": "6b4xqvZ3KZAe"
      }
    },
    {
      "cell_type": "code",
      "metadata": {
        "colab": {
          "base_uri": "https://localhost:8080/"
        },
        "id": "em4ktcQumQHF",
        "outputId": "14c209fb-e181-4bdb-fdca-0eccd141ea34"
      },
      "source": [
        "print(v[1:4])"
      ],
      "execution_count": null,
      "outputs": [
        {
          "output_type": "stream",
          "name": "stdout",
          "text": [
            "tensor([2, 3, 4])\n"
          ]
        }
      ]
    },
    {
      "cell_type": "markdown",
      "source": [
        "**To grab everything from index one and beyond, we can simply use the same shortcut as what would for Python**"
      ],
      "metadata": {
        "id": "8kZ48T-tK1I3"
      }
    },
    {
      "cell_type": "code",
      "metadata": {
        "colab": {
          "base_uri": "https://localhost:8080/"
        },
        "id": "t-rkERBwwkc2",
        "outputId": "a720063a-ab4f-4df1-810f-c7ee0ab15470"
      },
      "source": [
        "print(v[1:])"
      ],
      "execution_count": null,
      "outputs": [
        {
          "output_type": "stream",
          "name": "stdout",
          "text": [
            "tensor([2, 3, 4, 5, 6])\n"
          ]
        }
      ]
    },
    {
      "cell_type": "markdown",
      "source": [
        "**Convert to Floating-point Number**"
      ],
      "metadata": {
        "id": "v9BFeMopK_su"
      }
    },
    {
      "cell_type": "code",
      "metadata": {
        "id": "V2zwCF00xQrD"
      },
      "source": [
        "f = torch.FloatTensor([1, 2, 3, 4, 5, 6])"
      ],
      "execution_count": null,
      "outputs": []
    },
    {
      "cell_type": "code",
      "metadata": {
        "colab": {
          "base_uri": "https://localhost:8080/"
        },
        "id": "09kBqxb9xdZM",
        "outputId": "b3e5064e-1697-4d28-8849-f07e89f4bcc1"
      },
      "source": [
        "print(f)"
      ],
      "execution_count": null,
      "outputs": [
        {
          "output_type": "stream",
          "name": "stdout",
          "text": [
            "tensor([1., 2., 3., 4., 5., 6.])\n"
          ]
        }
      ]
    },
    {
      "cell_type": "code",
      "metadata": {
        "colab": {
          "base_uri": "https://localhost:8080/"
        },
        "id": "FLcL2NlVxfxX",
        "outputId": "da9969a7-f0f8-4524-e966-f55a34ec3296"
      },
      "source": [
        "print(f.dtype)"
      ],
      "execution_count": null,
      "outputs": [
        {
          "output_type": "stream",
          "name": "stdout",
          "text": [
            "torch.float32\n"
          ]
        }
      ]
    },
    {
      "cell_type": "markdown",
      "source": [
        "**Determine the size of the tensor**"
      ],
      "metadata": {
        "id": "1mpqBkKtLKXZ"
      }
    },
    {
      "cell_type": "code",
      "metadata": {
        "colab": {
          "base_uri": "https://localhost:8080/"
        },
        "id": "AE2PMcOLxlzw",
        "outputId": "e1f5ce45-780c-4fc1-f6b8-857fcc2ef7e4"
      },
      "source": [
        "print(f.size())"
      ],
      "execution_count": null,
      "outputs": [
        {
          "output_type": "stream",
          "name": "stdout",
          "text": [
            "torch.Size([6])\n"
          ]
        }
      ]
    },
    {
      "cell_type": "markdown",
      "source": [
        "### Reshaping Tensor"
      ],
      "metadata": {
        "id": "JXHVblBlMLnV"
      }
    },
    {
      "cell_type": "markdown",
      "source": [
        "**View the 1D tensor(v) as six rows of data in a single column. It's similar to reshape method of numpy to reshape an array**"
      ],
      "metadata": {
        "id": "PCHUdfFWLV4p"
      }
    },
    {
      "cell_type": "code",
      "metadata": {
        "colab": {
          "base_uri": "https://localhost:8080/"
        },
        "id": "IJ8APERp2lh5",
        "outputId": "e92a3b28-a95b-4d9a-b12b-1f21f9b32945"
      },
      "source": [
        "v.view(6, 1)"
      ],
      "execution_count": null,
      "outputs": [
        {
          "output_type": "execute_result",
          "data": {
            "text/plain": [
              "tensor([[1],\n",
              "        [2],\n",
              "        [3],\n",
              "        [4],\n",
              "        [5],\n",
              "        [6]])"
            ]
          },
          "metadata": {},
          "execution_count": 21
        }
      ]
    },
    {
      "cell_type": "code",
      "metadata": {
        "colab": {
          "base_uri": "https://localhost:8080/"
        },
        "id": "mCsQv3_o2qmT",
        "outputId": "4e4c2352-dcfd-4a06-efdc-052401b57041"
      },
      "source": [
        "print(v)"
      ],
      "execution_count": null,
      "outputs": [
        {
          "output_type": "stream",
          "name": "stdout",
          "text": [
            "tensor([1, 2, 3, 4, 5, 6])\n"
          ]
        }
      ]
    },
    {
      "cell_type": "markdown",
      "source": [
        "**What we rearrange, our tensor must be compatible with your original input, i.e. if we were to rearrange the tensor into seven rows in one column. It would throw an error, since I we have six elements which would be insufficient to make seven rows out of it.**"
      ],
      "metadata": {
        "id": "11Aw81TsL3PC"
      }
    },
    {
      "cell_type": "code",
      "metadata": {
        "colab": {
          "base_uri": "https://localhost:8080/",
          "height": 165
        },
        "id": "foeDbGwz69NH",
        "outputId": "ea76f060-0656-458f-db0f-b9c77ae663bc"
      },
      "source": [
        "v.view(7, 1)"
      ],
      "execution_count": null,
      "outputs": [
        {
          "output_type": "error",
          "ename": "RuntimeError",
          "evalue": "ignored",
          "traceback": [
            "\u001b[0;31m---------------------------------------------------------------------------\u001b[0m",
            "\u001b[0;31mRuntimeError\u001b[0m                              Traceback (most recent call last)",
            "\u001b[0;32m<ipython-input-23-bd7faa9c60e8>\u001b[0m in \u001b[0;36m<module>\u001b[0;34m()\u001b[0m\n\u001b[0;32m----> 1\u001b[0;31m \u001b[0mv\u001b[0m\u001b[0;34m.\u001b[0m\u001b[0mview\u001b[0m\u001b[0;34m(\u001b[0m\u001b[0;36m7\u001b[0m\u001b[0;34m,\u001b[0m \u001b[0;36m1\u001b[0m\u001b[0;34m)\u001b[0m\u001b[0;34m\u001b[0m\u001b[0;34m\u001b[0m\u001b[0m\n\u001b[0m",
            "\u001b[0;31mRuntimeError\u001b[0m: shape '[7, 1]' is invalid for input of size 6"
          ]
        }
      ]
    },
    {
      "cell_type": "code",
      "metadata": {
        "colab": {
          "base_uri": "https://localhost:8080/"
        },
        "id": "_KZosJ_B9Xvn",
        "outputId": "3ce36760-f617-47f8-ffe4-c274aa7ffef8"
      },
      "source": [
        "v.view(3, 2)"
      ],
      "execution_count": null,
      "outputs": [
        {
          "output_type": "execute_result",
          "data": {
            "text/plain": [
              "tensor([[1, 2],\n",
              "        [3, 4],\n",
              "        [5, 6]])"
            ]
          },
          "metadata": {},
          "execution_count": 46
        }
      ]
    },
    {
      "cell_type": "markdown",
      "source": [
        "**If we don't want to explicitely specity the number of column, use -1 and let the Pytorch decide for us**"
      ],
      "metadata": {
        "id": "p7vMfO9UMbBf"
      }
    },
    {
      "cell_type": "code",
      "metadata": {
        "colab": {
          "base_uri": "https://localhost:8080/"
        },
        "id": "a0K2WmXD9sBj",
        "outputId": "62e1160c-1627-4a2f-e2b5-ffa0a6f3468d"
      },
      "source": [
        "v.view(3, -1)"
      ],
      "execution_count": null,
      "outputs": [
        {
          "output_type": "execute_result",
          "data": {
            "text/plain": [
              "tensor([[1, 2],\n",
              "        [3, 4],\n",
              "        [5, 6]])"
            ]
          },
          "metadata": {},
          "execution_count": 50
        }
      ]
    },
    {
      "cell_type": "markdown",
      "metadata": {
        "id": "yu_Jt3Yz_6av"
      },
      "source": [
        "> **We can interchangeably switch between numpy arrays and tensors**\n",
        "\n",
        "\n",
        "\n",
        "\n"
      ]
    },
    {
      "cell_type": "code",
      "metadata": {
        "colab": {
          "base_uri": "https://localhost:8080/"
        },
        "id": "56EjCDlv-t6m",
        "outputId": "ed05618c-4352-4197-be82-eb23cbc9366c"
      },
      "source": [
        "a = np.array([1, 2, 3, 4, 5])\n",
        "print(a)"
      ],
      "execution_count": null,
      "outputs": [
        {
          "output_type": "stream",
          "name": "stdout",
          "text": [
            "[1 2 3 4 5]\n"
          ]
        }
      ]
    },
    {
      "cell_type": "markdown",
      "source": [
        "**Transform a numpy array to a tensor**"
      ],
      "metadata": {
        "id": "afQOsg0dMwlI"
      }
    },
    {
      "cell_type": "code",
      "metadata": {
        "colab": {
          "base_uri": "https://localhost:8080/"
        },
        "id": "DCzW_5rW_Fd5",
        "outputId": "0eddc0be-3f76-4cfb-cd70-4c03f929d322"
      },
      "source": [
        "tensor_cnv = torch.from_numpy(a)\n",
        "print(tensor_cnv)"
      ],
      "execution_count": null,
      "outputs": [
        {
          "output_type": "stream",
          "name": "stdout",
          "text": [
            "tensor([1, 2, 3, 4, 5])\n"
          ]
        }
      ]
    },
    {
      "cell_type": "markdown",
      "source": [
        "**Tansform a tensor to a numpy array**"
      ],
      "metadata": {
        "id": "97-Gs7iqMzHu"
      }
    },
    {
      "cell_type": "code",
      "metadata": {
        "colab": {
          "base_uri": "https://localhost:8080/"
        },
        "id": "PqrwI1wm_gvc",
        "outputId": "4ab0e270-8b32-4445-f0a1-5304ab618e9c"
      },
      "source": [
        "numpy_cnv = tensor_cnv.numpy()\n",
        "print(numpy_cnv)"
      ],
      "execution_count": null,
      "outputs": [
        {
          "output_type": "stream",
          "name": "stdout",
          "text": [
            "[1 2 3 4 5]\n"
          ]
        }
      ]
    }
  ]
}