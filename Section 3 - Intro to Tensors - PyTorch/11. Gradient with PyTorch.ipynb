{
  "nbformat": 4,
  "nbformat_minor": 0,
  "metadata": {
    "colab": {
      "name": "11. Gradient with PyTorch.ipynb",
      "provenance": [],
      "authorship_tag": "ABX9TyMzaQg1n5PO5z/16vBKysvp",
      "include_colab_link": true
    },
    "kernelspec": {
      "name": "python3",
      "display_name": "Python 3"
    },
    "language_info": {
      "name": "python"
    }
  },
  "cells": [
    {
      "cell_type": "markdown",
      "metadata": {
        "id": "view-in-github",
        "colab_type": "text"
      },
      "source": [
        "<a href=\"https://colab.research.google.com/github/zaedulislam/PyTorch_for_Deep_Learning_and_Computer_Vision/blob/main/Section%203%20-%20Intro%20to%20Tensors%20-%20PyTorch/11.%20Gradient%20with%20PyTorch.ipynb\" target=\"_parent\"><img src=\"https://colab.research.google.com/assets/colab-badge.svg\" alt=\"Open In Colab\"/></a>"
      ]
    },
    {
      "cell_type": "markdown",
      "metadata": {
        "id": "9fp3Zx7YPzzq"
      },
      "source": [
        "# 11. Gradient with PyTorch"
      ]
    },
    {
      "cell_type": "markdown",
      "metadata": {
        "id": "-cBI4zv-P2ca"
      },
      "source": [
        "Notion Page: https://www.notion.so/islamzaedul/Section-3-Intro-to-Tensors-PyTorch-00312679b16344739b86e8636e470770#8a551fb39d9942d889e4e480758f8052"
      ]
    },
    {
      "cell_type": "code",
      "metadata": {
        "colab": {
          "base_uri": "https://localhost:8080/"
        },
        "id": "bzDeLcCHPuCp",
        "outputId": "8f29131f-afb7-443b-c329-a33a9711d1a1"
      },
      "source": [
        "!pip3 install torch "
      ],
      "execution_count": null,
      "outputs": [
        {
          "output_type": "stream",
          "name": "stdout",
          "text": [
            "Requirement already satisfied: torch in /usr/local/lib/python3.7/dist-packages (1.10.0+cu111)\n",
            "Requirement already satisfied: typing-extensions in /usr/local/lib/python3.7/dist-packages (from torch) (3.10.0.2)\n"
          ]
        }
      ]
    },
    {
      "cell_type": "code",
      "metadata": {
        "id": "3_Fh8d5HQV0S"
      },
      "source": [
        "import torch"
      ],
      "execution_count": null,
      "outputs": []
    },
    {
      "cell_type": "code",
      "metadata": {
        "colab": {
          "base_uri": "https://localhost:8080/"
        },
        "id": "3E2FGV0rR8lX",
        "outputId": "f1bd1f8f-4d0e-419a-fbd0-3fc33c3caf8d"
      },
      "source": [
        "# Finding the derivative of the function y = f(x) = y = 9*x**4 + 2*x**3 + 3*x**2 + 6*x + 1 at x = 2\n",
        "\n",
        "# Whenever a function requires a gradient, typically use \"requires_grad=True\". Otherwise, it'll throw an error while calculating a gradiant\n",
        "x = torch.tensor(2.0, requires_grad=True)\n",
        "y = 9*x**4 + 2*x**3 + 3*x**2 + 6*x + 1\n",
        "y.backward()\n",
        "\n",
        "# To access the value\n",
        "x.grad"
      ],
      "execution_count": null,
      "outputs": [
        {
          "output_type": "execute_result",
          "data": {
            "text/plain": [
              "tensor(330.)"
            ]
          },
          "metadata": {},
          "execution_count": 6
        }
      ]
    },
    {
      "cell_type": "markdown",
      "metadata": {
        "id": "0zb7fc4La9-A"
      },
      "source": [
        "## Partial Derivative"
      ]
    },
    {
      "cell_type": "code",
      "metadata": {
        "id": "dl6ucXvJT6NO",
        "colab": {
          "base_uri": "https://localhost:8080/"
        },
        "outputId": "9e3bd81a-db3d-4017-9872-8be7a960351f"
      },
      "source": [
        "# Finding the partial derivative of the function y = f(x, z) = x**2 + z**3 at x = 1 and z = 2\n",
        "\n",
        "# Whenever a function requires a gradient, typically use \"requires_grad=True\". Otherwise, it'll throw an error while calculating a gradiant\n",
        "x = torch.tensor(1.0, requires_grad=True)\n",
        "z = torch.tensor(2.0, requires_grad=True)\n",
        "y = x**2 + z**3\n",
        "\n",
        "# Compute the gradient, it will take the partial derivative of the function with respect to both variables, X and Z, and we will output the value of both X and of Z.\n",
        "y.backward()\n",
        "\n",
        "# To access the value\n",
        "x.grad"
      ],
      "execution_count": null,
      "outputs": [
        {
          "output_type": "execute_result",
          "data": {
            "text/plain": [
              "tensor(2.)"
            ]
          },
          "metadata": {},
          "execution_count": 7
        }
      ]
    },
    {
      "cell_type": "code",
      "metadata": {
        "colab": {
          "base_uri": "https://localhost:8080/"
        },
        "id": "aQRS5NkshC22",
        "outputId": "27b1d8b4-7986-4b16-e817-b262d90fec83"
      },
      "source": [
        "z.grad"
      ],
      "execution_count": null,
      "outputs": [
        {
          "output_type": "execute_result",
          "data": {
            "text/plain": [
              "tensor(12.)"
            ]
          },
          "metadata": {},
          "execution_count": 8
        }
      ]
    }
  ]
}