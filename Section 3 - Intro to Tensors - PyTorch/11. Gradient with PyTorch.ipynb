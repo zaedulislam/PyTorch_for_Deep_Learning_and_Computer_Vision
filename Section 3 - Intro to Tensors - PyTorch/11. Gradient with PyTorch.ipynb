{
  "nbformat": 4,
  "nbformat_minor": 0,
  "metadata": {
    "colab": {
      "name": "11. Gradient with PyTorch.ipynb",
      "provenance": [],
      "authorship_tag": "ABX9TyOd9eb/nN2n/zxD4FBr+7cE",
      "include_colab_link": true
    },
    "kernelspec": {
      "name": "python3",
      "display_name": "Python 3"
    },
    "language_info": {
      "name": "python"
    }
  },
  "cells": [
    {
      "cell_type": "markdown",
      "metadata": {
        "id": "view-in-github",
        "colab_type": "text"
      },
      "source": [
        "<a href=\"https://colab.research.google.com/github/zaedulislam/PyTorch_for_Deep_Learning_and_Computer_Vision/blob/main/Section%203%20-%20Intro%20to%20Tensors%20-%20PyTorch/11.%20Gradient%20with%20PyTorch.ipynb\" target=\"_parent\"><img src=\"https://colab.research.google.com/assets/colab-badge.svg\" alt=\"Open In Colab\"/></a>"
      ]
    },
    {
      "cell_type": "markdown",
      "metadata": {
        "id": "-cBI4zv-P2ca"
      },
      "source": [
        "Notion Page: https://www.notion.so/islamzaedul/Section-3-Intro-to-Tensors-PyTorch-00312679b16344739b86e8636e470770#8a551fb39d9942d889e4e480758f8052"
      ]
    },
    {
      "cell_type": "code",
      "metadata": {
        "colab": {
          "base_uri": "https://localhost:8080/"
        },
        "id": "bzDeLcCHPuCp",
        "outputId": "0629a076-d5d3-4ef1-f90c-ff3fb9d110b3"
      },
      "source": [
        "!pip3 install torch "
      ],
      "execution_count": 25,
      "outputs": [
        {
          "output_type": "stream",
          "name": "stdout",
          "text": [
            "Requirement already satisfied: torch in /usr/local/lib/python3.7/dist-packages (1.10.0+cu111)\n",
            "Requirement already satisfied: typing-extensions in /usr/local/lib/python3.7/dist-packages (from torch) (3.10.0.2)\n"
          ]
        }
      ]
    },
    {
      "cell_type": "code",
      "metadata": {
        "id": "3_Fh8d5HQV0S"
      },
      "source": [
        "import torch"
      ],
      "execution_count": 26,
      "outputs": []
    },
    {
      "cell_type": "markdown",
      "metadata": {
        "id": "9fp3Zx7YPzzq"
      },
      "source": [
        "# 11. Gradient with PyTorch"
      ]
    },
    {
      "cell_type": "markdown",
      "source": [
        "> Finding the derivative of the function `y = f(x) = 9*x**4 + 2*x**3 + 3*x**2 + 6*x + 1` at `x = 2`\n",
        "\n",
        "**Whenever a function requires a gradient, typically use \"requires_grad=True\". Otherwise, it'll throw an error while calculating a gradiant**"
      ],
      "metadata": {
        "id": "AIPsExv1l9kw"
      }
    },
    {
      "cell_type": "code",
      "metadata": {
        "id": "3E2FGV0rR8lX"
      },
      "source": [
        "x = torch.tensor(2.0, requires_grad=True)\n",
        "y = 9*x**4 + 2*x**3 + 3*x**2 + 6*x + 1"
      ],
      "execution_count": 27,
      "outputs": []
    },
    {
      "cell_type": "markdown",
      "source": [
        "**Compute the gradient**"
      ],
      "metadata": {
        "id": "4so98PKwot0b"
      }
    },
    {
      "cell_type": "code",
      "source": [
        "y.backward()"
      ],
      "metadata": {
        "id": "hjJrRA43oxAs"
      },
      "execution_count": 28,
      "outputs": []
    },
    {
      "cell_type": "markdown",
      "source": [
        "**Access the gradient value**"
      ],
      "metadata": {
        "id": "KFmzpkKDmaAJ"
      }
    },
    {
      "cell_type": "code",
      "source": [
        "x.grad"
      ],
      "metadata": {
        "colab": {
          "base_uri": "https://localhost:8080/"
        },
        "id": "5AVUqJKcmZSV",
        "outputId": "48e70508-5379-4fd6-9dfb-bb31d935d0e6"
      },
      "execution_count": 29,
      "outputs": [
        {
          "output_type": "execute_result",
          "data": {
            "text/plain": [
              "tensor(330.)"
            ]
          },
          "metadata": {},
          "execution_count": 29
        }
      ]
    },
    {
      "cell_type": "markdown",
      "metadata": {
        "id": "0zb7fc4La9-A"
      },
      "source": [
        "### Partial Derivative\n",
        "\n",
        "> Finding the partial derivative of the function `y = f(x, z) = x**2 + z**3` at `x = 1` and `z = 2`"
      ]
    },
    {
      "cell_type": "markdown",
      "source": [
        "**Whenever a function requires a gradient, typically use \"requires_grad=True\". Otherwise, it'll throw an error while calculating a gradiant**"
      ],
      "metadata": {
        "id": "4c-AY6r3oLCj"
      }
    },
    {
      "cell_type": "code",
      "metadata": {
        "id": "dl6ucXvJT6NO"
      },
      "source": [
        "x = torch.tensor(1.0, requires_grad=True)\n",
        "z = torch.tensor(2.0, requires_grad=True)\n",
        "y = x**2 + z**3"
      ],
      "execution_count": 30,
      "outputs": []
    },
    {
      "cell_type": "markdown",
      "source": [
        "**Compute the gradient, it will take the partial derivative of the function with respect to both variables, x and z, and we will output the value of both x and of z**"
      ],
      "metadata": {
        "id": "VL6KryDwoVjE"
      }
    },
    {
      "cell_type": "code",
      "source": [
        "y.backward()"
      ],
      "metadata": {
        "id": "wViSx8sZoY1T"
      },
      "execution_count": 31,
      "outputs": []
    },
    {
      "cell_type": "markdown",
      "source": [
        "**Access the gradient value**\n"
      ],
      "metadata": {
        "id": "esnOMpfQoapE"
      }
    },
    {
      "cell_type": "code",
      "source": [
        "x.grad"
      ],
      "metadata": {
        "colab": {
          "base_uri": "https://localhost:8080/"
        },
        "id": "et92mvfWob0_",
        "outputId": "9493d6e6-30ef-4b69-b665-f3be26a9ba6b"
      },
      "execution_count": 32,
      "outputs": [
        {
          "output_type": "execute_result",
          "data": {
            "text/plain": [
              "tensor(2.)"
            ]
          },
          "metadata": {},
          "execution_count": 32
        }
      ]
    },
    {
      "cell_type": "code",
      "metadata": {
        "colab": {
          "base_uri": "https://localhost:8080/"
        },
        "id": "aQRS5NkshC22",
        "outputId": "12e643ec-862c-42e4-b4f6-93e7bef520dc"
      },
      "source": [
        "z.grad"
      ],
      "execution_count": 33,
      "outputs": [
        {
          "output_type": "execute_result",
          "data": {
            "text/plain": [
              "tensor(12.)"
            ]
          },
          "metadata": {},
          "execution_count": 33
        }
      ]
    }
  ]
}