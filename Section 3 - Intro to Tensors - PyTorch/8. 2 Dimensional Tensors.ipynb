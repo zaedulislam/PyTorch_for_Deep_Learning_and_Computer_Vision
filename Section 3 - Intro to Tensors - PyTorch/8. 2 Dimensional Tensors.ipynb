{
  "nbformat": 4,
  "nbformat_minor": 0,
  "metadata": {
    "colab": {
      "name": "8. 2 Dimensional Tensors.ipynb",
      "provenance": [],
      "collapsed_sections": [],
      "authorship_tag": "ABX9TyNOyfgCd+axMx72rFzPFuZe",
      "include_colab_link": true
    },
    "kernelspec": {
      "name": "python3",
      "display_name": "Python 3"
    },
    "language_info": {
      "name": "python"
    }
  },
  "cells": [
    {
      "cell_type": "markdown",
      "metadata": {
        "id": "view-in-github",
        "colab_type": "text"
      },
      "source": [
        "<a href=\"https://colab.research.google.com/github/zaedulislam/PyTorch_for_Deep_Learning_and_Computer_Vision/blob/main/Section%203%20-%20Intro%20to%20Tensors%20-%20PyTorch/8.%202%20Dimensional%20Tensors.ipynb\" target=\"_parent\"><img src=\"https://colab.research.google.com/assets/colab-badge.svg\" alt=\"Open In Colab\"/></a>"
      ]
    },
    {
      "cell_type": "markdown",
      "metadata": {
        "id": "rED9AuALXVhk"
      },
      "source": [
        "Notion Page: https://www.notion.so/islamzaedul/Section-3-Intro-to-Tensors-PyTorch-00312679b16344739b86e8636e470770#db1106190fca44f48f87eee5311b1d09"
      ]
    },
    {
      "cell_type": "code",
      "metadata": {
        "colab": {
          "base_uri": "https://localhost:8080/"
        },
        "id": "XntZbsA8WrqY",
        "outputId": "cf6ee43e-ad32-41f7-df50-838cc67355dc"
      },
      "source": [
        "!pip3 install torch"
      ],
      "execution_count": 7,
      "outputs": [
        {
          "output_type": "stream",
          "name": "stdout",
          "text": [
            "Requirement already satisfied: torch in /usr/local/lib/python3.7/dist-packages (1.10.0+cu111)\n",
            "Requirement already satisfied: typing-extensions in /usr/local/lib/python3.7/dist-packages (from torch) (3.10.0.2)\n"
          ]
        }
      ]
    },
    {
      "cell_type": "code",
      "metadata": {
        "id": "wnKjTLOocGc4"
      },
      "source": [
        "import torch"
      ],
      "execution_count": 8,
      "outputs": []
    },
    {
      "cell_type": "markdown",
      "metadata": {
        "id": "gHhyIE-fW73N"
      },
      "source": [
        "# 8. 2 Dimensional Tensors"
      ]
    },
    {
      "cell_type": "markdown",
      "source": [
        "**Initialize a 1D tensor containing a numbers from 2 to 6. This is similar to the range function in python**"
      ],
      "metadata": {
        "id": "3S_WXmzgTIxS"
      }
    },
    {
      "cell_type": "code",
      "metadata": {
        "colab": {
          "base_uri": "https://localhost:8080/"
        },
        "id": "kKcmLNUCZ7f7",
        "outputId": "c1f6cf7a-6c9f-44a6-f0af-8ed0e54e37b7"
      },
      "source": [
        "one_d = torch.arange(2, 7)\n",
        "one_d"
      ],
      "execution_count": 9,
      "outputs": [
        {
          "output_type": "execute_result",
          "data": {
            "text/plain": [
              "tensor([2, 3, 4, 5, 6])"
            ]
          },
          "metadata": {},
          "execution_count": 9
        }
      ]
    },
    {
      "cell_type": "code",
      "metadata": {
        "colab": {
          "base_uri": "https://localhost:8080/"
        },
        "id": "G39DDmhY0V1Z",
        "outputId": "e450dbd8-e309-4f8e-a7e5-a8da20cce19b"
      },
      "source": [
        "print('A -> ', torch.arange(7))\n",
        "print('B -> ', torch.arange(0, 7))"
      ],
      "execution_count": 10,
      "outputs": [
        {
          "output_type": "stream",
          "name": "stdout",
          "text": [
            "A ->  tensor([0, 1, 2, 3, 4, 5, 6])\n",
            "B ->  tensor([0, 1, 2, 3, 4, 5, 6])\n"
          ]
        }
      ]
    },
    {
      "cell_type": "markdown",
      "source": [
        "**A step size of two, which specifies the gap between each pair of points**\n",
        "> start (Number) – the starting value for the set of points. Default: 0.\n",
        "\n",
        "> end (Number) – the ending value for the set of points\n",
        "\n",
        "> step (Number) – the gap between each pair of adjacent points. Default: 1."
      ],
      "metadata": {
        "id": "KdrgEZuATXHi"
      }
    },
    {
      "cell_type": "code",
      "metadata": {
        "colab": {
          "base_uri": "https://localhost:8080/"
        },
        "id": "seSMpURoxFZE",
        "outputId": "21b8fa89-b5f7-4b47-c055-75d44842a019"
      },
      "source": [
        "one_d_gap = torch.arange(start = 2, end = 9, step = 2)\n",
        "one_d_gap"
      ],
      "execution_count": 11,
      "outputs": [
        {
          "output_type": "execute_result",
          "data": {
            "text/plain": [
              "tensor([2, 4, 6, 8])"
            ]
          },
          "metadata": {},
          "execution_count": 11
        }
      ]
    },
    {
      "cell_type": "code",
      "metadata": {
        "colab": {
          "base_uri": "https://localhost:8080/"
        },
        "id": "Ebh1ayoCx1Eh",
        "outputId": "a9c83d1a-a357-414d-a7eb-7c5e8f5674e7"
      },
      "source": [
        "one_d = torch.arange(0, 9)\n",
        "two_d = one_d.view(3, 3)\n",
        "two_d"
      ],
      "execution_count": 12,
      "outputs": [
        {
          "output_type": "execute_result",
          "data": {
            "text/plain": [
              "tensor([[0, 1, 2],\n",
              "        [3, 4, 5],\n",
              "        [6, 7, 8]])"
            ]
          },
          "metadata": {},
          "execution_count": 12
        }
      ]
    },
    {
      "cell_type": "markdown",
      "source": [
        "**Confirm the dimensionality of this matrix**"
      ],
      "metadata": {
        "id": "wh2OFqXbTpoN"
      }
    },
    {
      "cell_type": "code",
      "metadata": {
        "colab": {
          "base_uri": "https://localhost:8080/"
        },
        "id": "uL1_7kEEyTYi",
        "outputId": "5ef28395-8c86-47cc-9df2-8d1f11b56a1a"
      },
      "source": [
        "two_d.dim()"
      ],
      "execution_count": 13,
      "outputs": [
        {
          "output_type": "execute_result",
          "data": {
            "text/plain": [
              "2"
            ]
          },
          "metadata": {},
          "execution_count": 13
        }
      ]
    },
    {
      "cell_type": "markdown",
      "source": [
        "**Slice 2D tensor**"
      ],
      "metadata": {
        "id": "XBpuaOByTs26"
      }
    },
    {
      "cell_type": "code",
      "metadata": {
        "colab": {
          "base_uri": "https://localhost:8080/"
        },
        "id": "tPX1M1voycz8",
        "outputId": "3db92acb-03c0-442f-e11b-a681424c5fcd"
      },
      "source": [
        "two_d[1, 2]"
      ],
      "execution_count": 14,
      "outputs": [
        {
          "output_type": "execute_result",
          "data": {
            "text/plain": [
              "tensor(5)"
            ]
          },
          "metadata": {},
          "execution_count": 14
        }
      ]
    },
    {
      "cell_type": "markdown",
      "source": [
        "**The best way to think about this 3D tensor is imagine an Excel spreadsheet with \"two sheets\" and each sheet has three rows and three columns**"
      ],
      "metadata": {
        "id": "Xl6VVGHrULtX"
      }
    },
    {
      "cell_type": "code",
      "metadata": {
        "colab": {
          "base_uri": "https://localhost:8080/"
        },
        "id": "qGfOsoHvzLL4",
        "outputId": "7ce27a73-d69f-4a89-9571-636cfdd7d884"
      },
      "source": [
        "x = torch.arange(18).view(2, 3, 3)\n",
        "x"
      ],
      "execution_count": 15,
      "outputs": [
        {
          "output_type": "execute_result",
          "data": {
            "text/plain": [
              "tensor([[[ 0,  1,  2],\n",
              "         [ 3,  4,  5],\n",
              "         [ 6,  7,  8]],\n",
              "\n",
              "        [[ 9, 10, 11],\n",
              "         [12, 13, 14],\n",
              "         [15, 16, 17]]])"
            ]
          },
          "metadata": {},
          "execution_count": 15
        }
      ]
    },
    {
      "cell_type": "markdown",
      "source": [
        "**So long as that new shape of that tensor, its new dimensions must be compatible with the array's data**"
      ],
      "metadata": {
        "id": "2a3sixHSUj93"
      }
    },
    {
      "cell_type": "code",
      "metadata": {
        "colab": {
          "base_uri": "https://localhost:8080/"
        },
        "id": "oJ_BSqgMztpa",
        "outputId": "25696f6e-dbce-47c2-cb67-95c7c2f5f58a"
      },
      "source": [
        "x = torch.arange(18).view(3, 3, 2)\n",
        "x"
      ],
      "execution_count": 16,
      "outputs": [
        {
          "output_type": "execute_result",
          "data": {
            "text/plain": [
              "tensor([[[ 0,  1],\n",
              "         [ 2,  3],\n",
              "         [ 4,  5]],\n",
              "\n",
              "        [[ 6,  7],\n",
              "         [ 8,  9],\n",
              "         [10, 11]],\n",
              "\n",
              "        [[12, 13],\n",
              "         [14, 15],\n",
              "         [16, 17]]])"
            ]
          },
          "metadata": {},
          "execution_count": 16
        }
      ]
    },
    {
      "cell_type": "markdown",
      "source": [
        "**If we try to put four columns per block. That wouldn't work if there was an exception, since four times, three times three does not correspond to 18 elements, it corresponds to thirty six elements, in which case it would work**"
      ],
      "metadata": {
        "id": "dv5y1plWUzZj"
      }
    },
    {
      "cell_type": "code",
      "metadata": {
        "colab": {
          "base_uri": "https://localhost:8080/",
          "height": 182
        },
        "id": "fan-4JRB0CqP",
        "outputId": "5b0104a8-4b13-4e6b-dd11-d5e93a3ed116"
      },
      "source": [
        "x = torch.arange(18).view(3, 3, 4)\n",
        "x"
      ],
      "execution_count": 18,
      "outputs": [
        {
          "output_type": "error",
          "ename": "RuntimeError",
          "evalue": "ignored",
          "traceback": [
            "\u001b[0;31m---------------------------------------------------------------------------\u001b[0m",
            "\u001b[0;31mRuntimeError\u001b[0m                              Traceback (most recent call last)",
            "\u001b[0;32m<ipython-input-18-92124bd48e12>\u001b[0m in \u001b[0;36m<module>\u001b[0;34m()\u001b[0m\n\u001b[0;32m----> 1\u001b[0;31m \u001b[0mx\u001b[0m \u001b[0;34m=\u001b[0m \u001b[0mtorch\u001b[0m\u001b[0;34m.\u001b[0m\u001b[0marange\u001b[0m\u001b[0;34m(\u001b[0m\u001b[0;36m18\u001b[0m\u001b[0;34m)\u001b[0m\u001b[0;34m.\u001b[0m\u001b[0mview\u001b[0m\u001b[0;34m(\u001b[0m\u001b[0;36m3\u001b[0m\u001b[0;34m,\u001b[0m \u001b[0;36m3\u001b[0m\u001b[0;34m,\u001b[0m \u001b[0;36m4\u001b[0m\u001b[0;34m)\u001b[0m\u001b[0;34m\u001b[0m\u001b[0;34m\u001b[0m\u001b[0m\n\u001b[0m\u001b[1;32m      2\u001b[0m \u001b[0mx\u001b[0m\u001b[0;34m\u001b[0m\u001b[0;34m\u001b[0m\u001b[0m\n",
            "\u001b[0;31mRuntimeError\u001b[0m: shape '[3, 3, 4]' is invalid for input of size 18"
          ]
        }
      ]
    }
  ]
}