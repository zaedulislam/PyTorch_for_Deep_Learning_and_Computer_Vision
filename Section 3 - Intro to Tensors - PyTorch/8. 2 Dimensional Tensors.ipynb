{
  "nbformat": 4,
  "nbformat_minor": 0,
  "metadata": {
    "colab": {
      "name": "8. 2 Dimensional Tensors.ipynb",
      "provenance": [],
      "collapsed_sections": [],
      "authorship_tag": "ABX9TyMFn+YFAoX49039awU7PPya",
      "include_colab_link": true
    },
    "kernelspec": {
      "name": "python3",
      "display_name": "Python 3"
    },
    "language_info": {
      "name": "python"
    }
  },
  "cells": [
    {
      "cell_type": "markdown",
      "metadata": {
        "id": "view-in-github",
        "colab_type": "text"
      },
      "source": [
        "<a href=\"https://colab.research.google.com/github/zaedulislam/PyTorch_for_Deep_Learning_and_Computer_Vision/blob/main/Section%203%20-%20Intro%20to%20Tensors%20-%20PyTorch/8.%202%20Dimensional%20Tensors.ipynb\" target=\"_parent\"><img src=\"https://colab.research.google.com/assets/colab-badge.svg\" alt=\"Open In Colab\"/></a>"
      ]
    },
    {
      "cell_type": "markdown",
      "metadata": {
        "id": "gHhyIE-fW73N"
      },
      "source": [
        "# 8. 2 Dimensional Tensors"
      ]
    },
    {
      "cell_type": "markdown",
      "metadata": {
        "id": "rED9AuALXVhk"
      },
      "source": [
        "Notion Page: https://www.notion.so/zaedulislam/Section-3-Intro-to-Tensors-PyTorch-ec1c8bad7a0a4af0b64f18f80eeb2779#027e9b42177b474c8a4dd2d3ba0abe03"
      ]
    },
    {
      "cell_type": "code",
      "metadata": {
        "colab": {
          "base_uri": "https://localhost:8080/"
        },
        "id": "XntZbsA8WrqY",
        "outputId": "26ea9a17-52ae-4b9e-83fe-48e887c11c17"
      },
      "source": [
        "!pip3 install torch"
      ],
      "execution_count": 1,
      "outputs": [
        {
          "output_type": "stream",
          "name": "stdout",
          "text": [
            "Requirement already satisfied: torch in /usr/local/lib/python3.7/dist-packages (1.10.0+cu111)\n",
            "Requirement already satisfied: typing-extensions in /usr/local/lib/python3.7/dist-packages (from torch) (3.10.0.2)\n"
          ]
        }
      ]
    },
    {
      "cell_type": "code",
      "metadata": {
        "id": "wnKjTLOocGc4"
      },
      "source": [
        "import torch"
      ],
      "execution_count": 2,
      "outputs": []
    },
    {
      "cell_type": "code",
      "metadata": {
        "colab": {
          "base_uri": "https://localhost:8080/"
        },
        "id": "kKcmLNUCZ7f7",
        "outputId": "554f7e21-412f-4ce5-c921-bed599cf72c2"
      },
      "source": [
        "# Initialize a 1D tensor containing a numbers from 2 to 6. This is similar to the range function in python\n",
        "one_d = torch.arange(2, 7)\n",
        "one_d"
      ],
      "execution_count": 3,
      "outputs": [
        {
          "output_type": "execute_result",
          "data": {
            "text/plain": [
              "tensor([2, 3, 4, 5, 6])"
            ]
          },
          "metadata": {},
          "execution_count": 3
        }
      ]
    },
    {
      "cell_type": "code",
      "metadata": {
        "colab": {
          "base_uri": "https://localhost:8080/"
        },
        "id": "G39DDmhY0V1Z",
        "outputId": "96c7d2d3-26c0-4b9c-dc55-5f1e2ca4ce6b"
      },
      "source": [
        "print('A -> ', torch.arange(7))\n",
        "print('B -> ', torch.arange(0, 7))"
      ],
      "execution_count": 4,
      "outputs": [
        {
          "output_type": "stream",
          "name": "stdout",
          "text": [
            "A ->  tensor([0, 1, 2, 3, 4, 5, 6])\n",
            "B ->  tensor([0, 1, 2, 3, 4, 5, 6])\n"
          ]
        }
      ]
    },
    {
      "cell_type": "code",
      "metadata": {
        "colab": {
          "base_uri": "https://localhost:8080/"
        },
        "id": "seSMpURoxFZE",
        "outputId": "c9f31d5d-e8cf-44a5-92de-40cff5eadeb0"
      },
      "source": [
        "#  A step size of two, which specifies the gap between each pair of points\n",
        "one_d_gap = torch.arange(2, 9, 2)\n",
        "one_d_gap"
      ],
      "execution_count": 5,
      "outputs": [
        {
          "output_type": "execute_result",
          "data": {
            "text/plain": [
              "tensor([2, 4, 6, 8])"
            ]
          },
          "metadata": {},
          "execution_count": 5
        }
      ]
    },
    {
      "cell_type": "code",
      "metadata": {
        "colab": {
          "base_uri": "https://localhost:8080/"
        },
        "id": "Ebh1ayoCx1Eh",
        "outputId": "256e6638-f9cd-4888-c670-63a04b58c4f0"
      },
      "source": [
        "one_d = torch.arange(0, 9)\n",
        "two_d = one_d.view(3, 3)\n",
        "two_d"
      ],
      "execution_count": 6,
      "outputs": [
        {
          "output_type": "execute_result",
          "data": {
            "text/plain": [
              "tensor([[0, 1, 2],\n",
              "        [3, 4, 5],\n",
              "        [6, 7, 8]])"
            ]
          },
          "metadata": {},
          "execution_count": 6
        }
      ]
    },
    {
      "cell_type": "code",
      "metadata": {
        "colab": {
          "base_uri": "https://localhost:8080/"
        },
        "id": "uL1_7kEEyTYi",
        "outputId": "a6afcedc-a347-4f39-cbd0-4f5e8ff61bb6"
      },
      "source": [
        "# Confirm the dimensionality of this matrix \n",
        "two_d.dim()"
      ],
      "execution_count": 7,
      "outputs": [
        {
          "output_type": "execute_result",
          "data": {
            "text/plain": [
              "2"
            ]
          },
          "metadata": {},
          "execution_count": 7
        }
      ]
    },
    {
      "cell_type": "code",
      "metadata": {
        "colab": {
          "base_uri": "https://localhost:8080/"
        },
        "id": "tPX1M1voycz8",
        "outputId": "11cf5c6c-c4f8-4ddf-cdb5-92957f138748"
      },
      "source": [
        "# Slice 2D tensors\n",
        "two_d[1,2]"
      ],
      "execution_count": 8,
      "outputs": [
        {
          "output_type": "execute_result",
          "data": {
            "text/plain": [
              "tensor(5)"
            ]
          },
          "metadata": {},
          "execution_count": 8
        }
      ]
    },
    {
      "cell_type": "code",
      "metadata": {
        "colab": {
          "base_uri": "https://localhost:8080/"
        },
        "id": "qGfOsoHvzLL4",
        "outputId": "e4f61d64-35ad-4eb2-e322-bc3be9805869"
      },
      "source": [
        "x = torch.arange(18).view(2, 3, 3)\n",
        "x"
      ],
      "execution_count": 9,
      "outputs": [
        {
          "output_type": "execute_result",
          "data": {
            "text/plain": [
              "tensor([[[ 0,  1,  2],\n",
              "         [ 3,  4,  5],\n",
              "         [ 6,  7,  8]],\n",
              "\n",
              "        [[ 9, 10, 11],\n",
              "         [12, 13, 14],\n",
              "         [15, 16, 17]]])"
            ]
          },
          "metadata": {},
          "execution_count": 9
        }
      ]
    }
  ]
}