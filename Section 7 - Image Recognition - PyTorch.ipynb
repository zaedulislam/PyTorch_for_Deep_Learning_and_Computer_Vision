{
  "nbformat": 4,
  "nbformat_minor": 0,
  "metadata": {
    "colab": {
      "name": "Section 7 - Image Recognition - PyTorch.ipynb",
      "provenance": [],
      "authorship_tag": "ABX9TyOgPP+x/qrDkdvCjyW4e6ZD",
      "include_colab_link": true
    },
    "kernelspec": {
      "name": "python3",
      "display_name": "Python 3"
    },
    "language_info": {
      "name": "python"
    },
    "widgets": {
      "application/vnd.jupyter.widget-state+json": {
        "83d24a3f2d2b479bb3274d0a7db218d7": {
          "model_module": "@jupyter-widgets/controls",
          "model_name": "HBoxModel",
          "model_module_version": "1.5.0",
          "state": {
            "_view_name": "HBoxView",
            "_dom_classes": [],
            "_model_name": "HBoxModel",
            "_view_module": "@jupyter-widgets/controls",
            "_model_module_version": "1.5.0",
            "_view_count": null,
            "_view_module_version": "1.5.0",
            "box_style": "",
            "layout": "IPY_MODEL_f5c18419c0b34a4aa6a22947f427ede7",
            "_model_module": "@jupyter-widgets/controls",
            "children": [
              "IPY_MODEL_71f8013fbde04ad7bb8cdeb98ca34459",
              "IPY_MODEL_933f27bec09447f0a70a5f8e66d977dc",
              "IPY_MODEL_afdb20a77f4a4c6ab33978c9ff15b545"
            ]
          }
        },
        "f5c18419c0b34a4aa6a22947f427ede7": {
          "model_module": "@jupyter-widgets/base",
          "model_name": "LayoutModel",
          "model_module_version": "1.2.0",
          "state": {
            "_view_name": "LayoutView",
            "grid_template_rows": null,
            "right": null,
            "justify_content": null,
            "_view_module": "@jupyter-widgets/base",
            "overflow": null,
            "_model_module_version": "1.2.0",
            "_view_count": null,
            "flex_flow": null,
            "width": null,
            "min_width": null,
            "border": null,
            "align_items": null,
            "bottom": null,
            "_model_module": "@jupyter-widgets/base",
            "top": null,
            "grid_column": null,
            "overflow_y": null,
            "overflow_x": null,
            "grid_auto_flow": null,
            "grid_area": null,
            "grid_template_columns": null,
            "flex": null,
            "_model_name": "LayoutModel",
            "justify_items": null,
            "grid_row": null,
            "max_height": null,
            "align_content": null,
            "visibility": null,
            "align_self": null,
            "height": null,
            "min_height": null,
            "padding": null,
            "grid_auto_rows": null,
            "grid_gap": null,
            "max_width": null,
            "order": null,
            "_view_module_version": "1.2.0",
            "grid_template_areas": null,
            "object_position": null,
            "object_fit": null,
            "grid_auto_columns": null,
            "margin": null,
            "display": null,
            "left": null
          }
        },
        "71f8013fbde04ad7bb8cdeb98ca34459": {
          "model_module": "@jupyter-widgets/controls",
          "model_name": "HTMLModel",
          "model_module_version": "1.5.0",
          "state": {
            "_view_name": "HTMLView",
            "style": "IPY_MODEL_9cd338ea20c844c49b941ebc28d8f87a",
            "_dom_classes": [],
            "description": "",
            "_model_name": "HTMLModel",
            "placeholder": "​",
            "_view_module": "@jupyter-widgets/controls",
            "_model_module_version": "1.5.0",
            "value": "",
            "_view_count": null,
            "_view_module_version": "1.5.0",
            "description_tooltip": null,
            "_model_module": "@jupyter-widgets/controls",
            "layout": "IPY_MODEL_63a8986bff1e4fe990ea9cf465d2035e"
          }
        },
        "933f27bec09447f0a70a5f8e66d977dc": {
          "model_module": "@jupyter-widgets/controls",
          "model_name": "FloatProgressModel",
          "model_module_version": "1.5.0",
          "state": {
            "_view_name": "ProgressView",
            "style": "IPY_MODEL_6908a8fe1f3d414bbb5b88d0f47670db",
            "_dom_classes": [],
            "description": "",
            "_model_name": "FloatProgressModel",
            "bar_style": "success",
            "max": 9912422,
            "_view_module": "@jupyter-widgets/controls",
            "_model_module_version": "1.5.0",
            "value": 9912422,
            "_view_count": null,
            "_view_module_version": "1.5.0",
            "orientation": "horizontal",
            "min": 0,
            "description_tooltip": null,
            "_model_module": "@jupyter-widgets/controls",
            "layout": "IPY_MODEL_43c53e5803d04d68afcfc914f2bc8772"
          }
        },
        "afdb20a77f4a4c6ab33978c9ff15b545": {
          "model_module": "@jupyter-widgets/controls",
          "model_name": "HTMLModel",
          "model_module_version": "1.5.0",
          "state": {
            "_view_name": "HTMLView",
            "style": "IPY_MODEL_21336706094745439baac80c8f5d8095",
            "_dom_classes": [],
            "description": "",
            "_model_name": "HTMLModel",
            "placeholder": "​",
            "_view_module": "@jupyter-widgets/controls",
            "_model_module_version": "1.5.0",
            "value": " 9913344/? [00:00&lt;00:00, 28457955.00it/s]",
            "_view_count": null,
            "_view_module_version": "1.5.0",
            "description_tooltip": null,
            "_model_module": "@jupyter-widgets/controls",
            "layout": "IPY_MODEL_176e772dd738493f9b99aed10681a978"
          }
        },
        "9cd338ea20c844c49b941ebc28d8f87a": {
          "model_module": "@jupyter-widgets/controls",
          "model_name": "DescriptionStyleModel",
          "model_module_version": "1.5.0",
          "state": {
            "_view_name": "StyleView",
            "_model_name": "DescriptionStyleModel",
            "description_width": "",
            "_view_module": "@jupyter-widgets/base",
            "_model_module_version": "1.5.0",
            "_view_count": null,
            "_view_module_version": "1.2.0",
            "_model_module": "@jupyter-widgets/controls"
          }
        },
        "63a8986bff1e4fe990ea9cf465d2035e": {
          "model_module": "@jupyter-widgets/base",
          "model_name": "LayoutModel",
          "model_module_version": "1.2.0",
          "state": {
            "_view_name": "LayoutView",
            "grid_template_rows": null,
            "right": null,
            "justify_content": null,
            "_view_module": "@jupyter-widgets/base",
            "overflow": null,
            "_model_module_version": "1.2.0",
            "_view_count": null,
            "flex_flow": null,
            "width": null,
            "min_width": null,
            "border": null,
            "align_items": null,
            "bottom": null,
            "_model_module": "@jupyter-widgets/base",
            "top": null,
            "grid_column": null,
            "overflow_y": null,
            "overflow_x": null,
            "grid_auto_flow": null,
            "grid_area": null,
            "grid_template_columns": null,
            "flex": null,
            "_model_name": "LayoutModel",
            "justify_items": null,
            "grid_row": null,
            "max_height": null,
            "align_content": null,
            "visibility": null,
            "align_self": null,
            "height": null,
            "min_height": null,
            "padding": null,
            "grid_auto_rows": null,
            "grid_gap": null,
            "max_width": null,
            "order": null,
            "_view_module_version": "1.2.0",
            "grid_template_areas": null,
            "object_position": null,
            "object_fit": null,
            "grid_auto_columns": null,
            "margin": null,
            "display": null,
            "left": null
          }
        },
        "6908a8fe1f3d414bbb5b88d0f47670db": {
          "model_module": "@jupyter-widgets/controls",
          "model_name": "ProgressStyleModel",
          "model_module_version": "1.5.0",
          "state": {
            "_view_name": "StyleView",
            "_model_name": "ProgressStyleModel",
            "description_width": "",
            "_view_module": "@jupyter-widgets/base",
            "_model_module_version": "1.5.0",
            "_view_count": null,
            "_view_module_version": "1.2.0",
            "bar_color": null,
            "_model_module": "@jupyter-widgets/controls"
          }
        },
        "43c53e5803d04d68afcfc914f2bc8772": {
          "model_module": "@jupyter-widgets/base",
          "model_name": "LayoutModel",
          "model_module_version": "1.2.0",
          "state": {
            "_view_name": "LayoutView",
            "grid_template_rows": null,
            "right": null,
            "justify_content": null,
            "_view_module": "@jupyter-widgets/base",
            "overflow": null,
            "_model_module_version": "1.2.0",
            "_view_count": null,
            "flex_flow": null,
            "width": null,
            "min_width": null,
            "border": null,
            "align_items": null,
            "bottom": null,
            "_model_module": "@jupyter-widgets/base",
            "top": null,
            "grid_column": null,
            "overflow_y": null,
            "overflow_x": null,
            "grid_auto_flow": null,
            "grid_area": null,
            "grid_template_columns": null,
            "flex": null,
            "_model_name": "LayoutModel",
            "justify_items": null,
            "grid_row": null,
            "max_height": null,
            "align_content": null,
            "visibility": null,
            "align_self": null,
            "height": null,
            "min_height": null,
            "padding": null,
            "grid_auto_rows": null,
            "grid_gap": null,
            "max_width": null,
            "order": null,
            "_view_module_version": "1.2.0",
            "grid_template_areas": null,
            "object_position": null,
            "object_fit": null,
            "grid_auto_columns": null,
            "margin": null,
            "display": null,
            "left": null
          }
        },
        "21336706094745439baac80c8f5d8095": {
          "model_module": "@jupyter-widgets/controls",
          "model_name": "DescriptionStyleModel",
          "model_module_version": "1.5.0",
          "state": {
            "_view_name": "StyleView",
            "_model_name": "DescriptionStyleModel",
            "description_width": "",
            "_view_module": "@jupyter-widgets/base",
            "_model_module_version": "1.5.0",
            "_view_count": null,
            "_view_module_version": "1.2.0",
            "_model_module": "@jupyter-widgets/controls"
          }
        },
        "176e772dd738493f9b99aed10681a978": {
          "model_module": "@jupyter-widgets/base",
          "model_name": "LayoutModel",
          "model_module_version": "1.2.0",
          "state": {
            "_view_name": "LayoutView",
            "grid_template_rows": null,
            "right": null,
            "justify_content": null,
            "_view_module": "@jupyter-widgets/base",
            "overflow": null,
            "_model_module_version": "1.2.0",
            "_view_count": null,
            "flex_flow": null,
            "width": null,
            "min_width": null,
            "border": null,
            "align_items": null,
            "bottom": null,
            "_model_module": "@jupyter-widgets/base",
            "top": null,
            "grid_column": null,
            "overflow_y": null,
            "overflow_x": null,
            "grid_auto_flow": null,
            "grid_area": null,
            "grid_template_columns": null,
            "flex": null,
            "_model_name": "LayoutModel",
            "justify_items": null,
            "grid_row": null,
            "max_height": null,
            "align_content": null,
            "visibility": null,
            "align_self": null,
            "height": null,
            "min_height": null,
            "padding": null,
            "grid_auto_rows": null,
            "grid_gap": null,
            "max_width": null,
            "order": null,
            "_view_module_version": "1.2.0",
            "grid_template_areas": null,
            "object_position": null,
            "object_fit": null,
            "grid_auto_columns": null,
            "margin": null,
            "display": null,
            "left": null
          }
        },
        "d1616e82eb1944f6b44be340f609db73": {
          "model_module": "@jupyter-widgets/controls",
          "model_name": "HBoxModel",
          "model_module_version": "1.5.0",
          "state": {
            "_view_name": "HBoxView",
            "_dom_classes": [],
            "_model_name": "HBoxModel",
            "_view_module": "@jupyter-widgets/controls",
            "_model_module_version": "1.5.0",
            "_view_count": null,
            "_view_module_version": "1.5.0",
            "box_style": "",
            "layout": "IPY_MODEL_3e8b4f8f41684c2aaf2423c92a9ca2ef",
            "_model_module": "@jupyter-widgets/controls",
            "children": [
              "IPY_MODEL_57214b359c6a46e98c01b39dc0959b05",
              "IPY_MODEL_bb8f0b0073a145dfabc3461d6dba6f14",
              "IPY_MODEL_8aee515119f74a7c8f5163ba043023a3"
            ]
          }
        },
        "3e8b4f8f41684c2aaf2423c92a9ca2ef": {
          "model_module": "@jupyter-widgets/base",
          "model_name": "LayoutModel",
          "model_module_version": "1.2.0",
          "state": {
            "_view_name": "LayoutView",
            "grid_template_rows": null,
            "right": null,
            "justify_content": null,
            "_view_module": "@jupyter-widgets/base",
            "overflow": null,
            "_model_module_version": "1.2.0",
            "_view_count": null,
            "flex_flow": null,
            "width": null,
            "min_width": null,
            "border": null,
            "align_items": null,
            "bottom": null,
            "_model_module": "@jupyter-widgets/base",
            "top": null,
            "grid_column": null,
            "overflow_y": null,
            "overflow_x": null,
            "grid_auto_flow": null,
            "grid_area": null,
            "grid_template_columns": null,
            "flex": null,
            "_model_name": "LayoutModel",
            "justify_items": null,
            "grid_row": null,
            "max_height": null,
            "align_content": null,
            "visibility": null,
            "align_self": null,
            "height": null,
            "min_height": null,
            "padding": null,
            "grid_auto_rows": null,
            "grid_gap": null,
            "max_width": null,
            "order": null,
            "_view_module_version": "1.2.0",
            "grid_template_areas": null,
            "object_position": null,
            "object_fit": null,
            "grid_auto_columns": null,
            "margin": null,
            "display": null,
            "left": null
          }
        },
        "57214b359c6a46e98c01b39dc0959b05": {
          "model_module": "@jupyter-widgets/controls",
          "model_name": "HTMLModel",
          "model_module_version": "1.5.0",
          "state": {
            "_view_name": "HTMLView",
            "style": "IPY_MODEL_98186a57c1db4d1088e1204fe0b9f053",
            "_dom_classes": [],
            "description": "",
            "_model_name": "HTMLModel",
            "placeholder": "​",
            "_view_module": "@jupyter-widgets/controls",
            "_model_module_version": "1.5.0",
            "value": "",
            "_view_count": null,
            "_view_module_version": "1.5.0",
            "description_tooltip": null,
            "_model_module": "@jupyter-widgets/controls",
            "layout": "IPY_MODEL_04df1b02fc4d4b908627b634458ef3e7"
          }
        },
        "bb8f0b0073a145dfabc3461d6dba6f14": {
          "model_module": "@jupyter-widgets/controls",
          "model_name": "FloatProgressModel",
          "model_module_version": "1.5.0",
          "state": {
            "_view_name": "ProgressView",
            "style": "IPY_MODEL_8182ea3ff3a7475195dfd076024b02f6",
            "_dom_classes": [],
            "description": "",
            "_model_name": "FloatProgressModel",
            "bar_style": "success",
            "max": 28881,
            "_view_module": "@jupyter-widgets/controls",
            "_model_module_version": "1.5.0",
            "value": 28881,
            "_view_count": null,
            "_view_module_version": "1.5.0",
            "orientation": "horizontal",
            "min": 0,
            "description_tooltip": null,
            "_model_module": "@jupyter-widgets/controls",
            "layout": "IPY_MODEL_bf100597de2b48aba816cbb9c5995cc6"
          }
        },
        "8aee515119f74a7c8f5163ba043023a3": {
          "model_module": "@jupyter-widgets/controls",
          "model_name": "HTMLModel",
          "model_module_version": "1.5.0",
          "state": {
            "_view_name": "HTMLView",
            "style": "IPY_MODEL_b862259ce7b545c7988dd43f61a5c238",
            "_dom_classes": [],
            "description": "",
            "_model_name": "HTMLModel",
            "placeholder": "​",
            "_view_module": "@jupyter-widgets/controls",
            "_model_module_version": "1.5.0",
            "value": " 29696/? [00:00&lt;00:00, 296724.00it/s]",
            "_view_count": null,
            "_view_module_version": "1.5.0",
            "description_tooltip": null,
            "_model_module": "@jupyter-widgets/controls",
            "layout": "IPY_MODEL_e19603bca8e74ba9864785a4a189f091"
          }
        },
        "98186a57c1db4d1088e1204fe0b9f053": {
          "model_module": "@jupyter-widgets/controls",
          "model_name": "DescriptionStyleModel",
          "model_module_version": "1.5.0",
          "state": {
            "_view_name": "StyleView",
            "_model_name": "DescriptionStyleModel",
            "description_width": "",
            "_view_module": "@jupyter-widgets/base",
            "_model_module_version": "1.5.0",
            "_view_count": null,
            "_view_module_version": "1.2.0",
            "_model_module": "@jupyter-widgets/controls"
          }
        },
        "04df1b02fc4d4b908627b634458ef3e7": {
          "model_module": "@jupyter-widgets/base",
          "model_name": "LayoutModel",
          "model_module_version": "1.2.0",
          "state": {
            "_view_name": "LayoutView",
            "grid_template_rows": null,
            "right": null,
            "justify_content": null,
            "_view_module": "@jupyter-widgets/base",
            "overflow": null,
            "_model_module_version": "1.2.0",
            "_view_count": null,
            "flex_flow": null,
            "width": null,
            "min_width": null,
            "border": null,
            "align_items": null,
            "bottom": null,
            "_model_module": "@jupyter-widgets/base",
            "top": null,
            "grid_column": null,
            "overflow_y": null,
            "overflow_x": null,
            "grid_auto_flow": null,
            "grid_area": null,
            "grid_template_columns": null,
            "flex": null,
            "_model_name": "LayoutModel",
            "justify_items": null,
            "grid_row": null,
            "max_height": null,
            "align_content": null,
            "visibility": null,
            "align_self": null,
            "height": null,
            "min_height": null,
            "padding": null,
            "grid_auto_rows": null,
            "grid_gap": null,
            "max_width": null,
            "order": null,
            "_view_module_version": "1.2.0",
            "grid_template_areas": null,
            "object_position": null,
            "object_fit": null,
            "grid_auto_columns": null,
            "margin": null,
            "display": null,
            "left": null
          }
        },
        "8182ea3ff3a7475195dfd076024b02f6": {
          "model_module": "@jupyter-widgets/controls",
          "model_name": "ProgressStyleModel",
          "model_module_version": "1.5.0",
          "state": {
            "_view_name": "StyleView",
            "_model_name": "ProgressStyleModel",
            "description_width": "",
            "_view_module": "@jupyter-widgets/base",
            "_model_module_version": "1.5.0",
            "_view_count": null,
            "_view_module_version": "1.2.0",
            "bar_color": null,
            "_model_module": "@jupyter-widgets/controls"
          }
        },
        "bf100597de2b48aba816cbb9c5995cc6": {
          "model_module": "@jupyter-widgets/base",
          "model_name": "LayoutModel",
          "model_module_version": "1.2.0",
          "state": {
            "_view_name": "LayoutView",
            "grid_template_rows": null,
            "right": null,
            "justify_content": null,
            "_view_module": "@jupyter-widgets/base",
            "overflow": null,
            "_model_module_version": "1.2.0",
            "_view_count": null,
            "flex_flow": null,
            "width": null,
            "min_width": null,
            "border": null,
            "align_items": null,
            "bottom": null,
            "_model_module": "@jupyter-widgets/base",
            "top": null,
            "grid_column": null,
            "overflow_y": null,
            "overflow_x": null,
            "grid_auto_flow": null,
            "grid_area": null,
            "grid_template_columns": null,
            "flex": null,
            "_model_name": "LayoutModel",
            "justify_items": null,
            "grid_row": null,
            "max_height": null,
            "align_content": null,
            "visibility": null,
            "align_self": null,
            "height": null,
            "min_height": null,
            "padding": null,
            "grid_auto_rows": null,
            "grid_gap": null,
            "max_width": null,
            "order": null,
            "_view_module_version": "1.2.0",
            "grid_template_areas": null,
            "object_position": null,
            "object_fit": null,
            "grid_auto_columns": null,
            "margin": null,
            "display": null,
            "left": null
          }
        },
        "b862259ce7b545c7988dd43f61a5c238": {
          "model_module": "@jupyter-widgets/controls",
          "model_name": "DescriptionStyleModel",
          "model_module_version": "1.5.0",
          "state": {
            "_view_name": "StyleView",
            "_model_name": "DescriptionStyleModel",
            "description_width": "",
            "_view_module": "@jupyter-widgets/base",
            "_model_module_version": "1.5.0",
            "_view_count": null,
            "_view_module_version": "1.2.0",
            "_model_module": "@jupyter-widgets/controls"
          }
        },
        "e19603bca8e74ba9864785a4a189f091": {
          "model_module": "@jupyter-widgets/base",
          "model_name": "LayoutModel",
          "model_module_version": "1.2.0",
          "state": {
            "_view_name": "LayoutView",
            "grid_template_rows": null,
            "right": null,
            "justify_content": null,
            "_view_module": "@jupyter-widgets/base",
            "overflow": null,
            "_model_module_version": "1.2.0",
            "_view_count": null,
            "flex_flow": null,
            "width": null,
            "min_width": null,
            "border": null,
            "align_items": null,
            "bottom": null,
            "_model_module": "@jupyter-widgets/base",
            "top": null,
            "grid_column": null,
            "overflow_y": null,
            "overflow_x": null,
            "grid_auto_flow": null,
            "grid_area": null,
            "grid_template_columns": null,
            "flex": null,
            "_model_name": "LayoutModel",
            "justify_items": null,
            "grid_row": null,
            "max_height": null,
            "align_content": null,
            "visibility": null,
            "align_self": null,
            "height": null,
            "min_height": null,
            "padding": null,
            "grid_auto_rows": null,
            "grid_gap": null,
            "max_width": null,
            "order": null,
            "_view_module_version": "1.2.0",
            "grid_template_areas": null,
            "object_position": null,
            "object_fit": null,
            "grid_auto_columns": null,
            "margin": null,
            "display": null,
            "left": null
          }
        },
        "697743475c1e488cb157d0d3a390be3a": {
          "model_module": "@jupyter-widgets/controls",
          "model_name": "HBoxModel",
          "model_module_version": "1.5.0",
          "state": {
            "_view_name": "HBoxView",
            "_dom_classes": [],
            "_model_name": "HBoxModel",
            "_view_module": "@jupyter-widgets/controls",
            "_model_module_version": "1.5.0",
            "_view_count": null,
            "_view_module_version": "1.5.0",
            "box_style": "",
            "layout": "IPY_MODEL_655a74a790af4e67878926e2998762ca",
            "_model_module": "@jupyter-widgets/controls",
            "children": [
              "IPY_MODEL_cc436f2db28b43cb9aa58951a5eba5c4",
              "IPY_MODEL_19955bcdd1364322a46e646e81a58007",
              "IPY_MODEL_86e5053ef5824c49ab3895e9c518a203"
            ]
          }
        },
        "655a74a790af4e67878926e2998762ca": {
          "model_module": "@jupyter-widgets/base",
          "model_name": "LayoutModel",
          "model_module_version": "1.2.0",
          "state": {
            "_view_name": "LayoutView",
            "grid_template_rows": null,
            "right": null,
            "justify_content": null,
            "_view_module": "@jupyter-widgets/base",
            "overflow": null,
            "_model_module_version": "1.2.0",
            "_view_count": null,
            "flex_flow": null,
            "width": null,
            "min_width": null,
            "border": null,
            "align_items": null,
            "bottom": null,
            "_model_module": "@jupyter-widgets/base",
            "top": null,
            "grid_column": null,
            "overflow_y": null,
            "overflow_x": null,
            "grid_auto_flow": null,
            "grid_area": null,
            "grid_template_columns": null,
            "flex": null,
            "_model_name": "LayoutModel",
            "justify_items": null,
            "grid_row": null,
            "max_height": null,
            "align_content": null,
            "visibility": null,
            "align_self": null,
            "height": null,
            "min_height": null,
            "padding": null,
            "grid_auto_rows": null,
            "grid_gap": null,
            "max_width": null,
            "order": null,
            "_view_module_version": "1.2.0",
            "grid_template_areas": null,
            "object_position": null,
            "object_fit": null,
            "grid_auto_columns": null,
            "margin": null,
            "display": null,
            "left": null
          }
        },
        "cc436f2db28b43cb9aa58951a5eba5c4": {
          "model_module": "@jupyter-widgets/controls",
          "model_name": "HTMLModel",
          "model_module_version": "1.5.0",
          "state": {
            "_view_name": "HTMLView",
            "style": "IPY_MODEL_79a051edca4a4eeca8adb507e0a99840",
            "_dom_classes": [],
            "description": "",
            "_model_name": "HTMLModel",
            "placeholder": "​",
            "_view_module": "@jupyter-widgets/controls",
            "_model_module_version": "1.5.0",
            "value": "",
            "_view_count": null,
            "_view_module_version": "1.5.0",
            "description_tooltip": null,
            "_model_module": "@jupyter-widgets/controls",
            "layout": "IPY_MODEL_c2b899ef72744d50bd1363192138ec8a"
          }
        },
        "19955bcdd1364322a46e646e81a58007": {
          "model_module": "@jupyter-widgets/controls",
          "model_name": "FloatProgressModel",
          "model_module_version": "1.5.0",
          "state": {
            "_view_name": "ProgressView",
            "style": "IPY_MODEL_db9d51fb457a40c3972a3bf1ba2bde83",
            "_dom_classes": [],
            "description": "",
            "_model_name": "FloatProgressModel",
            "bar_style": "success",
            "max": 1648877,
            "_view_module": "@jupyter-widgets/controls",
            "_model_module_version": "1.5.0",
            "value": 1648877,
            "_view_count": null,
            "_view_module_version": "1.5.0",
            "orientation": "horizontal",
            "min": 0,
            "description_tooltip": null,
            "_model_module": "@jupyter-widgets/controls",
            "layout": "IPY_MODEL_5234d48dbf6e4834829a829a05b5cc38"
          }
        },
        "86e5053ef5824c49ab3895e9c518a203": {
          "model_module": "@jupyter-widgets/controls",
          "model_name": "HTMLModel",
          "model_module_version": "1.5.0",
          "state": {
            "_view_name": "HTMLView",
            "style": "IPY_MODEL_df7a0132fbd54f0ebe3ac73d80fac7fe",
            "_dom_classes": [],
            "description": "",
            "_model_name": "HTMLModel",
            "placeholder": "​",
            "_view_module": "@jupyter-widgets/controls",
            "_model_module_version": "1.5.0",
            "value": " 1649664/? [00:00&lt;00:00, 8351.60it/s]",
            "_view_count": null,
            "_view_module_version": "1.5.0",
            "description_tooltip": null,
            "_model_module": "@jupyter-widgets/controls",
            "layout": "IPY_MODEL_b0048eb72dbe4a8e858c4c5cb7a5ad41"
          }
        },
        "79a051edca4a4eeca8adb507e0a99840": {
          "model_module": "@jupyter-widgets/controls",
          "model_name": "DescriptionStyleModel",
          "model_module_version": "1.5.0",
          "state": {
            "_view_name": "StyleView",
            "_model_name": "DescriptionStyleModel",
            "description_width": "",
            "_view_module": "@jupyter-widgets/base",
            "_model_module_version": "1.5.0",
            "_view_count": null,
            "_view_module_version": "1.2.0",
            "_model_module": "@jupyter-widgets/controls"
          }
        },
        "c2b899ef72744d50bd1363192138ec8a": {
          "model_module": "@jupyter-widgets/base",
          "model_name": "LayoutModel",
          "model_module_version": "1.2.0",
          "state": {
            "_view_name": "LayoutView",
            "grid_template_rows": null,
            "right": null,
            "justify_content": null,
            "_view_module": "@jupyter-widgets/base",
            "overflow": null,
            "_model_module_version": "1.2.0",
            "_view_count": null,
            "flex_flow": null,
            "width": null,
            "min_width": null,
            "border": null,
            "align_items": null,
            "bottom": null,
            "_model_module": "@jupyter-widgets/base",
            "top": null,
            "grid_column": null,
            "overflow_y": null,
            "overflow_x": null,
            "grid_auto_flow": null,
            "grid_area": null,
            "grid_template_columns": null,
            "flex": null,
            "_model_name": "LayoutModel",
            "justify_items": null,
            "grid_row": null,
            "max_height": null,
            "align_content": null,
            "visibility": null,
            "align_self": null,
            "height": null,
            "min_height": null,
            "padding": null,
            "grid_auto_rows": null,
            "grid_gap": null,
            "max_width": null,
            "order": null,
            "_view_module_version": "1.2.0",
            "grid_template_areas": null,
            "object_position": null,
            "object_fit": null,
            "grid_auto_columns": null,
            "margin": null,
            "display": null,
            "left": null
          }
        },
        "db9d51fb457a40c3972a3bf1ba2bde83": {
          "model_module": "@jupyter-widgets/controls",
          "model_name": "ProgressStyleModel",
          "model_module_version": "1.5.0",
          "state": {
            "_view_name": "StyleView",
            "_model_name": "ProgressStyleModel",
            "description_width": "",
            "_view_module": "@jupyter-widgets/base",
            "_model_module_version": "1.5.0",
            "_view_count": null,
            "_view_module_version": "1.2.0",
            "bar_color": null,
            "_model_module": "@jupyter-widgets/controls"
          }
        },
        "5234d48dbf6e4834829a829a05b5cc38": {
          "model_module": "@jupyter-widgets/base",
          "model_name": "LayoutModel",
          "model_module_version": "1.2.0",
          "state": {
            "_view_name": "LayoutView",
            "grid_template_rows": null,
            "right": null,
            "justify_content": null,
            "_view_module": "@jupyter-widgets/base",
            "overflow": null,
            "_model_module_version": "1.2.0",
            "_view_count": null,
            "flex_flow": null,
            "width": null,
            "min_width": null,
            "border": null,
            "align_items": null,
            "bottom": null,
            "_model_module": "@jupyter-widgets/base",
            "top": null,
            "grid_column": null,
            "overflow_y": null,
            "overflow_x": null,
            "grid_auto_flow": null,
            "grid_area": null,
            "grid_template_columns": null,
            "flex": null,
            "_model_name": "LayoutModel",
            "justify_items": null,
            "grid_row": null,
            "max_height": null,
            "align_content": null,
            "visibility": null,
            "align_self": null,
            "height": null,
            "min_height": null,
            "padding": null,
            "grid_auto_rows": null,
            "grid_gap": null,
            "max_width": null,
            "order": null,
            "_view_module_version": "1.2.0",
            "grid_template_areas": null,
            "object_position": null,
            "object_fit": null,
            "grid_auto_columns": null,
            "margin": null,
            "display": null,
            "left": null
          }
        },
        "df7a0132fbd54f0ebe3ac73d80fac7fe": {
          "model_module": "@jupyter-widgets/controls",
          "model_name": "DescriptionStyleModel",
          "model_module_version": "1.5.0",
          "state": {
            "_view_name": "StyleView",
            "_model_name": "DescriptionStyleModel",
            "description_width": "",
            "_view_module": "@jupyter-widgets/base",
            "_model_module_version": "1.5.0",
            "_view_count": null,
            "_view_module_version": "1.2.0",
            "_model_module": "@jupyter-widgets/controls"
          }
        },
        "b0048eb72dbe4a8e858c4c5cb7a5ad41": {
          "model_module": "@jupyter-widgets/base",
          "model_name": "LayoutModel",
          "model_module_version": "1.2.0",
          "state": {
            "_view_name": "LayoutView",
            "grid_template_rows": null,
            "right": null,
            "justify_content": null,
            "_view_module": "@jupyter-widgets/base",
            "overflow": null,
            "_model_module_version": "1.2.0",
            "_view_count": null,
            "flex_flow": null,
            "width": null,
            "min_width": null,
            "border": null,
            "align_items": null,
            "bottom": null,
            "_model_module": "@jupyter-widgets/base",
            "top": null,
            "grid_column": null,
            "overflow_y": null,
            "overflow_x": null,
            "grid_auto_flow": null,
            "grid_area": null,
            "grid_template_columns": null,
            "flex": null,
            "_model_name": "LayoutModel",
            "justify_items": null,
            "grid_row": null,
            "max_height": null,
            "align_content": null,
            "visibility": null,
            "align_self": null,
            "height": null,
            "min_height": null,
            "padding": null,
            "grid_auto_rows": null,
            "grid_gap": null,
            "max_width": null,
            "order": null,
            "_view_module_version": "1.2.0",
            "grid_template_areas": null,
            "object_position": null,
            "object_fit": null,
            "grid_auto_columns": null,
            "margin": null,
            "display": null,
            "left": null
          }
        },
        "f86014d594994e7082b538207c640cae": {
          "model_module": "@jupyter-widgets/controls",
          "model_name": "HBoxModel",
          "model_module_version": "1.5.0",
          "state": {
            "_view_name": "HBoxView",
            "_dom_classes": [],
            "_model_name": "HBoxModel",
            "_view_module": "@jupyter-widgets/controls",
            "_model_module_version": "1.5.0",
            "_view_count": null,
            "_view_module_version": "1.5.0",
            "box_style": "",
            "layout": "IPY_MODEL_3ef7ff1c81564598ab77a511070ce5c5",
            "_model_module": "@jupyter-widgets/controls",
            "children": [
              "IPY_MODEL_8309a09cfb2c4a878314041a021b63bf",
              "IPY_MODEL_64112cc1655c4671af02e1ec9530f570",
              "IPY_MODEL_d11299e0fc584cb180c17fde4c7802ce"
            ]
          }
        },
        "3ef7ff1c81564598ab77a511070ce5c5": {
          "model_module": "@jupyter-widgets/base",
          "model_name": "LayoutModel",
          "model_module_version": "1.2.0",
          "state": {
            "_view_name": "LayoutView",
            "grid_template_rows": null,
            "right": null,
            "justify_content": null,
            "_view_module": "@jupyter-widgets/base",
            "overflow": null,
            "_model_module_version": "1.2.0",
            "_view_count": null,
            "flex_flow": null,
            "width": null,
            "min_width": null,
            "border": null,
            "align_items": null,
            "bottom": null,
            "_model_module": "@jupyter-widgets/base",
            "top": null,
            "grid_column": null,
            "overflow_y": null,
            "overflow_x": null,
            "grid_auto_flow": null,
            "grid_area": null,
            "grid_template_columns": null,
            "flex": null,
            "_model_name": "LayoutModel",
            "justify_items": null,
            "grid_row": null,
            "max_height": null,
            "align_content": null,
            "visibility": null,
            "align_self": null,
            "height": null,
            "min_height": null,
            "padding": null,
            "grid_auto_rows": null,
            "grid_gap": null,
            "max_width": null,
            "order": null,
            "_view_module_version": "1.2.0",
            "grid_template_areas": null,
            "object_position": null,
            "object_fit": null,
            "grid_auto_columns": null,
            "margin": null,
            "display": null,
            "left": null
          }
        },
        "8309a09cfb2c4a878314041a021b63bf": {
          "model_module": "@jupyter-widgets/controls",
          "model_name": "HTMLModel",
          "model_module_version": "1.5.0",
          "state": {
            "_view_name": "HTMLView",
            "style": "IPY_MODEL_8b5789c5bfb24f9b9dae724db215f2d1",
            "_dom_classes": [],
            "description": "",
            "_model_name": "HTMLModel",
            "placeholder": "​",
            "_view_module": "@jupyter-widgets/controls",
            "_model_module_version": "1.5.0",
            "value": "",
            "_view_count": null,
            "_view_module_version": "1.5.0",
            "description_tooltip": null,
            "_model_module": "@jupyter-widgets/controls",
            "layout": "IPY_MODEL_2ac77f46f1344d879efabfaedeace78f"
          }
        },
        "64112cc1655c4671af02e1ec9530f570": {
          "model_module": "@jupyter-widgets/controls",
          "model_name": "FloatProgressModel",
          "model_module_version": "1.5.0",
          "state": {
            "_view_name": "ProgressView",
            "style": "IPY_MODEL_711920af201041a29bd47294ca6cc7ca",
            "_dom_classes": [],
            "description": "",
            "_model_name": "FloatProgressModel",
            "bar_style": "success",
            "max": 4542,
            "_view_module": "@jupyter-widgets/controls",
            "_model_module_version": "1.5.0",
            "value": 4542,
            "_view_count": null,
            "_view_module_version": "1.5.0",
            "orientation": "horizontal",
            "min": 0,
            "description_tooltip": null,
            "_model_module": "@jupyter-widgets/controls",
            "layout": "IPY_MODEL_9dae8777d85e407a918d42551f7660db"
          }
        },
        "d11299e0fc584cb180c17fde4c7802ce": {
          "model_module": "@jupyter-widgets/controls",
          "model_name": "HTMLModel",
          "model_module_version": "1.5.0",
          "state": {
            "_view_name": "HTMLView",
            "style": "IPY_MODEL_f15acb0a38da4cf6bb131d558ae45238",
            "_dom_classes": [],
            "description": "",
            "_model_name": "HTMLModel",
            "placeholder": "​",
            "_view_module": "@jupyter-widgets/controls",
            "_model_module_version": "1.5.0",
            "value": " 5120/? [00:00&lt;00:00, 88554.93it/s]",
            "_view_count": null,
            "_view_module_version": "1.5.0",
            "description_tooltip": null,
            "_model_module": "@jupyter-widgets/controls",
            "layout": "IPY_MODEL_59f4ad8d0d684c0bb1e5db5c6bcda4db"
          }
        },
        "8b5789c5bfb24f9b9dae724db215f2d1": {
          "model_module": "@jupyter-widgets/controls",
          "model_name": "DescriptionStyleModel",
          "model_module_version": "1.5.0",
          "state": {
            "_view_name": "StyleView",
            "_model_name": "DescriptionStyleModel",
            "description_width": "",
            "_view_module": "@jupyter-widgets/base",
            "_model_module_version": "1.5.0",
            "_view_count": null,
            "_view_module_version": "1.2.0",
            "_model_module": "@jupyter-widgets/controls"
          }
        },
        "2ac77f46f1344d879efabfaedeace78f": {
          "model_module": "@jupyter-widgets/base",
          "model_name": "LayoutModel",
          "model_module_version": "1.2.0",
          "state": {
            "_view_name": "LayoutView",
            "grid_template_rows": null,
            "right": null,
            "justify_content": null,
            "_view_module": "@jupyter-widgets/base",
            "overflow": null,
            "_model_module_version": "1.2.0",
            "_view_count": null,
            "flex_flow": null,
            "width": null,
            "min_width": null,
            "border": null,
            "align_items": null,
            "bottom": null,
            "_model_module": "@jupyter-widgets/base",
            "top": null,
            "grid_column": null,
            "overflow_y": null,
            "overflow_x": null,
            "grid_auto_flow": null,
            "grid_area": null,
            "grid_template_columns": null,
            "flex": null,
            "_model_name": "LayoutModel",
            "justify_items": null,
            "grid_row": null,
            "max_height": null,
            "align_content": null,
            "visibility": null,
            "align_self": null,
            "height": null,
            "min_height": null,
            "padding": null,
            "grid_auto_rows": null,
            "grid_gap": null,
            "max_width": null,
            "order": null,
            "_view_module_version": "1.2.0",
            "grid_template_areas": null,
            "object_position": null,
            "object_fit": null,
            "grid_auto_columns": null,
            "margin": null,
            "display": null,
            "left": null
          }
        },
        "711920af201041a29bd47294ca6cc7ca": {
          "model_module": "@jupyter-widgets/controls",
          "model_name": "ProgressStyleModel",
          "model_module_version": "1.5.0",
          "state": {
            "_view_name": "StyleView",
            "_model_name": "ProgressStyleModel",
            "description_width": "",
            "_view_module": "@jupyter-widgets/base",
            "_model_module_version": "1.5.0",
            "_view_count": null,
            "_view_module_version": "1.2.0",
            "bar_color": null,
            "_model_module": "@jupyter-widgets/controls"
          }
        },
        "9dae8777d85e407a918d42551f7660db": {
          "model_module": "@jupyter-widgets/base",
          "model_name": "LayoutModel",
          "model_module_version": "1.2.0",
          "state": {
            "_view_name": "LayoutView",
            "grid_template_rows": null,
            "right": null,
            "justify_content": null,
            "_view_module": "@jupyter-widgets/base",
            "overflow": null,
            "_model_module_version": "1.2.0",
            "_view_count": null,
            "flex_flow": null,
            "width": null,
            "min_width": null,
            "border": null,
            "align_items": null,
            "bottom": null,
            "_model_module": "@jupyter-widgets/base",
            "top": null,
            "grid_column": null,
            "overflow_y": null,
            "overflow_x": null,
            "grid_auto_flow": null,
            "grid_area": null,
            "grid_template_columns": null,
            "flex": null,
            "_model_name": "LayoutModel",
            "justify_items": null,
            "grid_row": null,
            "max_height": null,
            "align_content": null,
            "visibility": null,
            "align_self": null,
            "height": null,
            "min_height": null,
            "padding": null,
            "grid_auto_rows": null,
            "grid_gap": null,
            "max_width": null,
            "order": null,
            "_view_module_version": "1.2.0",
            "grid_template_areas": null,
            "object_position": null,
            "object_fit": null,
            "grid_auto_columns": null,
            "margin": null,
            "display": null,
            "left": null
          }
        },
        "f15acb0a38da4cf6bb131d558ae45238": {
          "model_module": "@jupyter-widgets/controls",
          "model_name": "DescriptionStyleModel",
          "model_module_version": "1.5.0",
          "state": {
            "_view_name": "StyleView",
            "_model_name": "DescriptionStyleModel",
            "description_width": "",
            "_view_module": "@jupyter-widgets/base",
            "_model_module_version": "1.5.0",
            "_view_count": null,
            "_view_module_version": "1.2.0",
            "_model_module": "@jupyter-widgets/controls"
          }
        },
        "59f4ad8d0d684c0bb1e5db5c6bcda4db": {
          "model_module": "@jupyter-widgets/base",
          "model_name": "LayoutModel",
          "model_module_version": "1.2.0",
          "state": {
            "_view_name": "LayoutView",
            "grid_template_rows": null,
            "right": null,
            "justify_content": null,
            "_view_module": "@jupyter-widgets/base",
            "overflow": null,
            "_model_module_version": "1.2.0",
            "_view_count": null,
            "flex_flow": null,
            "width": null,
            "min_width": null,
            "border": null,
            "align_items": null,
            "bottom": null,
            "_model_module": "@jupyter-widgets/base",
            "top": null,
            "grid_column": null,
            "overflow_y": null,
            "overflow_x": null,
            "grid_auto_flow": null,
            "grid_area": null,
            "grid_template_columns": null,
            "flex": null,
            "_model_name": "LayoutModel",
            "justify_items": null,
            "grid_row": null,
            "max_height": null,
            "align_content": null,
            "visibility": null,
            "align_self": null,
            "height": null,
            "min_height": null,
            "padding": null,
            "grid_auto_rows": null,
            "grid_gap": null,
            "max_width": null,
            "order": null,
            "_view_module_version": "1.2.0",
            "grid_template_areas": null,
            "object_position": null,
            "object_fit": null,
            "grid_auto_columns": null,
            "margin": null,
            "display": null,
            "left": null
          }
        }
      }
    }
  },
  "cells": [
    {
      "cell_type": "markdown",
      "metadata": {
        "id": "view-in-github",
        "colab_type": "text"
      },
      "source": [
        "<a href=\"https://colab.research.google.com/github/zaedulislam/PyTorch_for_Deep_Learning_and_Computer_Vision/blob/main/Section%207%20-%20Image%20Recognition%20-%20PyTorch.ipynb\" target=\"_parent\"><img src=\"https://colab.research.google.com/assets/colab-badge.svg\" alt=\"Open In Colab\"/></a>"
      ]
    },
    {
      "cell_type": "markdown",
      "source": [
        "# 46. Image Transforms - Loading Images and Transforms"
      ],
      "metadata": {
        "id": "9xZS4Ao21njH"
      }
    },
    {
      "cell_type": "markdown",
      "source": [
        "## Installation"
      ],
      "metadata": {
        "id": "CYOqBzcZmS1B"
      }
    },
    {
      "cell_type": "code",
      "execution_count": 2,
      "metadata": {
        "colab": {
          "base_uri": "https://localhost:8080/"
        },
        "id": "RiX5ktkzIi5X",
        "outputId": "9218a9d9-5b16-49ae-82bc-2433b0c02061"
      },
      "outputs": [
        {
          "output_type": "stream",
          "name": "stdout",
          "text": [
            "Requirement already satisfied: torch in /usr/local/lib/python3.7/dist-packages (1.10.0+cu111)\n",
            "Requirement already satisfied: typing-extensions in /usr/local/lib/python3.7/dist-packages (from torch) (3.10.0.2)\n",
            "Requirement already satisfied: torchvision in /usr/local/lib/python3.7/dist-packages (0.11.1+cu111)\n",
            "Requirement already satisfied: torch==1.10.0 in /usr/local/lib/python3.7/dist-packages (from torchvision) (1.10.0+cu111)\n",
            "Requirement already satisfied: pillow!=8.3.0,>=5.3.0 in /usr/local/lib/python3.7/dist-packages (from torchvision) (7.1.2)\n",
            "Requirement already satisfied: numpy in /usr/local/lib/python3.7/dist-packages (from torchvision) (1.19.5)\n",
            "Requirement already satisfied: typing-extensions in /usr/local/lib/python3.7/dist-packages (from torch==1.10.0->torchvision) (3.10.0.2)\n"
          ]
        }
      ],
      "source": [
        "!pip3 install torch\n",
        "!pip3 install torchvision\n",
        "\n",
        "# Alternatively, both packages can be installed in one line using the following command\n",
        "# !pip3 install torch torchvision"
      ]
    },
    {
      "cell_type": "markdown",
      "source": [
        "## torchvision\n",
        "The **torchvision** is a standard package that contains many types of datasets, most notably the enhanced image dataset and it also consists of transformations that are commonly applied to these images in order to preprocessed them before they are fed into a neural network."
      ],
      "metadata": {
        "id": "Bs9EjScZJmPb"
      }
    },
    {
      "cell_type": "code",
      "source": [
        "import torch\n",
        "import matplotlib.pyplot as plt\n",
        "import numpy as np\n",
        "import torch.nn.functional as F\n",
        "from torch import nn\n",
        "from torchvision import datasets, transforms"
      ],
      "metadata": {
        "id": "ar3b0xDIJSCp"
      },
      "execution_count": 1,
      "outputs": []
    },
    {
      "cell_type": "markdown",
      "source": [
        "Currently, [MNIST images](https://www.notion.so/islamzaedul/Section-7-Image-Recognition-PyTorch-2348e3c44df44cc4833575befa5f1259#545240f4a81f4518900c7c51cc5db4d9) are 28 by 28 greyscale images, which would imply that each image is a two dimensional numpy array. Twenty eight pixels wide and twenty eight pixels long, each pixel intensity ranging from 0 to 255.\n",
        "\n",
        "We must transform this image from being an array to a tensor. The compose will allow to chain together transformations.\n",
        "\n",
        "\n",
        "\n",
        "1. simply convert the numpy array in the range of 0 to 255 to a float tensor in the range from 0 to 1 encoded in a tensor shape which characterises the images channel height and weight (**C, H, W**) like [this](https://www.notion.so/islamzaedul/Section-7-Image-Recognition-PyTorch-2348e3c44df44cc4833575befa5f1259#6d9cc704476a4290a8795a5ce54cfe1e).\n",
        "\n",
        "2. Apply the normalized transformation so transforms do normalize. We normalized the values for each transfer of image, size, channel height and width. The first set of brackets, we specified the mean that we would like to use to normalize all channels of the tensor image. In the second set of brackets, we specified the center deviation.\n",
        "\n",
        "The reason why we chose **0.5** values for all of them is because ultimately we want to convert the tensor image range to go from 0, 1 to -1, -1. The way it does this is take, for example, the minimum value of zero by subtracting the mean and dividing by standard deviation, both of which are **0.5**, it yields a -1.\n",
        "\n",
        "![image.png](data:image/png;base64,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)\n",
        "\n",
        "Doing the same thing for the maximum value yields a value of **1**, hence creating the range from **-1** to **1**.\n",
        "\n",
        "![image.png](data:image/png;base64,iVBORw0KGgoAAAANSUhEUgAAAdEAAAB/CAYAAACwovixAAAgAElEQVR4nO2dd3wcxdn4vzN7d2pWs4p7BxubbsAG04Jp4aUkEAghIQmEEkIIJCEhhUDq+0ulJpAGIY2EJC+YkmCaKcYGGzBgHFwwxr2qy6p3tzO/P2b37iRLsnSSsbGfrz9rnU53u7M7u/PMU0c1Njfbdgyt2uJ7moTvY7AAGGMIMTb92hqLIAiCIOzNKEAZS0RpvKRPnvKIKo2HAmvxtCbSaJMsa6nlyZVLWLplI5saa2kzfo87zhSugiAIgrA3olGU5hcwqngwx4yZyFHlIxgWzSPXKDwLRmvUL958wT731iJi0RhTxo6nsngwMR1FAQT/d3wFoocKgiAIeyMq2CxgsNS1b2fD1s2sXLeWYRWVXDh1BuMiBRQYRRSNmvq7H9gZhxzO56adxkgVpQRFFKdtaq1TO7ZWRKcgCIKw96CU6voPgbizCpqx1GN5sWY1v33qMcqsx+UzTmYCeeSgiBwzdiJXTZ3JWKLEUHgZO88022YerNsDC4IgCMJeggLyUeRYOL1sPPrY0/jZ07N44b3lDBk1BaM81IK2WntwTim5pNVYQRAEQRDS+EAVhptenEXD2o18+pBjGB7JQ4/OKSEf0IgAFQRBEISu8IBBKE6YciitbW1si7fQ2t5GJAfl7L8iQQVBEASha6wTk6MKKkkkEtS2tdDqeUR0+u8iRwVBEAShK5RLeYnh4fs+bYk4rYk2IpZOKSsiTQVBEAShexTEE3HiNkrEx4XxKpAEUEEQBEHohlDpVCgS7Qnitp0IuKAiQDRQQRAEQeiGVAaLgngyQdxE0vJTEARBEISeCa22vjEkfV+EqCAIgiD0BYvFGosRISoIgiAIfUMpRSKZEE1UEARBEPqKtTa1iRAVBEEQhD5iTSBEreS1CIIgCEKvUcFiaUohmqggCIIgZIuW5FBBEARB6BtGfKKCIAiCkB0usEjMuYIgCIKQNVqMuYIgCIKwc1ztXIW1GmM9EkaLJioIgiAIvUcBGoOHwRMhKgiCIAjZIkJUEARBEPqIVgprJDpXEARBEPpGRjCRCFFBEARByBIp+ycIgiAIfUChMNaClP0TBEEQhOwRISoIgiAIWSK1cwVBEAShD1hc3VylpdiCIAiCIGSNlP0TBEEQhF5hUVgIV2+RAvSCIAiC0BssCoMKBKkK/okQFQRBEIReoTL+d8I0sjubIwiCIAgfDFTGT4Vb08WIJioIgiAIvUOlfigFiCYqCIIgCH1DodBBeosIUUHYyzHdvC9mKEHoGza1OVOuUiJEBWGvxmZsmUhqmyBkR1qIusAimYwKgiAIQpaIEBWEvRRrrYshDBLCrUnHFYomKggDQ0QWQhOEvROlFO3t7Vx59TWsWvUe1lq09ph+9HR+/uMf7e7mCcJegfhEu8SSOVfvaqKR3Uw+3NO+pgd8UD1yvZlidn0u3X1z15+5u3fDO/i5F+ayePESUBqLJTcnhzM+fPoub8Wupa/30+7rDWHvJyK3UZrU8GOts31pj42bt/Lv2U/S3h4n6fsurFkrPvaRsxgxbGgf9t45RnLvu/JdTzbSYS3WWpTSEKyAYK3TlpRSqd91p2rOHacz70+bO7d753vY0Stigb/982G2bNsKxhDxNEppDpg4gVNnfgitdYfPDsw5pu8xYxXNra08+PC/8VUE34DSigkTD+Dggw/u437TLXR92KmPunhvV5EO6OiM6ub+6y422e1NPFpCfxFNNAPV6Tdr4ff3/IGHHn0MpTw3lFjL9KOncfEnLujX3vdGuhY5Kl3nQ6nU8GeVAgXGBlcm+D1ToHwwXA3d92teQT7//NdDtDQ3uYkZMHL4EEaPHMHkAybt8ma9vXQ5y1a842qqaAXKcsrJJzO4tCSYwPRtlxZApbVca23QnwreN0HqKsXYjPuquz5QGZ/vaV+dvyEIfUGEaFcoV45i4auv89h/Zru5rLEoBVopLvvc5yguLk59PJzr9jzouwdU7/DO3o27Nu5M16/fxIKFC1i2bDmbt20jkUwSi8YYNnwYB0yezLHTpzN8aEXqGwMeAJNhTbed3tqR3h+9u0+dPPNEZs9+gldffY2k767Elq1V/OX+v/Oj738PPeBKULosmW/g3/+ZTeP2JveWNRQXFfGxcz8CgLEWvROhZwivj2LDxs0sWLCQZcuWsXXLFnzfJxqJMGz4cA6YfADHzphBZWU54O7xXWs90Kn29XQcJ+y77seOjpWuNNu9j+7SnbpjV/fj3oII0R1wt01TSyu33nkX7b4F5blZtjGc8T+nM/Wwg1DBQFxX18AXvngN7Ylkj4+iVQplLSedeAJXX3UFkYiXcbS9C2vDoRe2Vdcwb8FrzHroYZYtX0YymUQphVFp85vv+8AsYtEIR009ggs+dh5HHHYw5YNLBs5UaNPDpgWqq2v49k03s3bj5i4GFUX6DHpGYbnlxz/kkAOndHofivJyuOTTn2LRotfBOO0pbg2zn57DhZ/4BIcceMCAThRsMDswwLr1G3niyafwLaAU2lq+eNWVFOXHnHDp7poG18mi2FpVxbyXX+OhWbNYvnwFST+J1hpjOptIHyEaiTJ16lTOv+B8jjrsQMpKineZmXfbtipu+u73WbdhEzZl3dhRPPQsQC3KWm752U84cPLEfcKwu62qis9ffa2zAu0EBVx95RWcdspJu75hH3BEiHbD/JcX8t6adVjlOb+KVVRWVnLNF64kKJnoNBqlWLNuPW3tiW6FaPigKywH1dTi2737wocD56LX3+D2u37LkqUrSCQSwfs6GO/SA1z4+UTC8vIrr/HaoteZMe1IbvjqdYwbO3qAWmVTfaZQJHyfLdu2sWnTli4Hld6mUCtsSsvc8W8w/aipzDzpJJ585lmMs4eSSPr8+te/5Y7bfkFO1Mv6jHZocyBDfAt33f0b4sl0u8aPH8vpp560c4GtnEB6bdHr3HHXb1mydDkJP7QnaHw/9Gt3pC2R5KWFr7DojTc5dvoR3PCVaxk9etTAnFhm84B4wmfTlm1s3LINE7RFZ+jNHT5tO5+xwqrQG2pImg+G06A/GGPQWpOIJ1i9Zm2v9e7tTdvfV3/3B5W9ffKVFYlEkrnzXqY9nkhpJArLCccfS1lFmXMvpe4rFyRjrMVY5+PzMzZjwZggkMa4oKVAlOx1pMSitSxbvpKv3/At3lqyBD/pNBilVOrv1oA17ppoq9BWoZR2189YXpz/Eld8/irefW9NSrPtX+N0Byeg68OIWxHQpjc3woaGrF5s3djHwvxMUFx5xWXEIppQZzIWli5/h6XLlvf/vDodUylYtnQZC199Dd8YUIqohlNmnkhJUWGHz3d1Va21LFu2guu/dgOLF79F0vexaLTW7lStTZ1yZ/OgBRK+z/NzX+TSy67g3ffWsCtklNbu2hpU6pkzVmGNxhqVsQUxglZlbATvu3vw/XO8d3XVutsGllAIKu2550B7XWyZ70dAeW7iHwT9Cd2zN47l/cIYqG3YzksLFhIGTFhrycvL4UPHzyBHe2QOsaaDFmKDgJn0prSb2SubHmo81Vtj4QeL8HzeXLKUL177VWobmtF4aGvRxuBZgzY+ebEYo4cPZcLY0YwcNjQQMMZNLrR7ePEibK2t41s3fZe16zcGe84YZLJ5rpVy/RMMoMakvWYAaCfELQSjLzvdrKUL82awOwVRDSOHljFj+pF41kcZH60UdY1NvLTwVXxjBmyQUgp8Y5jz/Fy2N7dilUZZS0lBLqfPPBEvcMJmBm7Z1Cv3/xtvvc3V136VusYm0DoQ+z5YH0WS3NwoI4ZXMmb0CIYNrSAW1UEErEVrhbEGvBjb6pu58bs/Yv2GTelrOkCojJ8ag8Z3vag0ST+c0BqMtbh/psMGPsr6YJNYkwwmdj1F8Q4Uu1eIGuO73adnHmAsxhiSfpJ4IkHSNySNwTcZHhChR/Zmq2JWKA3PPfcC1dXV+FajtMb6PpWVFUybdpTzhYZ+I+sGDq3cgOneTYc7WKUC7TP11sAHy+xBWAvNLa386U9/paa2DqU8fGOctoclojWfveSznHfuRygqyne+UWupqqrl/vsf4OFH/03C2tQFslaxfMU7PPDPf/HNr30l4zLavoeWdkJl/J+a3hhDxFMY64fv7Hw/Cjzdc1vy8vI4evpRvDDvJawxaOVhjGHBgoVc+plPkReLZnsaO9Dc0sYzz8zB2mBSgmXGMUez/377dXnfZSaGbG9q4b4//Zna+gaU8jA2rfVFMFx6yWc499zzKCoqQCuFby1VVTXcf//fmPXoYyStwRBEsRvL0uXL+fs//49vXn+ti8LeZTe+Uy+VUuTEPHyTIDUxCE6vo0lSpawCYd/pIPVq1z6du+/JD82yGn8Hc65CYbV2Y5gJzPVqXwm36j8iRDuR9A0PPvRQoF1oJzCV4qyzziQn5i5Xyk+gFCXFRbw07wX3fsZ+LHD/3/+PX9xyG75J4nkDN1DuqSgFr73+JvNfehkC/YRAKZ88aRI/+N5N7D9h7A4ysLhgEDffeAOnnnoyP/zJz1m/YQMop5t62mPWI//mrDPPYsrk/bGpRXAH5gG3Ga/GjRnFL395B5UV5dheagSK9EPUnf9IAUcdNY38vDyaW1qDDxveXrqUjZs2s9/YURmfzB4DPPLIY6zfuBGLRgGDBuXzhS98wZljM9rnJnOh5uPMoq8sepOXXl6Yjqi2zoIyZfIB/PC7N7L/hHEYYzpotCUFBdx84zc5+eSZ/Ognv2Ddpi2gNFa5/n9w1izOOvMMJk/af5eJKAVMGDeKO++4g8GlJWgv4ygpw4VN9akKro3CEvXSectd+Xp7Q+/8hgN35tn4KZVSjBg+jNdffXmHOzue9PnajTfz3LMv7OhCFnaKmHM78c6KlaxcuTJVBAAsubm5fOScc1KfCf17Wik8HT6Q7mJ22BR4yqYGnb2dpIHb77iT9ngCgzONYi0VFaXc+O0b2G/CWKALjSQQtNOOmso3b7geTymsMRD4SFva4vy/n/48CAIJB8OBcWhZnInXrcbgkxfziEU1edFIr7bcaIRYNBKcV/cj0NixoznwwIMIRZdSkEgkePDBh/qtoYWWkZqaWn7/hz+QVuUNZ3z4dEYMH9pF+0J7tLuOSWO48667aU0k8cM2akVleTnf+dYN7D9hXKC5dSoSoRSeUhw7/Si+fcPXiIaui8Cn1toW52e/uHWXBvAoLB6GgpwIg/Ji5Mei6S3HbQU5MQbl5ARblILgvVgk8ItnKUCBDn5Da21q29PobpxSOCuMxe5Ca8Hei2iinZg/fz5aex2SPw879BDKBxc681YXN1nHt9Lz7XCmr3gf4xd2ExZ4cd583lu9FnTEBXG4p5MLzvsoB06elPpcd54fpRXHHXMU55xzFrMefhQCT6nC8u57q1i8ZAlTDz1wF2gzYYsMGuN8l8qjt9pDbz4V8TTnnHM2ry5a5ExmLmyDp556muuv+yLRaPaPolIKYywPP/IYDY1NWOVhfZ/BJUV8+LTTerBSpn2h8+a9xKpVq7GBkDTKElFwwfnnMeWAiV26ITL7UWnNCTOmc+7ZZzLrscdJZgzZK1a8w9tvL+PwQ6awawhLPuyeZalCzdD3faqqqzOb1dXLndLd/VRZWSGRsnsgIkQzaG2L8+aSpSSMxeJBMMM98dij3XDQ6/vX5QSGq8311jT4Qca38MxzczFKB9VwXMDC8GFD+OSFH0d1Gsi7u5QKuOryzzH3+Reoqd8e7NvQ2p5g0ZtvcfihrmRdp5CgXhNOaDILCYTd07uBOCU2+nZgCzNPOJaf5ufS2NzmgpuUorq2nreXr+DQgw/q0x4tKZ0WgOraWp574UWM8vCts5AcfOAUDpg4YYdSimlUStt/+tnnA43caSVKwYjhQ/nEx8/rtjao6vTaAFddfinPvTCXmsYWCKLW29qTvLF4CYcdMmVAJkBdKXnpWliQFu/vr0itq6/nkxd/NtUSmwpW6ti6ndGVSVVZy38eeYhBBfkD0NIuj0pYxmrvH60GFhGiARaorq5mw6YtGEItxFI0KI9Dp0yk99l84XDitCgXaGH2ehd9fUMjK1atwYXkOBO2tpbTTz2FwoKCXpuJrLUMqxjM1EMPYc7c+RiTTh9a/s4q2tvjFOTk9P1B70L2dYyRzoi5tmpAo2AU4CkoKsjl0IMPYu6C17BKB0IG3li8hEMPPijLvbsJ21tvL+e/y98JJm2AtZz/sXMpyMvroVVuwKypq2flqtXu3VQlI8vJM0+ipHBQr1uiFVRUlHHIIQfx/PyFTpQZd47Llr9De3ucvJxYlucZnK3tekratXWju7tkYJ/GtCZqqKnfnspdNVmasI3aUeh6+PgmbTIeaI1U4fo+zKEVes++4azrJbX19dTV13coDl5WVsbgwYN3Y6s+GGzbuo2a2hqAVD5oLBplxoyjAfrkI9La4+BDDiasx+ppD2Mtq9esobW1beAa3WkcsnhuC/1jXWYgBEI2i4wEay2Tp0zu8DvA6tVruk2T2dkJWKuIJw1/uf/vJJNBqok1HHrQFI4/7tggxapntm7dSm1dXWpBAIBoNMrxxx2XEsi9JRKJcMhBBwcm6yBlyVrWrltHe3t7FufYG0Krj5u+mmACmxk01ufOypK0BUql0tz6vJH2X3ZlRhf2LCJ2l4d1f3Coqqpl+/btqRBvYwzl5eUiRHtBfUMDTU1NqVVafGOorBxCRXl5n2bN4WdHjhpBTk4ObfEExhgsULVtG/H4AA/EylWjsiisjuCj8JVi5ao1vLvqXeLxOMVFRVRWDmH82LHk5UbTNUVt+F8vfadKsd+ECUGkLE51M5bNmzfT3NxCUR+0vvCIvoW58xfw2htvuZQq3yc36nHN1VcR1T0bvMOWNwR9B66mrrKWisoKysvLwob3vl1KMWrUCGKxGIlkEmN8NLB1y1YSiUSv99MX3NzGw6BIWsu7767mvffeJRGPU1xczNDKSsaMGUtObo4rssHAjnjhpFspBdZP5YRnewzVRRRFanUpYY9DzLkZrN+wPkhpIVxUhPLycgoKCnZ30/Z4mpubaGttSaVSGGMoKSnJ+tqVlQ4mNy+X1rZ2tNJYZWncvp14PIEJB6l+h7WSkQKhaG5p454/3s/TTz9NdW1Nav/Ot6UoKS7m6GnTufiiC5k4fhQFebkZbehdW8rLyygsLKK2tjaI8oba2lqampr6JERD2uNx7v3jn/Fx0eJaW6YefggHT5nEzgS8wgnh5uYW2lrb8DwXaW78JKUlJeTnd2cK3tk5lpObl0t7QwNauSzhxsYGEvHELiojp2hpi/O7e//CM888TU1NdfoYQYJqSUkJxxx9DBdddCH7jxtFftB3A9GW8JwGl5byt7/8qU/+z+7OZ8d3LLm5OR2OJ+wZiBDNYMOGjRhjUkEnSimGDh3q3GRy43aLtZbt25tc9SbtNHilNAUFBeTm5ma1z5LSEmIx5z+zOL8ovkvuHzNyRN932GVUdUbpcgWbt27lgX/8C7AYH5dvaMFahedFqKvfzuNPPcPc+fM5dtoRXH7ppzlwyuQ+aTZFhYXk5+VS7zmfqNaaxsZGWtv6bqa2wKuvLeLdd1cFZ2PwFJwycyb5BflBGVzboyZpraWhcTvG+FilMdbieZGg77ITosUlxUQjkSD1w7Uh6Ru2VdcwfNiQrPbZRcvJdHRv2rSVf/zzXyilsbi1W42xoDRae9Q1tDD7qWd5Yd5LHDv9CC6/5GImT57c0wF6TTgueJ7moMkTB2SfXRGerd5HUuY+KGgx5TossGnLNlA65WRXwMiRI9zve6gAzcxP6/V36Gwsyt5MFE4uamtrMdY4rc1arPXJzc0hmkU1Hgvk5ubhaQ8C/2oY7FJbW5dtS1OvVDCwewq0p4M4IhWkmVisMcQiUTy0C5BSGmssno6glEdLSxvPvjCPz33+izw6++nAHNzd0TpSOGgQeTlRtPbcgG8tTa2tffYXWiDhG+a8MJ+mljY3ITAJ8vOinHLKzOB+7TlAylhLRCvq6+o77NdYQ0FePjnRaFajQ25urotkT1XrchmJdRnH6R+uUli4oIFS0dSqSMb4eJEIKIX2PBfko3VQ0tHS1NzCnOfmcvlV1/DkM88NSG3fzGevc+3sgdpS6+4KexyiiWZQV9/gVjzwPMKnq7i4ZI/2Gre2tbN67bqUiTNND2kNAVHPY9LE8VmliqT2FtblDEogpsZMFJ6ns541RyKeS+y31g2CgVhKJOJdeIx6Q0Z4roKC/DxGjRrJmvUbA/+mwU/6qEBxs8Z3qUlWOR9okLKjCIsYWlpa2rnt9jspzM9n5onH9aoVeXm55OXmpopJYC1tbe0kksk+n82mrdt49tnnnOvB+kQ8uPxzlzK4pHin3wc3MQmFZogKJhSe52VdJCQWjRKNRlHKpZmE5s22dqdt99eqMyg/j5EjR7Bm/SaUdYUOkiYZtN9i/aDvcBMg3/ddnwIo8IGmlnZ+9vNbycvL5YTjjunX8/1+FWnfk8ehfRkRohm0tra6wJiM5yEvL2+nJrHdyarVa/jGjTfT1sEc2J2B0b0fFs4rLSrkX/+4D237kgPbNVplHlP1q4wa0K2UjEQi/Y+xVIrCokK+fN11/HfpVdTW14O1VFZWcsz06Rx22GGUlZUT8SJUVVfx+utvMGfOMzQ2taCUFwR5uNuipqaOH/7vj5kw4feMGTl8p4NcLBYjEg208zA1wpg+Reda3Eo3v/7172hoDPyOFkYMG86FF1zQp3QiV3mrYz8Z34dgopAt1pgdRv2cqDPP90eAKqUoKi7mK1+5jreXfoH6+u0oBUOHVDJ9+nQOO/RQBpcNJuJF2FZVzetvvMGcOc/R1NScMi9bFPGkT3VdPd//wQ/54x/uYVQv+q7bcw0E6PamJn7ys1t3Sek8ZeGmG79BXpbuEWHX0V0e9T5JPO4KV7v191yR8JycnD1WgIKre7mlqpb29jgdJE+X458TdK6cgCWRiKdm5/3BGENefp6b7VtXGs43PvF4O37ShyxMuu3xeEqwGGNQgZabEwwi/Z2Va6UYP24U9//5T9xy6y2ceeYZHH/c8UQCP2hYftUAHz3zNG7+9te5974/87cH/ul8iNalbwBU1dXz17/9g29cfx2RIDinOzztOe0oqFrkRTS+n3RLjvVSQ7PAylWrefKpp5zPUUHEU1x4wfnk5+WkPhPSrU1CuZq5uXm5KK3wjfPRKk/RHm/Lvu/a24N8TusK4StXcCQajaYXbO/HM6WVYr9xY/n7/X/m1ltu4+yzzuK442akDBaZuz73rNO5+Vtf5577/szf//F/NDQ24QM6GsVYQ01dAw888E+u/+q1/SrPqZSitbWNf89+YgACi7rYP5Zv3nA9eSJD9zhEE83A81zygkucTqK1R7KPZrau2LUyOJ0j12G47Pagbmmo8OdAZM9prSkqKk7VDPWNxVo3mMYTcaDvT35zc7P7rlIZ+i1UlFcM6BA1pLKcn/74f1OreXTW4VXwXyyiuexzn2HKgQfy7e/cRGNjM+lic7Bo8RK21dQyvLK8x+M5oYIzfVunxUS8CJ72ei1Ykskksx5+hHjSoL0IGJ+hQ4ZyzNHTUM4C7Y7V+Tx2aIsrrFBUVOTWdVUaE5g+29vaiScSFGTVdy0kksnAXKxTE56KysoBjS0YWlnBz378o0D4hcvep6dXru8sOVGPKy77LFMOPJgbb/ou9dub03ml1vD64iVU19RSWVHe73vLolPFFgYSbc0uz3JVUq0oKyTMK4Pc3Bwsbm09rTXG+J3MpL0lfBRDEbUrpahLrtcY9zNjU0HOX3ozKJcJGaSj+zvf/c6OHmgWBXm5xKKRIAhLE/E8tm/fTmtLSx/Pxm319fVuUXSbXtQ86nkUBGkXfb+iXaUNQES7urapouG2YxFu5y91k4KIpznm6KO44rLLMiYgrmLQtm1VbNy4ZYdz6Uw8mSQej0OgiVprgiCjMJ3Gdvh+VwFgW7Zu4+WFr6G05wqHG59DDz2ECeMnBBG5vbs+6b7LIep5QVtc2k1dfR0trS1ZDap1dXUk2uOptVatNUQ8TcGgggGZtEHQdyqY+NoMi0Uw6Qquplsg2LjjzzjmSC679JJUHqdbdNpj0+bNbNi0dQBa5ZwlOz53fd/ovO1i8aYCk4ayna4fe25Q5e4kU20RTTSDQQUFKCAacaZcz1M0NTVmsae0EFWEwRUhAztvKS0s4KTjppFIdNSYbbez4XSATcGgAlfgsB9yPnzASoqLGJSXSzLpypP5WKq2baO+YTvDhrpVRHRn4dRDC7dV19AWT2C1dgZo6zOkfDAFGebKvjW5ayEKwWoWPZjyMgeRiIYjjziEkpISahsaU+1oamyktWU7KuP6hu3MpL09QSJpiOgwMN7geVG80NeboQ101CQtWB+Ux4vzXmb1uvXuGNaQl5fLpz/9KcJT6Ozf7u466UCDKy0upLAgB7+p1ZmVFVTX1tDQ2MSwoUMw1sdTXRe+7KztWuv6vT0exyrljmENQyrKyMuJdvu9vpA5RVXuRNz7Owz2CpQHyjkwohqOnHowpcWF1DWEdZmhqamZ1pbmPrZiR3Jzcjj5xOP6bc617KgRaizRyK4Zrt16yBqNxqrQcvB+LFL+wSQsfKGsAeOLEM2krLzMPXdaBeVvFVu2bNnp93ZGKl8u/U6/9xkyZvRovvfdm3ZcY3NnhwgCLFzkaf/bUVpaSklREfWNzanBrGl7E2vXrWfypP07RNR2b2gOsyIsK1e9F1S4SWtoI4YPJy9IOB8Ishm8FZCfX0BRURG1DY2EQ7m1Bj9l+g9NizsK0aam7bS1tQeTNA1KkZ+fT05ObOe6htK0trVz35/+FB4V7cGHTz+VSftPyOL8XAvLygZTXFRI/faWVNpNQ0Mj69avZ9LECehuBGjmMYzF6eY23XcqGJA1MHLE8C7PMdtbr+/fcyusFhQUUFRYSF1DI2EAnDGQ9PvvtikqKg95kzIAABU+SURBVOR/f/iDfu+ny8AkC3m5Obs0Xz0VwSz0gvRUSYRoBsOGDQuiLl2AhTWWbduqdnezesTzdFA5p68ars3Y+v9QVlZUUFFZyZr1m5w2ZS3GWJ59/nlOP21mB79mTygFyaTP4sVvuRJ0Sjl/ndaMGTM6FVi0Owivlp9MdihhZ3FaXaQXmkJTUzOtrW5h7mQyidaKQQUF5MS6nxyEHj5j4YH/e4itVdVY6yoUlRQO4jMXfwpPZZ+oVFFeQVlZOWs2bMEGtYGtgWfmPMcpJ31oJ8aTtMnP1fFN8taS/2Iz/maxjB071gXp7UYM4PtJEsl032mtQVmXk9wPQuGWbZWnTnvr4j0xqe6piE80gzFjxrgoUJMeGLZs2ZIqV7ZnEvrwTB+3TKNh/88tPz+Pww87LPV7GPk5d+483lm5OpUs7sKgul5QOxwmXn9jMcuWLu0Qyel5HgdOmUI02vdo0Z7oS786/6jLJ66rSxd90Eq5/M+eQicD15arMbwdCCJhtaK4uIT8bpa4yjRdbqmq4ZFHH8cEfiuN5ejp0xk1fFi6nm8WDBpUwOGHHw4otPbQwXqwc+e+yKr3Vvdwd1jS95NrwBuL/8uy5Ss6nEEsFuPggw7s1SSjL/T5mbRQU1NPfX1DunUKCvLz+yX8OpYPzLwmA73tqWPQvo0I0QxGjhzqEuGtSdXQra6uoa4+2yo57wdqgLb+YYEzzjgDL+J12FtrWzu/uvs3JJI7D2KyQCLh89Of/px4hqanlCIvL4+jjz5mQIaRMIhow4YNfOlLX6KxsbHXtb2NNTz40KwdAs5KSwZTXhZG5nZ9PbWCzZu30t4eT5lNrbEMGzaUwsLCHT7feS8LF77C2vXrgwmJK25xyskfCmqqZn9lrIWzzz47Y2Fwd0+0t8f59a9/SzLRmwA0Szzu85Of/ixIFQumZ9aQm5PLUdOmZd2+jm11fbd+/XquueYa13e9/q7hoYceJp5RHcoYy+CyMsrKBmqRiYF4FnUX28A8p8LAI0I0QOGCY0pLi4PgDoUxiqqaOmrrGgj9J30lHcGZnqMO/Hxy9wrQsAXjxozkw6ee4qIlgwIVFsWrry3i0ccex7c28CTsqDdZa2lrb+d3997H6nUbUtqWwuKR5JwzTmP40K7TWyzQ0NzCMy/M44/3P8A/Zz3KyjXrerzOzS0t3P6ru3hxwWtc+cXrmPXY41TVNZCwKb0qte/wZ1VtHbf/8jc8+fQcF7CCRqHQ1mfSfmMYOnQIaX07fV0y/YZvLVniyiMqUEHQ1OgRQ8gJI5s7fSf0rCaNYfZTc0gkXQStVor9JoxnxjEzAg05QyPsNe5ISsHoUSM49aQTUdbHYkBB0sJLC1/j4f88gZ9xMcPHwNpAH7bOV/u7e+5l7dr1oFztWmXBU4qPnP0/DBtS3uF6ZJ5jQ1MLz7zwIn/869/516xHeHfN+i77LnyGtjc3c9udv2L+wte46pov8/Bjj1Nb10DnehUW5180KLbW1HHbL+/mmTnP4Nt0ZLVWMHH/CVRUVvbx2vXEQE1sB/45FQYe8YkGKKCybDBDKgazcfNWfOsGyOqaetZvrmLixP3xwjQEer6lw7QHhQqWngyFR/j3XZ/48n4Tio4rLruEl15+ibrGZnzjFudub09wx52/oq6ujks+8ymiUS81e1NA0liM73PHL+/mwUf/g4/zUykU1vgMqRzMdddclSqAEH4PggwABbfcfhezn3qalpY2IhGP0pJivn/TtzlhxjRXOTDD2mZRPDr7CZ5+fi5JFWHJ8lW887NbGXLfXzjt9FM556yzGDW8koh20ZvxeJI5c57lL397gBXvrsY3KqhGqDA+eCT55Mc/1mHB6VAIhOcZBosseuON4J5QeLgsyskT9+tmNmvBGnyrefO/y3ll0etueXdrUNpy/Ze/TEFeLr3Oaem258BTlisu+ywLXnmV2u0t+L5BaY/meIJb7riL2poaLv3Mp9Ceh6dTcXf4VpFIGm674y4efuw/JG2ogVoi2jK0soKrP38F2B2jhsNn4Be3/5Inn55DS1MTkWiU4uISfvT973Ds0UelJmMhRikeffwJnp07jyRRFi9byYqf3sIf7vszp592GmefdSbDhw/BC/quPR7n6WfmcP/fH+Cdd1fhY4MIVIWnLMr6XHD+eeT2c7FwYd9FhGgGpcUlTJgwgUWLl6be841h/vz5nPyhGQN6rL1NiILzDY4eOZyPnftR7v3jX1KVi7TWNLY0c9dvfsu/Z8/m1FNOYcrkA8jJyaG1tY23//tfZj8xm63bqjHK5T6G6xPHYjE+f+XlFOR37TO0wLPPzWPWrEectqQV8XiCqqpqfvf7e5kyaX8qyko7fGfZ8uXcfvsd+L4PRDDW0NbWxrr167nn9/dy331/pHBQEWVlg4knElRtqyKRTOAbk1qVxAnQODmxKBd97EKOPPLInUZOvvPuGjZv3kLY80ppIjrC1KlTu7+oSpNIJPn5z2/BTybdZEUpDj/0MI6eNjXjHuqftqKUYvTo0XzkI2fzp78+4CJtjY/yPJqamrjrt7/j8SefYubMmUyZPJncvCjNzXGWLHmL2bNnU11T6yJ0gwA3T0NeTowvXHUlBfm5XbZMAc88+zyPPPyImxwoTTKZpKammt/fcy+TJ+1HWanru3BS8vbSd7j9zrtJ+ASrziia2pK8t34Dv77nXn53330UFhZRNngw8UQ86Ls4vm9RWoNL6kIrSzTi8YnzL2Da1MNSlZ8Eoa+IEM3AYjniiCP4x4OPph4oBSxc8ArGuIFB6JloJMJFn7iQt5ctY8ErrwaahIdv3Cj13toN/ObeP7qkchXW2A2/rYMqOkHZcms4/eRTOfXkmV0ey/d9tOfxxJNPgHIVd3wLKliMeuPGjVRVVVFRVtpBwHmeR2lJCS1btgIWL1iEPTRTGuMWqm5oaEyVMsyc9ijlcjYj2jLzxOO58sorepV28PCsWR1+t9Zw2NTDKC/vzh/n9vnygoWsWL4ccClJOdEIHznnLIwNyxOqlKWjP3IgFo1y8ScvYumyFbzy2qKgNKFLXUkaxbur17Py3j8GxwncG6nzdjWFjTF42mnYp5/2YU4+6YTUQtiZuNKamqeeeopUfmzYR9ayYcN6aqprGFzacQIU8SKUFpfS1rY10G6DfFvrnCXGuMCv+vpG16corNXBogIKpUFblzd60okncuUVl7kKUv24bsK+jdw7GWilmHHMjE7Ldyk2b9nMwoWvDMiySXs1wfUpLyvlzjtuZfpRU4lEwlJyLkDC1VZyS1QZlNMmUu+7yGilFJ5WnHryh/juTTdS3M1i1Z7ngpgiXgRrXEqN1jo1wGvtljJz6zKnh/GJ++/P3XffzcRJk9AKt2JL0Lk2CPiBwB9pbUpEhVGY1hpiUY9pRx3Bd779DYqLdgwK6kxzcytPPPlkh/eUUpz70XN7FHytbW3Mnv0kvgn8zMZn1MjhHDPtyA7m7YGJsYaywaXc9cs7OPqoI/GUcn0XaInhVUl5ajP6zuKsNhpLTCtOPfkkbr7xWxQO6n5RdhtU4nEBViYozJBej1Z3sSrCARPH85tf/ZID9tuPiFIo46ONcavvOKkZeKpxqToEJg13V6CwRCKaadOO4DvfvoGSwvzgbCT6VcgOEaKdKByUz9lnnknHkCB44IEHsggsCsp4BWkd6fT7XVGieg8hMHdGPM3/+9GPuPKyyxg1bBheMPt3m+0Qb5jarMXTMGbUKL7y5ev4wfduJhrp/hZ1Rc7hgvM/Rl5ujtMQje8GSk8zZfJkhg0b2rGYRPB69KiR3HbLL/jcpZcwZvRoPJ0eZFEWqwym02atQSsYP24sX772S9x5x20UFnUt4DONqxZ49dVXaW1ty/grVFZWcsKJPbsJ1qxdz6uLXncVZZQTX6eeMpMhlZWp5e8GSoCGLYto+N8ffpfLL7+UYUOH4EJzTOr6hFvm9Edbn6gy7D9+NF/76nX84Hs34WnVbepNOKn5+AUfJz8v1/VRWJTf85gyZQpDhgxJtSn8qYHxY4Zzx60/5bLPXsz4UcOJKoNOlbLsuHWcovmMHzuar1x3DXfedgvFhZ1dBHvtU7lTVGpcyig/KJOKXiHm3AysdcLtwo+fx6OPPUI8boh4zhT59vKVrFq9jokTxrhJaw/TDxWY3aLKErEJjG9QQdWXCH6g3eyFpEzgCg8oLy3h85ddwnkfOZunnp7Dw488wpo1awFF0hi3EooiVShi8uRJXHTBxzjpxOMoLCzc6aoa4UB8+GEH8Y3rr+P2O+6kucmVb9tv/H586+tfobBw0A7XWil3448cWsmXrrqMT15wHi/Om8dDDz7EynffJR5POP+ZyshFVIpJE8fzyU9cxIknHkdh4aBU+7rz94WiLZ4wvPr6m7S0tYOOoILFvqcfeQR5sUiP/vFZDz9OTW0jSWOJaCgsHMRnLr44CNJJm3D7kyeaiXbKHOWDS7n68kv4+Lnn8ORTz/Dgw4+xdsMGAIzv6vV6WmOtDxamTJnMJy68kBOOP4aiPvTd1KmH8eVrr+XOX/3Kld5Tiv33259vfP16CgcN6iBAUy8UjBg+hGuuvowLP/5R5r44jwdnPcKKFSsx1k992lgD1i3OPWn//fjkJy7ihBNmUFQ4yJVd7HAF98onslcoXElEz8SDZ9JNKD0VTNJ2YZWkDyqhFUUphaqy1va87sS+hQUam1v40leuZ9EbizG+q/+ZG43yxS9cyWcvvtBF6fbynuq89JPt4Avc+2/MQDFNlRSrqqpmzdq1VNfWk0wmiUajlJeVM27cWEpLirJem89ay5o1a1i2bBnl5eVMnTrVmXt3co0z+8FaS319PWvXraOqqpr29nYikQilpaWMHz+esrLBKbNu79sFVTW1fO7Kq1m3foPTj4yiID+X79/8Tc441fl7M/cYzv83bNjK+Rd9hubWVrQH2vpc+8WrueQzn+r3+q99xQe2VtWybu1aamprSSQS5MRiVJQPZuzYMZQUl6TMr30RSRaX+rNmzVqWLltGRUUFUw8/nIind3qO6WfJRT/X1jawbt06qquriSfaiUSiFJeWMGH8BAaXlqTM33v/U5cdXY1J+8o41VtagMVtzXz/3lupjORxoMkVTbQr8vPyOOG4Y3nrrbeJG4O1irZ4O889/xwXXnAu+Xk5vX4QO6/OkSlA95kbVKUFQ0VFORUV6ZzBgQqKVEoxbtw4xo0b1+fvZb4uLS2lpKQkJfRV0Mr0zLNvHhCr4LkX5rJhw4bUTMJTMKSinCOmTsWyo1HDBFLhnvvuo7WtzXnrfJ+Ro4Zxysknva8CNLVwNzC0YjDDKjoGQaVirnD9GFoXeovToi0Txo1m/LgxqFR6WC++q8JAL8BaygcXUz74oMwQsKCNQd/Z8MNCT3Q38RfSWGtZs3YNXpMVn2hnnE9IceJxx1NcWIRSOiiu7bH4rbdZ8MoiVyS9j+6CzNJgnX/ua6TNjy6KM9PPtieQ6p+MgBOXctO3/rIWGhqbuevXvyFpLMkg0EUpyzlnn0lFWcmOAhSLpxSrVq9h/oJXMNagPQXKctwxxzgf5ftYgjLzWnTuq5TGGbwIZVRfW+cOkS4H2V1ZyJ3vI/x+6CV2BSgyfd19L0ix75A5LnX1WuiMSk0whZDg2VPA+HFj+Og557hZtdapR/IXt9xCbV1D1ystCL0iM7yqiyF5D2KH0Kdef9MCcd/wp7/8JbhfdHCOlvHjxnDRheen92bTAz440+ncl16mqqaGpDUY4xPxPP7nfz5MNFj55f2mc19liqqBIftr3eM+bMff99JoBGE3UDiogMKiQhGi3aEVfP7KSxk5bJhzsAcL/27YuIm/3v9AKiVC2Dm9HR73rCva/0F91XvvMfuJp1JrlSosMc/j85dfRn5ez6u2PPbowxiTIKItWhlOOP5YpkyZgk0nru4RDITo22UCFEWY3pIWoCJEhf5jrSU3N4+CggLxiXZAdXyZlxPly9d+gd/e8wfiiUTK3Lh02VI2bd7MqBHDd087P0Dsy0PW/JcWEIvFGDVyBK6erOLAAyYy4+gjOxYgyNAsNYr2eJyrr7wc3zc4kxEccsghRIMiErtDE90b+nFvOAdhz0ApRW5uDgWRmETn7ox4PM62quqgRByEj+KQyopg9QxB2BELbNqylfZ4IgiWcakDBfn5VJQN7lWwhgR0CMKeRRid+717bmFoTgEH+RKdu1NisRgjQ40zCPtz+aQyuAndo4DhQ12xgLAuazbGxMwCHyJQBWHPQClFTixGzOSIEO0NqbpFwRgmY5nQG8LbpKv7pTcCUYSmIOyZGGNQWuOhRYj2hs4RfbLgg9Abugv/kXtHED7YKKVSdbpFiPYCGfSEgULuJUHYO9BK42lPhGhvkIFPyAa5bwRh70VphbJa8kQFQRAEIVtEiAqCIAhClogQFQRBEIQsESEqCIIgCFkiQlQQBEEQskSEqCAIgiBkiQhRQRAEQcgSEaKCIAiCkCUiRAVBEAQhS0SICoIgCEKWiBAVBEEQhCwRISoIgiAIWSJCVBAEQRCyRISoIAiCIGSJCFFBEARByBIRooIgCIKQJSJEBUEQBCFLRIgKgiAIQpaIEBUEQRCELBEhKgiCIAhZIkJUEARBEHqB7eI9EaKCIAiCsBNsxk+b8bsIUUEQBEHoBTsIUiVCVBAEQRCyRoSoIAiCIGSJCFFBEARByBIRooIgCILQS0K/qAp+aovtEGkkCIIgCPs6XclFBfhYUBBBuc1HOYnaWbwKgiAIwj5KKApt8NoJUFjXVoXVmhyr0ICuI0777mqlIAiCIOzBhMLUB5LAa++tQGlFgVFoC/qvLz3NJj9OGwajxKwrCIIg7NtkFlQwWHygGcvrtRt48c3XKcnJp8x6xJTCi8+Y8r3mmGJk5WhylCaKRBsJgiAI+y6Z2mccRQOwoHETv33ucdjezEG5JQxXMWJelMi08ZN4/tUFrHjnHU48+HDGlw0nV0cHsBmi2wqCIAgfLEywbWuu5r/rVvPy24uxFqYWlDNK5RBBo7VGvbFtg3154yrmrV3J2qZ66uNtJK0BcHG7Fqy1aO30U2s7CUUV/lCggl9sGPNLRxkqQUuCIAjCnowLvsUqUBZyrGJQJMoIG2NKZBDDVA4FKkIsGiUnFkOt37rFbk/GqUu0UdfWQlNbK21tbbS2tZGIx0kkkySTSeLxdoyxHYSotRaC3zsLVxUKVKVSr43vvy/XQBAEQRD6g1FOmGpjiaEpsJpCq8lBEYvGiEQjxHJy+P/Jx7C5S7gi0QAAAABJRU5ErkJggg==)\n",
        "\n",
        "### Why would we want our image values to range from negative one to one?\n",
        "In essence, normalization helps reduce Skewness and distortions within the data, ensuring a more effective learning process once that image data is fed into the neural network. Using this normalization with **0.5** values is one of many normalization schemas.\n",
        "\n",
        "\n"
      ],
      "metadata": {
        "id": "R47Emtq6aRFq"
      }
    },
    {
      "cell_type": "code",
      "source": [
        "transform = transforms.Compose([transforms.ToTensor(),\n",
        "                                transforms.Normalize((0.5,), (0.5,))\n",
        "                                ])"
      ],
      "metadata": {
        "id": "m0YjLjHkLUum"
      },
      "execution_count": null,
      "outputs": []
    },
    {
      "cell_type": "markdown",
      "source": [
        "**Arguments**\n",
        "\n",
        "* `root='./data'` -> dataset will be saved in `data` directory\n",
        "* `download=True` -> MNIST dataset will be downloaded in `data` folder\n",
        "* `transform` -> The `transform` argument simply dictates any image manipulations applied to the images."
      ],
      "metadata": {
        "id": "xXU52ziqZQIQ"
      }
    },
    {
      "cell_type": "code",
      "source": [
        "trainingDataset = datasets.MNIST(root='./data', train=True, download=True, transform=transform)"
      ],
      "metadata": {
        "id": "pRfNNd9waNSp",
        "outputId": "c5ecec53-1656-4850-9728-f8c7f6b6b466",
        "colab": {
          "base_uri": "https://localhost:8080/",
          "height": 422,
          "referenced_widgets": [
            "83d24a3f2d2b479bb3274d0a7db218d7",
            "f5c18419c0b34a4aa6a22947f427ede7",
            "71f8013fbde04ad7bb8cdeb98ca34459",
            "933f27bec09447f0a70a5f8e66d977dc",
            "afdb20a77f4a4c6ab33978c9ff15b545",
            "9cd338ea20c844c49b941ebc28d8f87a",
            "63a8986bff1e4fe990ea9cf465d2035e",
            "6908a8fe1f3d414bbb5b88d0f47670db",
            "43c53e5803d04d68afcfc914f2bc8772",
            "21336706094745439baac80c8f5d8095",
            "176e772dd738493f9b99aed10681a978",
            "d1616e82eb1944f6b44be340f609db73",
            "3e8b4f8f41684c2aaf2423c92a9ca2ef",
            "57214b359c6a46e98c01b39dc0959b05",
            "bb8f0b0073a145dfabc3461d6dba6f14",
            "8aee515119f74a7c8f5163ba043023a3",
            "98186a57c1db4d1088e1204fe0b9f053",
            "04df1b02fc4d4b908627b634458ef3e7",
            "8182ea3ff3a7475195dfd076024b02f6",
            "bf100597de2b48aba816cbb9c5995cc6",
            "b862259ce7b545c7988dd43f61a5c238",
            "e19603bca8e74ba9864785a4a189f091",
            "697743475c1e488cb157d0d3a390be3a",
            "655a74a790af4e67878926e2998762ca",
            "cc436f2db28b43cb9aa58951a5eba5c4",
            "19955bcdd1364322a46e646e81a58007",
            "86e5053ef5824c49ab3895e9c518a203",
            "79a051edca4a4eeca8adb507e0a99840",
            "c2b899ef72744d50bd1363192138ec8a",
            "db9d51fb457a40c3972a3bf1ba2bde83",
            "5234d48dbf6e4834829a829a05b5cc38",
            "df7a0132fbd54f0ebe3ac73d80fac7fe",
            "b0048eb72dbe4a8e858c4c5cb7a5ad41",
            "f86014d594994e7082b538207c640cae",
            "3ef7ff1c81564598ab77a511070ce5c5",
            "8309a09cfb2c4a878314041a021b63bf",
            "64112cc1655c4671af02e1ec9530f570",
            "d11299e0fc584cb180c17fde4c7802ce",
            "8b5789c5bfb24f9b9dae724db215f2d1",
            "2ac77f46f1344d879efabfaedeace78f",
            "711920af201041a29bd47294ca6cc7ca",
            "9dae8777d85e407a918d42551f7660db",
            "f15acb0a38da4cf6bb131d558ae45238",
            "59f4ad8d0d684c0bb1e5db5c6bcda4db"
          ]
        }
      },
      "execution_count": null,
      "outputs": [
        {
          "output_type": "stream",
          "name": "stdout",
          "text": [
            "Downloading http://yann.lecun.com/exdb/mnist/train-images-idx3-ubyte.gz\n",
            "Downloading http://yann.lecun.com/exdb/mnist/train-images-idx3-ubyte.gz to ./data/MNIST/raw/train-images-idx3-ubyte.gz\n"
          ]
        },
        {
          "output_type": "display_data",
          "data": {
            "application/vnd.jupyter.widget-view+json": {
              "model_id": "83d24a3f2d2b479bb3274d0a7db218d7",
              "version_minor": 0,
              "version_major": 2
            },
            "text/plain": [
              "  0%|          | 0/9912422 [00:00<?, ?it/s]"
            ]
          },
          "metadata": {}
        },
        {
          "output_type": "stream",
          "name": "stdout",
          "text": [
            "Extracting ./data/MNIST/raw/train-images-idx3-ubyte.gz to ./data/MNIST/raw\n",
            "\n",
            "Downloading http://yann.lecun.com/exdb/mnist/train-labels-idx1-ubyte.gz\n",
            "Downloading http://yann.lecun.com/exdb/mnist/train-labels-idx1-ubyte.gz to ./data/MNIST/raw/train-labels-idx1-ubyte.gz\n"
          ]
        },
        {
          "output_type": "display_data",
          "data": {
            "application/vnd.jupyter.widget-view+json": {
              "model_id": "d1616e82eb1944f6b44be340f609db73",
              "version_minor": 0,
              "version_major": 2
            },
            "text/plain": [
              "  0%|          | 0/28881 [00:00<?, ?it/s]"
            ]
          },
          "metadata": {}
        },
        {
          "output_type": "stream",
          "name": "stdout",
          "text": [
            "Extracting ./data/MNIST/raw/train-labels-idx1-ubyte.gz to ./data/MNIST/raw\n",
            "\n",
            "Downloading http://yann.lecun.com/exdb/mnist/t10k-images-idx3-ubyte.gz\n",
            "Downloading http://yann.lecun.com/exdb/mnist/t10k-images-idx3-ubyte.gz to ./data/MNIST/raw/t10k-images-idx3-ubyte.gz\n"
          ]
        },
        {
          "output_type": "display_data",
          "data": {
            "application/vnd.jupyter.widget-view+json": {
              "model_id": "697743475c1e488cb157d0d3a390be3a",
              "version_minor": 0,
              "version_major": 2
            },
            "text/plain": [
              "  0%|          | 0/1648877 [00:00<?, ?it/s]"
            ]
          },
          "metadata": {}
        },
        {
          "output_type": "stream",
          "name": "stdout",
          "text": [
            "Extracting ./data/MNIST/raw/t10k-images-idx3-ubyte.gz to ./data/MNIST/raw\n",
            "\n",
            "Downloading http://yann.lecun.com/exdb/mnist/t10k-labels-idx1-ubyte.gz\n",
            "Downloading http://yann.lecun.com/exdb/mnist/t10k-labels-idx1-ubyte.gz to ./data/MNIST/raw/t10k-labels-idx1-ubyte.gz\n"
          ]
        },
        {
          "output_type": "display_data",
          "data": {
            "application/vnd.jupyter.widget-view+json": {
              "model_id": "f86014d594994e7082b538207c640cae",
              "version_minor": 0,
              "version_major": 2
            },
            "text/plain": [
              "  0%|          | 0/4542 [00:00<?, ?it/s]"
            ]
          },
          "metadata": {}
        },
        {
          "output_type": "stream",
          "name": "stdout",
          "text": [
            "Extracting ./data/MNIST/raw/t10k-labels-idx1-ubyte.gz to ./data/MNIST/raw\n",
            "\n"
          ]
        }
      ]
    },
    {
      "cell_type": "markdown",
      "source": [
        "* Number of datapoints: 60000 - It provided us with 60000 training images"
      ],
      "metadata": {
        "id": "lbW8qaTKq_dX"
      }
    },
    {
      "cell_type": "code",
      "source": [
        "trainingDataset"
      ],
      "metadata": {
        "colab": {
          "base_uri": "https://localhost:8080/"
        },
        "id": "D8Pa9wUJq7Cq",
        "outputId": "41ecc128-d1b7-4fc6-d7af-4734cffb91c6"
      },
      "execution_count": null,
      "outputs": [
        {
          "output_type": "execute_result",
          "data": {
            "text/plain": [
              "Dataset MNIST\n",
              "    Number of datapoints: 60000\n",
              "    Root location: ./data\n",
              "    Split: Train\n",
              "    StandardTransform\n",
              "Transform: Compose(\n",
              "               ToTensor()\n",
              "               Normalize(mean=(0.5,), std=(0.5,))\n",
              "           )"
            ]
          },
          "metadata": {},
          "execution_count": 5
        }
      ]
    },
    {
      "cell_type": "markdown",
      "source": [
        "The training loader is to specify the training batches training our neural network for every epoch (a single pass through the entire dataset). However, one epoch with 60000 training images would be too big to fit on the computer all at once. So we divide it in smaller batches using the train loader.\n",
        "\n",
        "We choose a `batch_size` is equal to 100. It would take roughly 600 iterations to complete one epoch and that each iteration it'll update the weight of the neural network, minimizing the error, the `batch_size` really depends on the size of the data, according to the GPU, how long it takes to process your data.\n",
        "\n",
        "### Why shuffle?\n",
        "The advantage of being using gradient descent is to update the weight and the direction that decreases the error the most as it keeps minimizing the error Often times it will tend to get stuck in the **local minimum** rather than the **absolute minimum**. And the idea case is to do is always ensure the absolute minimum of the loss function to decrease the error as much as possible, thereby maximizing the accuracy of your model. Although when dealing with static training data that's unchanged overall training iterations, gradient descent algorithms will tend to get stuck in these **local minima**.\n",
        "\n",
        "The solution to this is to **shuffle** your training data, ensuring that the subset of training that it changes with every single iteration.\n",
        "\n",
        "![image.png](data:image/png;base64,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)\n",
        "\n",
        "![image.png](data:image/png;base64,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)"
      ],
      "metadata": {
        "id": "Wu-VP3nYxPSn"
      }
    },
    {
      "cell_type": "code",
      "source": [
        "trainingLoader = torch.utils.data.DataLoader(dataset=trainingDataset, batch_size=100, shuffle=True)"
      ],
      "metadata": {
        "id": "2OxOm5DbxBdr"
      },
      "execution_count": null,
      "outputs": []
    },
    {
      "cell_type": "markdown",
      "source": [
        "## Analyze Image Dataset by Plotting\n",
        "To plot the tensor image, it is required to change back to a numpy array."
      ],
      "metadata": {
        "id": "XrJ7XN7prQ7R"
      }
    },
    {
      "cell_type": "markdown",
      "source": [
        " The converted numpy array has a shape where the first dimension now represents the **color channel**, the second and third dimensions represent the **width** and the **height** of the image and pixels. Ultimately, this dataset is a greyscale corresponding to a single color channel with a weight and height of   28 by 28 pixels. Hence the shape would be **1, 28, 28**. To plot our image, we require to have a **28, 28, 1** shape.\n",
        "\n",
        "* `image = image.transpose(1, 2, 0)` - We swap axis 0 for axis 1, axis 1 for axis 2 and axis 0 in the end.\n",
        "\n",
        "* `image * np.array((0.5, 0.5, 0.5)) + np.array((0.5, 0.5, 0.5))` - Normalization process consists of subtracting the mean and dividing by the standard deviation. So to **denormalize** we would multiply by any standard deviation and add the mean.\n",
        "\n",
        "![image.png](data:image/png;base64,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)\n",
        "\n",
        "* `image.clip(0, 1)` - Finally, to ensure that the range is indeed between 0 1, apply the clip function to a minimum value of 0 and the maximum value of 1."
      ],
      "metadata": {
        "id": "e64RDi2tsiaX"
      }
    },
    {
      "cell_type": "code",
      "source": [
        "def imageConvertFromTensorToNumpy(tensor):\n",
        "    image = tensor.clone().detach().numpy()\n",
        "    image = image.transpose(1, 2, 0)\n",
        "    print(image.shape)\n",
        "    image = image * np.array((0.5, 0.5, 0.5)) + np.array((0.5, 0.5, 0.5))\n",
        "    image = image.clip(0, 1)\n",
        "    return image"
      ],
      "metadata": {
        "id": "UFXo3arYrWqq"
      },
      "execution_count": null,
      "outputs": []
    },
    {
      "cell_type": "code",
      "source": [
        "dataIter = iter(trainingLoader)\n",
        "images, labels = dataIter.next()\n",
        "figure = plt.figure(figsize=(25, 4))\n",
        "\n",
        "\n",
        "for index in np.arange(20):\n",
        "    # xticks=[], yticks=[] -> to remove horizontal and vertical tick marks\n",
        "    ax = figure.add_subplot(2, 10, index + 1, xticks=[], yticks=[])\n",
        "    plt.imshow(imageConvertFromTensorToNumpy(images[index]))\n",
        "    ax.set_title([labels[index].item()])\n",
        "    "
      ],
      "metadata": {
        "colab": {
          "base_uri": "https://localhost:8080/",
          "height": 615
        },
        "id": "fLbrUVLJzpNm",
        "outputId": "6ffea2ea-cc6b-44e2-a9bd-f9860db36243"
      },
      "execution_count": null,
      "outputs": [
        {
          "output_type": "stream",
          "name": "stdout",
          "text": [
            "(28, 28, 1)\n",
            "(28, 28, 1)\n",
            "(28, 28, 1)\n",
            "(28, 28, 1)\n",
            "(28, 28, 1)\n",
            "(28, 28, 1)\n",
            "(28, 28, 1)\n",
            "(28, 28, 1)\n",
            "(28, 28, 1)\n",
            "(28, 28, 1)\n",
            "(28, 28, 1)\n",
            "(28, 28, 1)\n",
            "(28, 28, 1)\n",
            "(28, 28, 1)\n",
            "(28, 28, 1)\n",
            "(28, 28, 1)\n",
            "(28, 28, 1)\n",
            "(28, 28, 1)\n",
            "(28, 28, 1)\n",
            "(28, 28, 1)\n"
          ]
        },
        {
          "output_type": "display_data",
          "data": {
            "image/png": "[encoded data removed]",
            "text/plain": [
              "<Figure size 1800x288 with 20 Axes>"
            ]
          },
          "metadata": {}
        }
      ]
    },
    {
      "cell_type": "markdown",
      "source": [
        "# 47. Neural Network Implementation"
      ],
      "metadata": {
        "id": "HBJsSKMob2VA"
      }
    },
    {
      "cell_type": "markdown",
      "source": [
        "Define a class named `Classifier` that will be using to create the neural model instances. And it will once again inherit from an `nn.Module`. We've defined the neural model in the constructor, **one input layer**, **two hidden layers** and **one output layer**.\n"
      ],
      "metadata": {
        "id": "09UctYcPtw_A"
      }
    },
    {
      "cell_type": "markdown",
      "source": [
        "### Why don't we use any activation function in **x = self.linear3(x)**?\n",
        "By not applying an activation function, we would get back raw output of the network in the end. This is often called the **score**. This matters when calculating the **cross entropy** loss of a multiclass dataset, namely `nn.CrossEntropyLoss`. This loss function is used for multiclass classification. It is a combination of the log softmax and the negative log likelihood loss, \n",
        "`nn.CrossEntropyLoss = log_softmax + NLLLoss()`"
      ],
      "metadata": {
        "id": "uzEdTmXaeK9L"
      }
    },
    {
      "cell_type": "code",
      "source": [
        "class Classifier(nn.Module):\n",
        "    def __init__(self, numberOfInputNodes, numberOfNodesInFirstHiddenLayer, numberOfNodesInSecondHiddenLayer, numberOfNodesInOuputLayer):\n",
        "        super().__init__()\n",
        "        # Initializing the input layer\n",
        "        self.linear1 = nn.Linear(numberOfInputNodes, numberOfNodesInFirstHiddenLayer)\n",
        "        # The second layer of nodes is the first hidden layer\n",
        "        self.linear2 = nn.Linear(numberOfNodesInFirstHiddenLayer, numberOfNodesInSecondHiddenLayer)\n",
        "        # The third layer of nodes is the second hidden layer\n",
        "        self.linear3 = nn.Linear(numberOfNodesInSecondHiddenLayer, numberOfNodesInOuputLayer)\n",
        "\n",
        "    def forward(self, x):\n",
        "        # Essentially relu function, just like sigmoid, is an activation function. \n",
        "        # Except relu through empirical observation, generally performs better in most situations.\n",
        "        x = F.relu(self.linear1(x))\n",
        "\n",
        "        x = F.relu(self.linear2(x))\n",
        "\n",
        "        # As we are dealing with a multi-class dataset, we will not apply any activation functions here such that what's returned is whatever value \n",
        "        # that's outputted by a linear3. We will be using \"nn.CrossEntropyLoss\" to compute the loss for our multiclass dataset, simply make sure that the outputs \n",
        "        # that are returned in the end is the output, the score such that no softmax activation function is being applied to it.\n",
        "        x = self.linear3(x)\n",
        "\n",
        "        # Return the final predicted value\n",
        "        return x\n"
      ],
      "metadata": {
        "id": "DqiQujLnr9LN"
      },
      "execution_count": 5,
      "outputs": []
    },
    {
      "cell_type": "markdown",
      "source": [
        "* According to the initialisation, we must set and put dimensions, hidden layer dimensions as well as output dimensions.\n",
        "* The following neural network architecture to provide really good results, with 125 nodes in the first hidden layer and 65 nodes in the second hidden layer.\n",
        "* The output size simply corresponds to the number of classes in which each element can be classified. And since there are ten classes from 0 to 9, we require 10 output nodes"
      ],
      "metadata": {
        "id": "jqHuUk-Qg6gU"
      }
    },
    {
      "cell_type": "code",
      "source": [
        "model = Classifier(784, 125, 65, 10)\n",
        "model"
      ],
      "metadata": {
        "colab": {
          "base_uri": "https://localhost:8080/"
        },
        "id": "jKOwAmLhf8WW",
        "outputId": "8910712b-44be-42bc-a756-330b6e413ab3"
      },
      "execution_count": 6,
      "outputs": [
        {
          "output_type": "execute_result",
          "data": {
            "text/plain": [
              "Classifier(\n",
              "  (linear1): Linear(in_features=784, out_features=125, bias=True)\n",
              "  (linear2): Linear(in_features=125, out_features=65, bias=True)\n",
              "  (linear3): Linear(in_features=65, out_features=10, bias=True)\n",
              ")"
            ]
          },
          "metadata": {},
          "execution_count": 6
        }
      ]
    },
    {
      "cell_type": "code",
      "source": [
        "criterion = nn.CrossEntropyLoss()\n",
        "optimizer = torch.optim.Adam(model.parameters(), lr = 0.01)"
      ],
      "metadata": {
        "id": "FTKEgVcYhOd3"
      },
      "execution_count": 7,
      "outputs": []
    },
    {
      "cell_type": "code",
      "source": [
        "epochs = 12\n",
        "# For analyzing the losses at every epoch with a plot\n",
        "runningLossHistory = []"
      ],
      "metadata": {
        "id": "T4EhziJ0h7pD"
      },
      "execution_count": null,
      "outputs": []
    }
  ]
}