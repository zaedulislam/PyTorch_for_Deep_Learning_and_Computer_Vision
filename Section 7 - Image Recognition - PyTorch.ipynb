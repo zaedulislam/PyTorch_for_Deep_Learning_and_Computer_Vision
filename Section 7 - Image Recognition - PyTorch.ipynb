{
  "nbformat": 4,
  "nbformat_minor": 0,
  "metadata": {
    "colab": {
      "name": "Section 7 - Image Recognition - PyTorch.ipynb",
      "provenance": [],
      "collapsed_sections": [],
      "authorship_tag": "ABX9TyMCtl1vMd8Rv00hj+lj+lzX",
      "include_colab_link": true
    },
    "kernelspec": {
      "name": "python3",
      "display_name": "Python 3"
    },
    "language_info": {
      "name": "python"
    },
    "widgets": {
      "application/vnd.jupyter.widget-state+json": {
        "0532956bccb04267bff3619d6fed5ede": {
          "model_module": "@jupyter-widgets/controls",
          "model_name": "HBoxModel",
          "model_module_version": "1.5.0",
          "state": {
            "_view_name": "HBoxView",
            "_dom_classes": [],
            "_model_name": "HBoxModel",
            "_view_module": "@jupyter-widgets/controls",
            "_model_module_version": "1.5.0",
            "_view_count": null,
            "_view_module_version": "1.5.0",
            "box_style": "",
            "layout": "IPY_MODEL_140121ac0c8145afab72bdb2be4715ed",
            "_model_module": "@jupyter-widgets/controls",
            "children": [
              "IPY_MODEL_281a8c59303d4a25aeaebe5567f7bb91",
              "IPY_MODEL_8b33b6988f574775a27a2e5f506b188d",
              "IPY_MODEL_86e07815797748a1b163bb81f18533a1"
            ]
          }
        },
        "140121ac0c8145afab72bdb2be4715ed": {
          "model_module": "@jupyter-widgets/base",
          "model_name": "LayoutModel",
          "model_module_version": "1.2.0",
          "state": {
            "_view_name": "LayoutView",
            "grid_template_rows": null,
            "right": null,
            "justify_content": null,
            "_view_module": "@jupyter-widgets/base",
            "overflow": null,
            "_model_module_version": "1.2.0",
            "_view_count": null,
            "flex_flow": null,
            "width": null,
            "min_width": null,
            "border": null,
            "align_items": null,
            "bottom": null,
            "_model_module": "@jupyter-widgets/base",
            "top": null,
            "grid_column": null,
            "overflow_y": null,
            "overflow_x": null,
            "grid_auto_flow": null,
            "grid_area": null,
            "grid_template_columns": null,
            "flex": null,
            "_model_name": "LayoutModel",
            "justify_items": null,
            "grid_row": null,
            "max_height": null,
            "align_content": null,
            "visibility": null,
            "align_self": null,
            "height": null,
            "min_height": null,
            "padding": null,
            "grid_auto_rows": null,
            "grid_gap": null,
            "max_width": null,
            "order": null,
            "_view_module_version": "1.2.0",
            "grid_template_areas": null,
            "object_position": null,
            "object_fit": null,
            "grid_auto_columns": null,
            "margin": null,
            "display": null,
            "left": null
          }
        },
        "281a8c59303d4a25aeaebe5567f7bb91": {
          "model_module": "@jupyter-widgets/controls",
          "model_name": "HTMLModel",
          "model_module_version": "1.5.0",
          "state": {
            "_view_name": "HTMLView",
            "style": "IPY_MODEL_51f2a56b9beb4101a86c7bc90733228c",
            "_dom_classes": [],
            "description": "",
            "_model_name": "HTMLModel",
            "placeholder": "​",
            "_view_module": "@jupyter-widgets/controls",
            "_model_module_version": "1.5.0",
            "value": "",
            "_view_count": null,
            "_view_module_version": "1.5.0",
            "description_tooltip": null,
            "_model_module": "@jupyter-widgets/controls",
            "layout": "IPY_MODEL_f1592853a02a4946a1348fc201b75d7b"
          }
        },
        "8b33b6988f574775a27a2e5f506b188d": {
          "model_module": "@jupyter-widgets/controls",
          "model_name": "FloatProgressModel",
          "model_module_version": "1.5.0",
          "state": {
            "_view_name": "ProgressView",
            "style": "IPY_MODEL_0a68413671554d118af4c3f995360c1c",
            "_dom_classes": [],
            "description": "",
            "_model_name": "FloatProgressModel",
            "bar_style": "success",
            "max": 9912422,
            "_view_module": "@jupyter-widgets/controls",
            "_model_module_version": "1.5.0",
            "value": 9912422,
            "_view_count": null,
            "_view_module_version": "1.5.0",
            "orientation": "horizontal",
            "min": 0,
            "description_tooltip": null,
            "_model_module": "@jupyter-widgets/controls",
            "layout": "IPY_MODEL_02085fa4ef1f4b1c96b6010e16783106"
          }
        },
        "86e07815797748a1b163bb81f18533a1": {
          "model_module": "@jupyter-widgets/controls",
          "model_name": "HTMLModel",
          "model_module_version": "1.5.0",
          "state": {
            "_view_name": "HTMLView",
            "style": "IPY_MODEL_a8df92ff46e742f2bb5ca69641411748",
            "_dom_classes": [],
            "description": "",
            "_model_name": "HTMLModel",
            "placeholder": "​",
            "_view_module": "@jupyter-widgets/controls",
            "_model_module_version": "1.5.0",
            "value": " 9913344/? [00:00&lt;00:00, 38165166.20it/s]",
            "_view_count": null,
            "_view_module_version": "1.5.0",
            "description_tooltip": null,
            "_model_module": "@jupyter-widgets/controls",
            "layout": "IPY_MODEL_8e25852208534eee804a7f1d9b7ec8b9"
          }
        },
        "51f2a56b9beb4101a86c7bc90733228c": {
          "model_module": "@jupyter-widgets/controls",
          "model_name": "DescriptionStyleModel",
          "model_module_version": "1.5.0",
          "state": {
            "_view_name": "StyleView",
            "_model_name": "DescriptionStyleModel",
            "description_width": "",
            "_view_module": "@jupyter-widgets/base",
            "_model_module_version": "1.5.0",
            "_view_count": null,
            "_view_module_version": "1.2.0",
            "_model_module": "@jupyter-widgets/controls"
          }
        },
        "f1592853a02a4946a1348fc201b75d7b": {
          "model_module": "@jupyter-widgets/base",
          "model_name": "LayoutModel",
          "model_module_version": "1.2.0",
          "state": {
            "_view_name": "LayoutView",
            "grid_template_rows": null,
            "right": null,
            "justify_content": null,
            "_view_module": "@jupyter-widgets/base",
            "overflow": null,
            "_model_module_version": "1.2.0",
            "_view_count": null,
            "flex_flow": null,
            "width": null,
            "min_width": null,
            "border": null,
            "align_items": null,
            "bottom": null,
            "_model_module": "@jupyter-widgets/base",
            "top": null,
            "grid_column": null,
            "overflow_y": null,
            "overflow_x": null,
            "grid_auto_flow": null,
            "grid_area": null,
            "grid_template_columns": null,
            "flex": null,
            "_model_name": "LayoutModel",
            "justify_items": null,
            "grid_row": null,
            "max_height": null,
            "align_content": null,
            "visibility": null,
            "align_self": null,
            "height": null,
            "min_height": null,
            "padding": null,
            "grid_auto_rows": null,
            "grid_gap": null,
            "max_width": null,
            "order": null,
            "_view_module_version": "1.2.0",
            "grid_template_areas": null,
            "object_position": null,
            "object_fit": null,
            "grid_auto_columns": null,
            "margin": null,
            "display": null,
            "left": null
          }
        },
        "0a68413671554d118af4c3f995360c1c": {
          "model_module": "@jupyter-widgets/controls",
          "model_name": "ProgressStyleModel",
          "model_module_version": "1.5.0",
          "state": {
            "_view_name": "StyleView",
            "_model_name": "ProgressStyleModel",
            "description_width": "",
            "_view_module": "@jupyter-widgets/base",
            "_model_module_version": "1.5.0",
            "_view_count": null,
            "_view_module_version": "1.2.0",
            "bar_color": null,
            "_model_module": "@jupyter-widgets/controls"
          }
        },
        "02085fa4ef1f4b1c96b6010e16783106": {
          "model_module": "@jupyter-widgets/base",
          "model_name": "LayoutModel",
          "model_module_version": "1.2.0",
          "state": {
            "_view_name": "LayoutView",
            "grid_template_rows": null,
            "right": null,
            "justify_content": null,
            "_view_module": "@jupyter-widgets/base",
            "overflow": null,
            "_model_module_version": "1.2.0",
            "_view_count": null,
            "flex_flow": null,
            "width": null,
            "min_width": null,
            "border": null,
            "align_items": null,
            "bottom": null,
            "_model_module": "@jupyter-widgets/base",
            "top": null,
            "grid_column": null,
            "overflow_y": null,
            "overflow_x": null,
            "grid_auto_flow": null,
            "grid_area": null,
            "grid_template_columns": null,
            "flex": null,
            "_model_name": "LayoutModel",
            "justify_items": null,
            "grid_row": null,
            "max_height": null,
            "align_content": null,
            "visibility": null,
            "align_self": null,
            "height": null,
            "min_height": null,
            "padding": null,
            "grid_auto_rows": null,
            "grid_gap": null,
            "max_width": null,
            "order": null,
            "_view_module_version": "1.2.0",
            "grid_template_areas": null,
            "object_position": null,
            "object_fit": null,
            "grid_auto_columns": null,
            "margin": null,
            "display": null,
            "left": null
          }
        },
        "a8df92ff46e742f2bb5ca69641411748": {
          "model_module": "@jupyter-widgets/controls",
          "model_name": "DescriptionStyleModel",
          "model_module_version": "1.5.0",
          "state": {
            "_view_name": "StyleView",
            "_model_name": "DescriptionStyleModel",
            "description_width": "",
            "_view_module": "@jupyter-widgets/base",
            "_model_module_version": "1.5.0",
            "_view_count": null,
            "_view_module_version": "1.2.0",
            "_model_module": "@jupyter-widgets/controls"
          }
        },
        "8e25852208534eee804a7f1d9b7ec8b9": {
          "model_module": "@jupyter-widgets/base",
          "model_name": "LayoutModel",
          "model_module_version": "1.2.0",
          "state": {
            "_view_name": "LayoutView",
            "grid_template_rows": null,
            "right": null,
            "justify_content": null,
            "_view_module": "@jupyter-widgets/base",
            "overflow": null,
            "_model_module_version": "1.2.0",
            "_view_count": null,
            "flex_flow": null,
            "width": null,
            "min_width": null,
            "border": null,
            "align_items": null,
            "bottom": null,
            "_model_module": "@jupyter-widgets/base",
            "top": null,
            "grid_column": null,
            "overflow_y": null,
            "overflow_x": null,
            "grid_auto_flow": null,
            "grid_area": null,
            "grid_template_columns": null,
            "flex": null,
            "_model_name": "LayoutModel",
            "justify_items": null,
            "grid_row": null,
            "max_height": null,
            "align_content": null,
            "visibility": null,
            "align_self": null,
            "height": null,
            "min_height": null,
            "padding": null,
            "grid_auto_rows": null,
            "grid_gap": null,
            "max_width": null,
            "order": null,
            "_view_module_version": "1.2.0",
            "grid_template_areas": null,
            "object_position": null,
            "object_fit": null,
            "grid_auto_columns": null,
            "margin": null,
            "display": null,
            "left": null
          }
        },
        "c7b3379d0c6c409dbd104db9d5c98f5a": {
          "model_module": "@jupyter-widgets/controls",
          "model_name": "HBoxModel",
          "model_module_version": "1.5.0",
          "state": {
            "_view_name": "HBoxView",
            "_dom_classes": [],
            "_model_name": "HBoxModel",
            "_view_module": "@jupyter-widgets/controls",
            "_model_module_version": "1.5.0",
            "_view_count": null,
            "_view_module_version": "1.5.0",
            "box_style": "",
            "layout": "IPY_MODEL_3119932de81d476199eb5516d8a651a4",
            "_model_module": "@jupyter-widgets/controls",
            "children": [
              "IPY_MODEL_88bda7d7b2234b2884d14f11479d1c22",
              "IPY_MODEL_39243fd8c0f74d77840ecb800e37d16b",
              "IPY_MODEL_9a35f1b5596343d28d839d6db718378f"
            ]
          }
        },
        "3119932de81d476199eb5516d8a651a4": {
          "model_module": "@jupyter-widgets/base",
          "model_name": "LayoutModel",
          "model_module_version": "1.2.0",
          "state": {
            "_view_name": "LayoutView",
            "grid_template_rows": null,
            "right": null,
            "justify_content": null,
            "_view_module": "@jupyter-widgets/base",
            "overflow": null,
            "_model_module_version": "1.2.0",
            "_view_count": null,
            "flex_flow": null,
            "width": null,
            "min_width": null,
            "border": null,
            "align_items": null,
            "bottom": null,
            "_model_module": "@jupyter-widgets/base",
            "top": null,
            "grid_column": null,
            "overflow_y": null,
            "overflow_x": null,
            "grid_auto_flow": null,
            "grid_area": null,
            "grid_template_columns": null,
            "flex": null,
            "_model_name": "LayoutModel",
            "justify_items": null,
            "grid_row": null,
            "max_height": null,
            "align_content": null,
            "visibility": null,
            "align_self": null,
            "height": null,
            "min_height": null,
            "padding": null,
            "grid_auto_rows": null,
            "grid_gap": null,
            "max_width": null,
            "order": null,
            "_view_module_version": "1.2.0",
            "grid_template_areas": null,
            "object_position": null,
            "object_fit": null,
            "grid_auto_columns": null,
            "margin": null,
            "display": null,
            "left": null
          }
        },
        "88bda7d7b2234b2884d14f11479d1c22": {
          "model_module": "@jupyter-widgets/controls",
          "model_name": "HTMLModel",
          "model_module_version": "1.5.0",
          "state": {
            "_view_name": "HTMLView",
            "style": "IPY_MODEL_efc0ca0332684e6a9bda0499f9015fbe",
            "_dom_classes": [],
            "description": "",
            "_model_name": "HTMLModel",
            "placeholder": "​",
            "_view_module": "@jupyter-widgets/controls",
            "_model_module_version": "1.5.0",
            "value": "",
            "_view_count": null,
            "_view_module_version": "1.5.0",
            "description_tooltip": null,
            "_model_module": "@jupyter-widgets/controls",
            "layout": "IPY_MODEL_2a19f7ac41ed414887b891494c5f30f6"
          }
        },
        "39243fd8c0f74d77840ecb800e37d16b": {
          "model_module": "@jupyter-widgets/controls",
          "model_name": "FloatProgressModel",
          "model_module_version": "1.5.0",
          "state": {
            "_view_name": "ProgressView",
            "style": "IPY_MODEL_51140a36c08d4f6a81fc952b68bea679",
            "_dom_classes": [],
            "description": "",
            "_model_name": "FloatProgressModel",
            "bar_style": "success",
            "max": 28881,
            "_view_module": "@jupyter-widgets/controls",
            "_model_module_version": "1.5.0",
            "value": 28881,
            "_view_count": null,
            "_view_module_version": "1.5.0",
            "orientation": "horizontal",
            "min": 0,
            "description_tooltip": null,
            "_model_module": "@jupyter-widgets/controls",
            "layout": "IPY_MODEL_321f23e3e44c4c2894a1a806293ad602"
          }
        },
        "9a35f1b5596343d28d839d6db718378f": {
          "model_module": "@jupyter-widgets/controls",
          "model_name": "HTMLModel",
          "model_module_version": "1.5.0",
          "state": {
            "_view_name": "HTMLView",
            "style": "IPY_MODEL_230aed0048ce4fbead8ddb3f00191a30",
            "_dom_classes": [],
            "description": "",
            "_model_name": "HTMLModel",
            "placeholder": "​",
            "_view_module": "@jupyter-widgets/controls",
            "_model_module_version": "1.5.0",
            "value": " 29696/? [00:00&lt;00:00, 547492.74it/s]",
            "_view_count": null,
            "_view_module_version": "1.5.0",
            "description_tooltip": null,
            "_model_module": "@jupyter-widgets/controls",
            "layout": "IPY_MODEL_266dd1d3770b4bc9a99cfc49e50f044d"
          }
        },
        "efc0ca0332684e6a9bda0499f9015fbe": {
          "model_module": "@jupyter-widgets/controls",
          "model_name": "DescriptionStyleModel",
          "model_module_version": "1.5.0",
          "state": {
            "_view_name": "StyleView",
            "_model_name": "DescriptionStyleModel",
            "description_width": "",
            "_view_module": "@jupyter-widgets/base",
            "_model_module_version": "1.5.0",
            "_view_count": null,
            "_view_module_version": "1.2.0",
            "_model_module": "@jupyter-widgets/controls"
          }
        },
        "2a19f7ac41ed414887b891494c5f30f6": {
          "model_module": "@jupyter-widgets/base",
          "model_name": "LayoutModel",
          "model_module_version": "1.2.0",
          "state": {
            "_view_name": "LayoutView",
            "grid_template_rows": null,
            "right": null,
            "justify_content": null,
            "_view_module": "@jupyter-widgets/base",
            "overflow": null,
            "_model_module_version": "1.2.0",
            "_view_count": null,
            "flex_flow": null,
            "width": null,
            "min_width": null,
            "border": null,
            "align_items": null,
            "bottom": null,
            "_model_module": "@jupyter-widgets/base",
            "top": null,
            "grid_column": null,
            "overflow_y": null,
            "overflow_x": null,
            "grid_auto_flow": null,
            "grid_area": null,
            "grid_template_columns": null,
            "flex": null,
            "_model_name": "LayoutModel",
            "justify_items": null,
            "grid_row": null,
            "max_height": null,
            "align_content": null,
            "visibility": null,
            "align_self": null,
            "height": null,
            "min_height": null,
            "padding": null,
            "grid_auto_rows": null,
            "grid_gap": null,
            "max_width": null,
            "order": null,
            "_view_module_version": "1.2.0",
            "grid_template_areas": null,
            "object_position": null,
            "object_fit": null,
            "grid_auto_columns": null,
            "margin": null,
            "display": null,
            "left": null
          }
        },
        "51140a36c08d4f6a81fc952b68bea679": {
          "model_module": "@jupyter-widgets/controls",
          "model_name": "ProgressStyleModel",
          "model_module_version": "1.5.0",
          "state": {
            "_view_name": "StyleView",
            "_model_name": "ProgressStyleModel",
            "description_width": "",
            "_view_module": "@jupyter-widgets/base",
            "_model_module_version": "1.5.0",
            "_view_count": null,
            "_view_module_version": "1.2.0",
            "bar_color": null,
            "_model_module": "@jupyter-widgets/controls"
          }
        },
        "321f23e3e44c4c2894a1a806293ad602": {
          "model_module": "@jupyter-widgets/base",
          "model_name": "LayoutModel",
          "model_module_version": "1.2.0",
          "state": {
            "_view_name": "LayoutView",
            "grid_template_rows": null,
            "right": null,
            "justify_content": null,
            "_view_module": "@jupyter-widgets/base",
            "overflow": null,
            "_model_module_version": "1.2.0",
            "_view_count": null,
            "flex_flow": null,
            "width": null,
            "min_width": null,
            "border": null,
            "align_items": null,
            "bottom": null,
            "_model_module": "@jupyter-widgets/base",
            "top": null,
            "grid_column": null,
            "overflow_y": null,
            "overflow_x": null,
            "grid_auto_flow": null,
            "grid_area": null,
            "grid_template_columns": null,
            "flex": null,
            "_model_name": "LayoutModel",
            "justify_items": null,
            "grid_row": null,
            "max_height": null,
            "align_content": null,
            "visibility": null,
            "align_self": null,
            "height": null,
            "min_height": null,
            "padding": null,
            "grid_auto_rows": null,
            "grid_gap": null,
            "max_width": null,
            "order": null,
            "_view_module_version": "1.2.0",
            "grid_template_areas": null,
            "object_position": null,
            "object_fit": null,
            "grid_auto_columns": null,
            "margin": null,
            "display": null,
            "left": null
          }
        },
        "230aed0048ce4fbead8ddb3f00191a30": {
          "model_module": "@jupyter-widgets/controls",
          "model_name": "DescriptionStyleModel",
          "model_module_version": "1.5.0",
          "state": {
            "_view_name": "StyleView",
            "_model_name": "DescriptionStyleModel",
            "description_width": "",
            "_view_module": "@jupyter-widgets/base",
            "_model_module_version": "1.5.0",
            "_view_count": null,
            "_view_module_version": "1.2.0",
            "_model_module": "@jupyter-widgets/controls"
          }
        },
        "266dd1d3770b4bc9a99cfc49e50f044d": {
          "model_module": "@jupyter-widgets/base",
          "model_name": "LayoutModel",
          "model_module_version": "1.2.0",
          "state": {
            "_view_name": "LayoutView",
            "grid_template_rows": null,
            "right": null,
            "justify_content": null,
            "_view_module": "@jupyter-widgets/base",
            "overflow": null,
            "_model_module_version": "1.2.0",
            "_view_count": null,
            "flex_flow": null,
            "width": null,
            "min_width": null,
            "border": null,
            "align_items": null,
            "bottom": null,
            "_model_module": "@jupyter-widgets/base",
            "top": null,
            "grid_column": null,
            "overflow_y": null,
            "overflow_x": null,
            "grid_auto_flow": null,
            "grid_area": null,
            "grid_template_columns": null,
            "flex": null,
            "_model_name": "LayoutModel",
            "justify_items": null,
            "grid_row": null,
            "max_height": null,
            "align_content": null,
            "visibility": null,
            "align_self": null,
            "height": null,
            "min_height": null,
            "padding": null,
            "grid_auto_rows": null,
            "grid_gap": null,
            "max_width": null,
            "order": null,
            "_view_module_version": "1.2.0",
            "grid_template_areas": null,
            "object_position": null,
            "object_fit": null,
            "grid_auto_columns": null,
            "margin": null,
            "display": null,
            "left": null
          }
        },
        "0071553aecbf469ca11b9d9b5a665e42": {
          "model_module": "@jupyter-widgets/controls",
          "model_name": "HBoxModel",
          "model_module_version": "1.5.0",
          "state": {
            "_view_name": "HBoxView",
            "_dom_classes": [],
            "_model_name": "HBoxModel",
            "_view_module": "@jupyter-widgets/controls",
            "_model_module_version": "1.5.0",
            "_view_count": null,
            "_view_module_version": "1.5.0",
            "box_style": "",
            "layout": "IPY_MODEL_fc0e49e7886241db845ed21f46de7f1c",
            "_model_module": "@jupyter-widgets/controls",
            "children": [
              "IPY_MODEL_a18238f5195244c8a699abf741902384",
              "IPY_MODEL_84d241ee13c14fe2a8bcaaa98839cf9d",
              "IPY_MODEL_1c890f82451c4cdb85008e47c8b07f1a"
            ]
          }
        },
        "fc0e49e7886241db845ed21f46de7f1c": {
          "model_module": "@jupyter-widgets/base",
          "model_name": "LayoutModel",
          "model_module_version": "1.2.0",
          "state": {
            "_view_name": "LayoutView",
            "grid_template_rows": null,
            "right": null,
            "justify_content": null,
            "_view_module": "@jupyter-widgets/base",
            "overflow": null,
            "_model_module_version": "1.2.0",
            "_view_count": null,
            "flex_flow": null,
            "width": null,
            "min_width": null,
            "border": null,
            "align_items": null,
            "bottom": null,
            "_model_module": "@jupyter-widgets/base",
            "top": null,
            "grid_column": null,
            "overflow_y": null,
            "overflow_x": null,
            "grid_auto_flow": null,
            "grid_area": null,
            "grid_template_columns": null,
            "flex": null,
            "_model_name": "LayoutModel",
            "justify_items": null,
            "grid_row": null,
            "max_height": null,
            "align_content": null,
            "visibility": null,
            "align_self": null,
            "height": null,
            "min_height": null,
            "padding": null,
            "grid_auto_rows": null,
            "grid_gap": null,
            "max_width": null,
            "order": null,
            "_view_module_version": "1.2.0",
            "grid_template_areas": null,
            "object_position": null,
            "object_fit": null,
            "grid_auto_columns": null,
            "margin": null,
            "display": null,
            "left": null
          }
        },
        "a18238f5195244c8a699abf741902384": {
          "model_module": "@jupyter-widgets/controls",
          "model_name": "HTMLModel",
          "model_module_version": "1.5.0",
          "state": {
            "_view_name": "HTMLView",
            "style": "IPY_MODEL_d89774f0ed34466ab647819b8f55517e",
            "_dom_classes": [],
            "description": "",
            "_model_name": "HTMLModel",
            "placeholder": "​",
            "_view_module": "@jupyter-widgets/controls",
            "_model_module_version": "1.5.0",
            "value": "",
            "_view_count": null,
            "_view_module_version": "1.5.0",
            "description_tooltip": null,
            "_model_module": "@jupyter-widgets/controls",
            "layout": "IPY_MODEL_4004db98de9e4850bcc13001c124caac"
          }
        },
        "84d241ee13c14fe2a8bcaaa98839cf9d": {
          "model_module": "@jupyter-widgets/controls",
          "model_name": "FloatProgressModel",
          "model_module_version": "1.5.0",
          "state": {
            "_view_name": "ProgressView",
            "style": "IPY_MODEL_60ca5fa6f7e946b9b956268384ad60dc",
            "_dom_classes": [],
            "description": "",
            "_model_name": "FloatProgressModel",
            "bar_style": "success",
            "max": 1648877,
            "_view_module": "@jupyter-widgets/controls",
            "_model_module_version": "1.5.0",
            "value": 1648877,
            "_view_count": null,
            "_view_module_version": "1.5.0",
            "orientation": "horizontal",
            "min": 0,
            "description_tooltip": null,
            "_model_module": "@jupyter-widgets/controls",
            "layout": "IPY_MODEL_c5d2aa5deb9e4830bd91a6fa48c71335"
          }
        },
        "1c890f82451c4cdb85008e47c8b07f1a": {
          "model_module": "@jupyter-widgets/controls",
          "model_name": "HTMLModel",
          "model_module_version": "1.5.0",
          "state": {
            "_view_name": "HTMLView",
            "style": "IPY_MODEL_2d282afb94b8464f849dac5d1536aa7e",
            "_dom_classes": [],
            "description": "",
            "_model_name": "HTMLModel",
            "placeholder": "​",
            "_view_module": "@jupyter-widgets/controls",
            "_model_module_version": "1.5.0",
            "value": " 1649664/? [00:00&lt;00:00, 2720746.86it/s]",
            "_view_count": null,
            "_view_module_version": "1.5.0",
            "description_tooltip": null,
            "_model_module": "@jupyter-widgets/controls",
            "layout": "IPY_MODEL_453d15677b3c4a6b98e3ef6ffbdaa181"
          }
        },
        "d89774f0ed34466ab647819b8f55517e": {
          "model_module": "@jupyter-widgets/controls",
          "model_name": "DescriptionStyleModel",
          "model_module_version": "1.5.0",
          "state": {
            "_view_name": "StyleView",
            "_model_name": "DescriptionStyleModel",
            "description_width": "",
            "_view_module": "@jupyter-widgets/base",
            "_model_module_version": "1.5.0",
            "_view_count": null,
            "_view_module_version": "1.2.0",
            "_model_module": "@jupyter-widgets/controls"
          }
        },
        "4004db98de9e4850bcc13001c124caac": {
          "model_module": "@jupyter-widgets/base",
          "model_name": "LayoutModel",
          "model_module_version": "1.2.0",
          "state": {
            "_view_name": "LayoutView",
            "grid_template_rows": null,
            "right": null,
            "justify_content": null,
            "_view_module": "@jupyter-widgets/base",
            "overflow": null,
            "_model_module_version": "1.2.0",
            "_view_count": null,
            "flex_flow": null,
            "width": null,
            "min_width": null,
            "border": null,
            "align_items": null,
            "bottom": null,
            "_model_module": "@jupyter-widgets/base",
            "top": null,
            "grid_column": null,
            "overflow_y": null,
            "overflow_x": null,
            "grid_auto_flow": null,
            "grid_area": null,
            "grid_template_columns": null,
            "flex": null,
            "_model_name": "LayoutModel",
            "justify_items": null,
            "grid_row": null,
            "max_height": null,
            "align_content": null,
            "visibility": null,
            "align_self": null,
            "height": null,
            "min_height": null,
            "padding": null,
            "grid_auto_rows": null,
            "grid_gap": null,
            "max_width": null,
            "order": null,
            "_view_module_version": "1.2.0",
            "grid_template_areas": null,
            "object_position": null,
            "object_fit": null,
            "grid_auto_columns": null,
            "margin": null,
            "display": null,
            "left": null
          }
        },
        "60ca5fa6f7e946b9b956268384ad60dc": {
          "model_module": "@jupyter-widgets/controls",
          "model_name": "ProgressStyleModel",
          "model_module_version": "1.5.0",
          "state": {
            "_view_name": "StyleView",
            "_model_name": "ProgressStyleModel",
            "description_width": "",
            "_view_module": "@jupyter-widgets/base",
            "_model_module_version": "1.5.0",
            "_view_count": null,
            "_view_module_version": "1.2.0",
            "bar_color": null,
            "_model_module": "@jupyter-widgets/controls"
          }
        },
        "c5d2aa5deb9e4830bd91a6fa48c71335": {
          "model_module": "@jupyter-widgets/base",
          "model_name": "LayoutModel",
          "model_module_version": "1.2.0",
          "state": {
            "_view_name": "LayoutView",
            "grid_template_rows": null,
            "right": null,
            "justify_content": null,
            "_view_module": "@jupyter-widgets/base",
            "overflow": null,
            "_model_module_version": "1.2.0",
            "_view_count": null,
            "flex_flow": null,
            "width": null,
            "min_width": null,
            "border": null,
            "align_items": null,
            "bottom": null,
            "_model_module": "@jupyter-widgets/base",
            "top": null,
            "grid_column": null,
            "overflow_y": null,
            "overflow_x": null,
            "grid_auto_flow": null,
            "grid_area": null,
            "grid_template_columns": null,
            "flex": null,
            "_model_name": "LayoutModel",
            "justify_items": null,
            "grid_row": null,
            "max_height": null,
            "align_content": null,
            "visibility": null,
            "align_self": null,
            "height": null,
            "min_height": null,
            "padding": null,
            "grid_auto_rows": null,
            "grid_gap": null,
            "max_width": null,
            "order": null,
            "_view_module_version": "1.2.0",
            "grid_template_areas": null,
            "object_position": null,
            "object_fit": null,
            "grid_auto_columns": null,
            "margin": null,
            "display": null,
            "left": null
          }
        },
        "2d282afb94b8464f849dac5d1536aa7e": {
          "model_module": "@jupyter-widgets/controls",
          "model_name": "DescriptionStyleModel",
          "model_module_version": "1.5.0",
          "state": {
            "_view_name": "StyleView",
            "_model_name": "DescriptionStyleModel",
            "description_width": "",
            "_view_module": "@jupyter-widgets/base",
            "_model_module_version": "1.5.0",
            "_view_count": null,
            "_view_module_version": "1.2.0",
            "_model_module": "@jupyter-widgets/controls"
          }
        },
        "453d15677b3c4a6b98e3ef6ffbdaa181": {
          "model_module": "@jupyter-widgets/base",
          "model_name": "LayoutModel",
          "model_module_version": "1.2.0",
          "state": {
            "_view_name": "LayoutView",
            "grid_template_rows": null,
            "right": null,
            "justify_content": null,
            "_view_module": "@jupyter-widgets/base",
            "overflow": null,
            "_model_module_version": "1.2.0",
            "_view_count": null,
            "flex_flow": null,
            "width": null,
            "min_width": null,
            "border": null,
            "align_items": null,
            "bottom": null,
            "_model_module": "@jupyter-widgets/base",
            "top": null,
            "grid_column": null,
            "overflow_y": null,
            "overflow_x": null,
            "grid_auto_flow": null,
            "grid_area": null,
            "grid_template_columns": null,
            "flex": null,
            "_model_name": "LayoutModel",
            "justify_items": null,
            "grid_row": null,
            "max_height": null,
            "align_content": null,
            "visibility": null,
            "align_self": null,
            "height": null,
            "min_height": null,
            "padding": null,
            "grid_auto_rows": null,
            "grid_gap": null,
            "max_width": null,
            "order": null,
            "_view_module_version": "1.2.0",
            "grid_template_areas": null,
            "object_position": null,
            "object_fit": null,
            "grid_auto_columns": null,
            "margin": null,
            "display": null,
            "left": null
          }
        },
        "484432cf2983451781530b70d59985e9": {
          "model_module": "@jupyter-widgets/controls",
          "model_name": "HBoxModel",
          "model_module_version": "1.5.0",
          "state": {
            "_view_name": "HBoxView",
            "_dom_classes": [],
            "_model_name": "HBoxModel",
            "_view_module": "@jupyter-widgets/controls",
            "_model_module_version": "1.5.0",
            "_view_count": null,
            "_view_module_version": "1.5.0",
            "box_style": "",
            "layout": "IPY_MODEL_952144dd40244c82adc0c5e6f7f4ad5f",
            "_model_module": "@jupyter-widgets/controls",
            "children": [
              "IPY_MODEL_7b7efcd5d5be45999f6f9d36b2b54121",
              "IPY_MODEL_dce68ceef61f4a9888cb3af6c03f935a",
              "IPY_MODEL_cfa2270c54a94d5b94d6fc985afa1404"
            ]
          }
        },
        "952144dd40244c82adc0c5e6f7f4ad5f": {
          "model_module": "@jupyter-widgets/base",
          "model_name": "LayoutModel",
          "model_module_version": "1.2.0",
          "state": {
            "_view_name": "LayoutView",
            "grid_template_rows": null,
            "right": null,
            "justify_content": null,
            "_view_module": "@jupyter-widgets/base",
            "overflow": null,
            "_model_module_version": "1.2.0",
            "_view_count": null,
            "flex_flow": null,
            "width": null,
            "min_width": null,
            "border": null,
            "align_items": null,
            "bottom": null,
            "_model_module": "@jupyter-widgets/base",
            "top": null,
            "grid_column": null,
            "overflow_y": null,
            "overflow_x": null,
            "grid_auto_flow": null,
            "grid_area": null,
            "grid_template_columns": null,
            "flex": null,
            "_model_name": "LayoutModel",
            "justify_items": null,
            "grid_row": null,
            "max_height": null,
            "align_content": null,
            "visibility": null,
            "align_self": null,
            "height": null,
            "min_height": null,
            "padding": null,
            "grid_auto_rows": null,
            "grid_gap": null,
            "max_width": null,
            "order": null,
            "_view_module_version": "1.2.0",
            "grid_template_areas": null,
            "object_position": null,
            "object_fit": null,
            "grid_auto_columns": null,
            "margin": null,
            "display": null,
            "left": null
          }
        },
        "7b7efcd5d5be45999f6f9d36b2b54121": {
          "model_module": "@jupyter-widgets/controls",
          "model_name": "HTMLModel",
          "model_module_version": "1.5.0",
          "state": {
            "_view_name": "HTMLView",
            "style": "IPY_MODEL_ff034888aa064e41886fa6bd0e24cb8d",
            "_dom_classes": [],
            "description": "",
            "_model_name": "HTMLModel",
            "placeholder": "​",
            "_view_module": "@jupyter-widgets/controls",
            "_model_module_version": "1.5.0",
            "value": "",
            "_view_count": null,
            "_view_module_version": "1.5.0",
            "description_tooltip": null,
            "_model_module": "@jupyter-widgets/controls",
            "layout": "IPY_MODEL_6d21eaea450b4cb387956c73f1e918d6"
          }
        },
        "dce68ceef61f4a9888cb3af6c03f935a": {
          "model_module": "@jupyter-widgets/controls",
          "model_name": "FloatProgressModel",
          "model_module_version": "1.5.0",
          "state": {
            "_view_name": "ProgressView",
            "style": "IPY_MODEL_e9e0c569156049f18ba770ec343afbf3",
            "_dom_classes": [],
            "description": "",
            "_model_name": "FloatProgressModel",
            "bar_style": "success",
            "max": 4542,
            "_view_module": "@jupyter-widgets/controls",
            "_model_module_version": "1.5.0",
            "value": 4542,
            "_view_count": null,
            "_view_module_version": "1.5.0",
            "orientation": "horizontal",
            "min": 0,
            "description_tooltip": null,
            "_model_module": "@jupyter-widgets/controls",
            "layout": "IPY_MODEL_aa0899ffa5f941fdb90b38f2f5783852"
          }
        },
        "cfa2270c54a94d5b94d6fc985afa1404": {
          "model_module": "@jupyter-widgets/controls",
          "model_name": "HTMLModel",
          "model_module_version": "1.5.0",
          "state": {
            "_view_name": "HTMLView",
            "style": "IPY_MODEL_8989bbea25eb420cbd7a120fec5150c9",
            "_dom_classes": [],
            "description": "",
            "_model_name": "HTMLModel",
            "placeholder": "​",
            "_view_module": "@jupyter-widgets/controls",
            "_model_module_version": "1.5.0",
            "value": " 5120/? [00:00&lt;00:00, 85647.20it/s]",
            "_view_count": null,
            "_view_module_version": "1.5.0",
            "description_tooltip": null,
            "_model_module": "@jupyter-widgets/controls",
            "layout": "IPY_MODEL_e0263c7c39994f189b21124c41bc7636"
          }
        },
        "ff034888aa064e41886fa6bd0e24cb8d": {
          "model_module": "@jupyter-widgets/controls",
          "model_name": "DescriptionStyleModel",
          "model_module_version": "1.5.0",
          "state": {
            "_view_name": "StyleView",
            "_model_name": "DescriptionStyleModel",
            "description_width": "",
            "_view_module": "@jupyter-widgets/base",
            "_model_module_version": "1.5.0",
            "_view_count": null,
            "_view_module_version": "1.2.0",
            "_model_module": "@jupyter-widgets/controls"
          }
        },
        "6d21eaea450b4cb387956c73f1e918d6": {
          "model_module": "@jupyter-widgets/base",
          "model_name": "LayoutModel",
          "model_module_version": "1.2.0",
          "state": {
            "_view_name": "LayoutView",
            "grid_template_rows": null,
            "right": null,
            "justify_content": null,
            "_view_module": "@jupyter-widgets/base",
            "overflow": null,
            "_model_module_version": "1.2.0",
            "_view_count": null,
            "flex_flow": null,
            "width": null,
            "min_width": null,
            "border": null,
            "align_items": null,
            "bottom": null,
            "_model_module": "@jupyter-widgets/base",
            "top": null,
            "grid_column": null,
            "overflow_y": null,
            "overflow_x": null,
            "grid_auto_flow": null,
            "grid_area": null,
            "grid_template_columns": null,
            "flex": null,
            "_model_name": "LayoutModel",
            "justify_items": null,
            "grid_row": null,
            "max_height": null,
            "align_content": null,
            "visibility": null,
            "align_self": null,
            "height": null,
            "min_height": null,
            "padding": null,
            "grid_auto_rows": null,
            "grid_gap": null,
            "max_width": null,
            "order": null,
            "_view_module_version": "1.2.0",
            "grid_template_areas": null,
            "object_position": null,
            "object_fit": null,
            "grid_auto_columns": null,
            "margin": null,
            "display": null,
            "left": null
          }
        },
        "e9e0c569156049f18ba770ec343afbf3": {
          "model_module": "@jupyter-widgets/controls",
          "model_name": "ProgressStyleModel",
          "model_module_version": "1.5.0",
          "state": {
            "_view_name": "StyleView",
            "_model_name": "ProgressStyleModel",
            "description_width": "",
            "_view_module": "@jupyter-widgets/base",
            "_model_module_version": "1.5.0",
            "_view_count": null,
            "_view_module_version": "1.2.0",
            "bar_color": null,
            "_model_module": "@jupyter-widgets/controls"
          }
        },
        "aa0899ffa5f941fdb90b38f2f5783852": {
          "model_module": "@jupyter-widgets/base",
          "model_name": "LayoutModel",
          "model_module_version": "1.2.0",
          "state": {
            "_view_name": "LayoutView",
            "grid_template_rows": null,
            "right": null,
            "justify_content": null,
            "_view_module": "@jupyter-widgets/base",
            "overflow": null,
            "_model_module_version": "1.2.0",
            "_view_count": null,
            "flex_flow": null,
            "width": null,
            "min_width": null,
            "border": null,
            "align_items": null,
            "bottom": null,
            "_model_module": "@jupyter-widgets/base",
            "top": null,
            "grid_column": null,
            "overflow_y": null,
            "overflow_x": null,
            "grid_auto_flow": null,
            "grid_area": null,
            "grid_template_columns": null,
            "flex": null,
            "_model_name": "LayoutModel",
            "justify_items": null,
            "grid_row": null,
            "max_height": null,
            "align_content": null,
            "visibility": null,
            "align_self": null,
            "height": null,
            "min_height": null,
            "padding": null,
            "grid_auto_rows": null,
            "grid_gap": null,
            "max_width": null,
            "order": null,
            "_view_module_version": "1.2.0",
            "grid_template_areas": null,
            "object_position": null,
            "object_fit": null,
            "grid_auto_columns": null,
            "margin": null,
            "display": null,
            "left": null
          }
        },
        "8989bbea25eb420cbd7a120fec5150c9": {
          "model_module": "@jupyter-widgets/controls",
          "model_name": "DescriptionStyleModel",
          "model_module_version": "1.5.0",
          "state": {
            "_view_name": "StyleView",
            "_model_name": "DescriptionStyleModel",
            "description_width": "",
            "_view_module": "@jupyter-widgets/base",
            "_model_module_version": "1.5.0",
            "_view_count": null,
            "_view_module_version": "1.2.0",
            "_model_module": "@jupyter-widgets/controls"
          }
        },
        "e0263c7c39994f189b21124c41bc7636": {
          "model_module": "@jupyter-widgets/base",
          "model_name": "LayoutModel",
          "model_module_version": "1.2.0",
          "state": {
            "_view_name": "LayoutView",
            "grid_template_rows": null,
            "right": null,
            "justify_content": null,
            "_view_module": "@jupyter-widgets/base",
            "overflow": null,
            "_model_module_version": "1.2.0",
            "_view_count": null,
            "flex_flow": null,
            "width": null,
            "min_width": null,
            "border": null,
            "align_items": null,
            "bottom": null,
            "_model_module": "@jupyter-widgets/base",
            "top": null,
            "grid_column": null,
            "overflow_y": null,
            "overflow_x": null,
            "grid_auto_flow": null,
            "grid_area": null,
            "grid_template_columns": null,
            "flex": null,
            "_model_name": "LayoutModel",
            "justify_items": null,
            "grid_row": null,
            "max_height": null,
            "align_content": null,
            "visibility": null,
            "align_self": null,
            "height": null,
            "min_height": null,
            "padding": null,
            "grid_auto_rows": null,
            "grid_gap": null,
            "max_width": null,
            "order": null,
            "_view_module_version": "1.2.0",
            "grid_template_areas": null,
            "object_position": null,
            "object_fit": null,
            "grid_auto_columns": null,
            "margin": null,
            "display": null,
            "left": null
          }
        }
      }
    }
  },
  "cells": [
    {
      "cell_type": "markdown",
      "metadata": {
        "id": "view-in-github",
        "colab_type": "text"
      },
      "source": [
        "<a href=\"https://colab.research.google.com/github/zaedulislam/PyTorch_for_Deep_Learning_and_Computer_Vision/blob/main/Section%207%20-%20Image%20Recognition%20-%20PyTorch.ipynb\" target=\"_parent\"><img src=\"https://colab.research.google.com/assets/colab-badge.svg\" alt=\"Open In Colab\"/></a>"
      ]
    },
    {
      "cell_type": "markdown",
      "source": [
        "# 46. Image Transforms - Loading Images and Transforms | 48. Neural Network Validation"
      ],
      "metadata": {
        "id": "9xZS4Ao21njH"
      }
    },
    {
      "cell_type": "markdown",
      "source": [
        "## Installation"
      ],
      "metadata": {
        "id": "CYOqBzcZmS1B"
      }
    },
    {
      "cell_type": "code",
      "execution_count": 1,
      "metadata": {
        "colab": {
          "base_uri": "https://localhost:8080/"
        },
        "id": "RiX5ktkzIi5X",
        "outputId": "a4a97f27-ce73-443e-f5b8-0ef0e880a85e"
      },
      "outputs": [
        {
          "output_type": "stream",
          "name": "stdout",
          "text": [
            "Requirement already satisfied: torch in /usr/local/lib/python3.7/dist-packages (1.10.0+cu111)\n",
            "Requirement already satisfied: typing-extensions in /usr/local/lib/python3.7/dist-packages (from torch) (3.10.0.2)\n",
            "Requirement already satisfied: torchvision in /usr/local/lib/python3.7/dist-packages (0.11.1+cu111)\n",
            "Requirement already satisfied: torch==1.10.0 in /usr/local/lib/python3.7/dist-packages (from torchvision) (1.10.0+cu111)\n",
            "Requirement already satisfied: numpy in /usr/local/lib/python3.7/dist-packages (from torchvision) (1.19.5)\n",
            "Requirement already satisfied: pillow!=8.3.0,>=5.3.0 in /usr/local/lib/python3.7/dist-packages (from torchvision) (7.1.2)\n",
            "Requirement already satisfied: typing-extensions in /usr/local/lib/python3.7/dist-packages (from torch==1.10.0->torchvision) (3.10.0.2)\n"
          ]
        }
      ],
      "source": [
        "!pip3 install torch\n",
        "!pip3 install torchvision\n",
        "\n",
        "# Alternatively, both packages can be installed in one line using the following command\n",
        "# !pip3 install torch torchvision"
      ]
    },
    {
      "cell_type": "markdown",
      "source": [
        "## torchvision\n",
        "The **torchvision** is a standard package that contains many types of datasets, most notably the enhanced image dataset and it also consists of transformations that are commonly applied to these images in order to preprocessed them before they are fed into a neural network."
      ],
      "metadata": {
        "id": "Bs9EjScZJmPb"
      }
    },
    {
      "cell_type": "code",
      "source": [
        "import torch\n",
        "import matplotlib.pyplot as plt\n",
        "import numpy as np\n",
        "import torch.nn.functional as F\n",
        "from torch import nn\n",
        "from torchvision import datasets, transforms"
      ],
      "metadata": {
        "id": "ar3b0xDIJSCp"
      },
      "execution_count": 2,
      "outputs": []
    },
    {
      "cell_type": "markdown",
      "source": [
        "Currently, [MNIST images](https://www.notion.so/islamzaedul/Section-7-Image-Recognition-PyTorch-2348e3c44df44cc4833575befa5f1259#545240f4a81f4518900c7c51cc5db4d9) are 28 by 28 greyscale images, which would imply that each image is a two dimensional numpy array. Twenty eight pixels wide and twenty eight pixels long, each pixel intensity ranging from 0 to 255.\n",
        "\n",
        "We must transform this image from being an array to a tensor. The compose will allow to chain together transformations.\n",
        "\n",
        "\n",
        "\n",
        "1. simply convert the numpy array in the range of 0 to 255 to a float tensor in the range from 0 to 1 encoded in a tensor shape which characterises the images channel height and weight (**C, H, W**) like [this](https://www.notion.so/islamzaedul/Section-7-Image-Recognition-PyTorch-2348e3c44df44cc4833575befa5f1259#6d9cc704476a4290a8795a5ce54cfe1e).\n",
        "\n",
        "2. Apply the normalized transformation so transforms do normalize. We normalized the values for each transfer of image, size, channel height and width. The first set of brackets, we specified the mean that we would like to use to normalize all channels of the tensor image. In the second set of brackets, we specified the center deviation.\n",
        "\n",
        "The reason why we chose **0.5** values for all of them is because ultimately we want to convert the tensor image range to go from 0, 1 to -1, -1. The way it does this is take, for example, the minimum value of zero by subtracting the mean and dividing by standard deviation, both of which are **0.5**, it yields a -1.\n",
        "\n",
        "![image.png](data:image/png;base64,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)\n",
        "\n",
        "Doing the same thing for the maximum value yields a value of **1**, hence creating the range from **-1** to **1**.\n",
        "\n",
        "![image.png](data:image/png;base64,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)\n",
        "\n",
        "### Why would we want our image values to range from negative one to one?\n",
        "In essence, normalization helps reduce Skewness and distortions within the data, ensuring a more effective learning process once that image data is fed into the neural network. Using this normalization with **0.5** values is one of many normalization schemas.\n",
        "\n",
        "\n"
      ],
      "metadata": {
        "id": "R47Emtq6aRFq"
      }
    },
    {
      "cell_type": "code",
      "source": [
        "transform = transforms.Compose([transforms.ToTensor(),\n",
        "                                transforms.Normalize((0.5,), (0.5,))\n",
        "                                ])"
      ],
      "metadata": {
        "id": "m0YjLjHkLUum"
      },
      "execution_count": 3,
      "outputs": []
    },
    {
      "cell_type": "markdown",
      "source": [
        "## Dataset"
      ],
      "metadata": {
        "id": "DPdF55g4nvpy"
      }
    },
    {
      "cell_type": "markdown",
      "source": [
        "**Arguments**\n",
        "\n",
        "* `root='./data'` -> dataset will be saved in `data` directory\n",
        "* `download=True` -> MNIST dataset will be downloaded in `data` folder\n",
        "* `transform` -> The `transform` argument simply dictates any image manipulations applied to the images."
      ],
      "metadata": {
        "id": "xXU52ziqZQIQ"
      }
    },
    {
      "cell_type": "code",
      "source": [
        "trainingDataset = datasets.MNIST(root='./data', train=True, download=True, transform=transform)\n",
        "\n",
        "# This validation data set contains images just like the training sets, although generally the sample size is significantly smaller, \n",
        "# it tends to be 20 percent the size of the training data as we will use it mainly for testing purposes \n",
        "validationDataset = datasets.MNIST(root='./data', train=False, download=True, transform=transform)"
      ],
      "metadata": {
        "id": "pRfNNd9waNSp",
        "colab": {
          "base_uri": "https://localhost:8080/",
          "height": 423,
          "referenced_widgets": [
            "0532956bccb04267bff3619d6fed5ede",
            "140121ac0c8145afab72bdb2be4715ed",
            "281a8c59303d4a25aeaebe5567f7bb91",
            "8b33b6988f574775a27a2e5f506b188d",
            "86e07815797748a1b163bb81f18533a1",
            "51f2a56b9beb4101a86c7bc90733228c",
            "f1592853a02a4946a1348fc201b75d7b",
            "0a68413671554d118af4c3f995360c1c",
            "02085fa4ef1f4b1c96b6010e16783106",
            "a8df92ff46e742f2bb5ca69641411748",
            "8e25852208534eee804a7f1d9b7ec8b9",
            "c7b3379d0c6c409dbd104db9d5c98f5a",
            "3119932de81d476199eb5516d8a651a4",
            "88bda7d7b2234b2884d14f11479d1c22",
            "39243fd8c0f74d77840ecb800e37d16b",
            "9a35f1b5596343d28d839d6db718378f",
            "efc0ca0332684e6a9bda0499f9015fbe",
            "2a19f7ac41ed414887b891494c5f30f6",
            "51140a36c08d4f6a81fc952b68bea679",
            "321f23e3e44c4c2894a1a806293ad602",
            "230aed0048ce4fbead8ddb3f00191a30",
            "266dd1d3770b4bc9a99cfc49e50f044d",
            "0071553aecbf469ca11b9d9b5a665e42",
            "fc0e49e7886241db845ed21f46de7f1c",
            "a18238f5195244c8a699abf741902384",
            "84d241ee13c14fe2a8bcaaa98839cf9d",
            "1c890f82451c4cdb85008e47c8b07f1a",
            "d89774f0ed34466ab647819b8f55517e",
            "4004db98de9e4850bcc13001c124caac",
            "60ca5fa6f7e946b9b956268384ad60dc",
            "c5d2aa5deb9e4830bd91a6fa48c71335",
            "2d282afb94b8464f849dac5d1536aa7e",
            "453d15677b3c4a6b98e3ef6ffbdaa181",
            "484432cf2983451781530b70d59985e9",
            "952144dd40244c82adc0c5e6f7f4ad5f",
            "7b7efcd5d5be45999f6f9d36b2b54121",
            "dce68ceef61f4a9888cb3af6c03f935a",
            "cfa2270c54a94d5b94d6fc985afa1404",
            "ff034888aa064e41886fa6bd0e24cb8d",
            "6d21eaea450b4cb387956c73f1e918d6",
            "e9e0c569156049f18ba770ec343afbf3",
            "aa0899ffa5f941fdb90b38f2f5783852",
            "8989bbea25eb420cbd7a120fec5150c9",
            "e0263c7c39994f189b21124c41bc7636"
          ]
        },
        "outputId": "53528a1a-0dd4-4043-f167-8b64a010c1d8"
      },
      "execution_count": 4,
      "outputs": [
        {
          "output_type": "stream",
          "name": "stdout",
          "text": [
            "Downloading http://yann.lecun.com/exdb/mnist/train-images-idx3-ubyte.gz\n",
            "Downloading http://yann.lecun.com/exdb/mnist/train-images-idx3-ubyte.gz to ./data/MNIST/raw/train-images-idx3-ubyte.gz\n"
          ]
        },
        {
          "output_type": "display_data",
          "data": {
            "application/vnd.jupyter.widget-view+json": {
              "model_id": "0532956bccb04267bff3619d6fed5ede",
              "version_minor": 0,
              "version_major": 2
            },
            "text/plain": [
              "  0%|          | 0/9912422 [00:00<?, ?it/s]"
            ]
          },
          "metadata": {}
        },
        {
          "output_type": "stream",
          "name": "stdout",
          "text": [
            "Extracting ./data/MNIST/raw/train-images-idx3-ubyte.gz to ./data/MNIST/raw\n",
            "\n",
            "Downloading http://yann.lecun.com/exdb/mnist/train-labels-idx1-ubyte.gz\n",
            "Downloading http://yann.lecun.com/exdb/mnist/train-labels-idx1-ubyte.gz to ./data/MNIST/raw/train-labels-idx1-ubyte.gz\n"
          ]
        },
        {
          "output_type": "display_data",
          "data": {
            "application/vnd.jupyter.widget-view+json": {
              "model_id": "c7b3379d0c6c409dbd104db9d5c98f5a",
              "version_minor": 0,
              "version_major": 2
            },
            "text/plain": [
              "  0%|          | 0/28881 [00:00<?, ?it/s]"
            ]
          },
          "metadata": {}
        },
        {
          "output_type": "stream",
          "name": "stdout",
          "text": [
            "Extracting ./data/MNIST/raw/train-labels-idx1-ubyte.gz to ./data/MNIST/raw\n",
            "\n",
            "Downloading http://yann.lecun.com/exdb/mnist/t10k-images-idx3-ubyte.gz\n",
            "Downloading http://yann.lecun.com/exdb/mnist/t10k-images-idx3-ubyte.gz to ./data/MNIST/raw/t10k-images-idx3-ubyte.gz\n"
          ]
        },
        {
          "output_type": "display_data",
          "data": {
            "application/vnd.jupyter.widget-view+json": {
              "model_id": "0071553aecbf469ca11b9d9b5a665e42",
              "version_minor": 0,
              "version_major": 2
            },
            "text/plain": [
              "  0%|          | 0/1648877 [00:00<?, ?it/s]"
            ]
          },
          "metadata": {}
        },
        {
          "output_type": "stream",
          "name": "stdout",
          "text": [
            "Extracting ./data/MNIST/raw/t10k-images-idx3-ubyte.gz to ./data/MNIST/raw\n",
            "\n",
            "Downloading http://yann.lecun.com/exdb/mnist/t10k-labels-idx1-ubyte.gz\n",
            "Downloading http://yann.lecun.com/exdb/mnist/t10k-labels-idx1-ubyte.gz to ./data/MNIST/raw/t10k-labels-idx1-ubyte.gz\n"
          ]
        },
        {
          "output_type": "display_data",
          "data": {
            "application/vnd.jupyter.widget-view+json": {
              "model_id": "484432cf2983451781530b70d59985e9",
              "version_minor": 0,
              "version_major": 2
            },
            "text/plain": [
              "  0%|          | 0/4542 [00:00<?, ?it/s]"
            ]
          },
          "metadata": {}
        },
        {
          "output_type": "stream",
          "name": "stdout",
          "text": [
            "Extracting ./data/MNIST/raw/t10k-labels-idx1-ubyte.gz to ./data/MNIST/raw\n",
            "\n"
          ]
        }
      ]
    },
    {
      "cell_type": "markdown",
      "source": [
        "* Number of datapoints: 60000 - It provided us with 60000 training images"
      ],
      "metadata": {
        "id": "lbW8qaTKq_dX"
      }
    },
    {
      "cell_type": "code",
      "source": [
        "trainingDataset"
      ],
      "metadata": {
        "colab": {
          "base_uri": "https://localhost:8080/"
        },
        "id": "D8Pa9wUJq7Cq",
        "outputId": "0afc4509-a594-4ed3-de66-79b037c397a9"
      },
      "execution_count": 5,
      "outputs": [
        {
          "output_type": "execute_result",
          "data": {
            "text/plain": [
              "Dataset MNIST\n",
              "    Number of datapoints: 60000\n",
              "    Root location: ./data\n",
              "    Split: Train\n",
              "    StandardTransform\n",
              "Transform: Compose(\n",
              "               ToTensor()\n",
              "               Normalize(mean=(0.5,), std=(0.5,))\n",
              "           )"
            ]
          },
          "metadata": {},
          "execution_count": 5
        }
      ]
    },
    {
      "cell_type": "code",
      "source": [
        "validationDataset"
      ],
      "metadata": {
        "colab": {
          "base_uri": "https://localhost:8080/"
        },
        "id": "BMf2Xcw2nqZE",
        "outputId": "90a8b2a8-50a8-4fb4-8b60-b091d29800e1"
      },
      "execution_count": 6,
      "outputs": [
        {
          "output_type": "execute_result",
          "data": {
            "text/plain": [
              "Dataset MNIST\n",
              "    Number of datapoints: 10000\n",
              "    Root location: ./data\n",
              "    Split: Test\n",
              "    StandardTransform\n",
              "Transform: Compose(\n",
              "               ToTensor()\n",
              "               Normalize(mean=(0.5,), std=(0.5,))\n",
              "           )"
            ]
          },
          "metadata": {},
          "execution_count": 6
        }
      ]
    },
    {
      "cell_type": "markdown",
      "source": [
        "The training loader is to specify the training batches training our neural network for every epoch (a single pass through the entire dataset). However, one epoch with 60000 training images would be too big to fit on the computer all at once. So we divide it in smaller batches using the train loader.\n",
        "\n",
        "We choose a `batch_size` is equal to 100. It would take roughly 600 iterations to complete one epoch and that each iteration it'll update the weight of the neural network, minimizing the error, the `batch_size` really depends on the size of the data, according to the GPU, how long it takes to process your data.\n",
        "\n",
        "### Why shuffle?\n",
        "The advantage of being using gradient descent is to update the weight and the direction that decreases the error the most as it keeps minimizing the error Often times it will tend to get stuck in the **local minimum** rather than the **absolute minimum**. And the idea case is to do is always ensure the absolute minimum of the loss function to decrease the error as much as possible, thereby maximizing the accuracy of your model. Although when dealing with static training data that's unchanged overall training iterations, gradient descent algorithms will tend to get stuck in these **local minima**.\n",
        "\n",
        "The solution to this is to **shuffle** your training data, ensuring that the subset of training that it changes with every single iteration.\n",
        "\n",
        "![image.png](data:image/png;base64,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)\n",
        "\n",
        "![image.png](data:image/png;base64,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)"
      ],
      "metadata": {
        "id": "Wu-VP3nYxPSn"
      }
    },
    {
      "cell_type": "code",
      "source": [
        "trainingLoader = torch.utils.data.DataLoader(dataset=trainingDataset, batch_size=100, shuffle=True)"
      ],
      "metadata": {
        "id": "2OxOm5DbxBdr"
      },
      "execution_count": 7,
      "outputs": []
    },
    {
      "cell_type": "markdown",
      "source": [
        "We will not be training our validation data, and we will not be training our model based on the validation data. So there is no need to shuffle it."
      ],
      "metadata": {
        "id": "2Rgq4HtwoM4v"
      }
    },
    {
      "cell_type": "code",
      "source": [
        "validationLoader = torch.utils.data.DataLoader(validationDataset, batch_size = 100, shuffle = False)"
      ],
      "metadata": {
        "id": "h9KdBGC-n-_G"
      },
      "execution_count": 8,
      "outputs": []
    },
    {
      "cell_type": "markdown",
      "source": [
        "## Analyze Image Dataset by Plotting\n",
        "To plot the tensor image, it is required to change back to a numpy array."
      ],
      "metadata": {
        "id": "XrJ7XN7prQ7R"
      }
    },
    {
      "cell_type": "markdown",
      "source": [
        " The converted numpy array has a shape where the first dimension now represents the **color channel**, the second and third dimensions represent the **width** and the **height** of the image and pixels. Ultimately, this dataset is a greyscale corresponding to a single color channel with a weight and height of   28 by 28 pixels. Hence the shape would be **1, 28, 28**. To plot our image, we require to have a **28, 28, 1** shape.\n",
        "\n",
        "* `image = image.transpose(1, 2, 0)` - We swap axis 0 for axis 1, axis 1 for axis 2 and axis 0 in the end.\n",
        "\n",
        "* `image * np.array((0.5, 0.5, 0.5)) + np.array((0.5, 0.5, 0.5))` - Normalization process consists of subtracting the mean and dividing by the standard deviation. So to **denormalize** we would multiply by any standard deviation and add the mean.\n",
        "\n",
        "![image.png](data:image/png;base64,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)\n",
        "\n",
        "* `image.clip(0, 1)` - Finally, to ensure that the range is indeed between 0 1, apply the clip function to a minimum value of 0 and the maximum value of 1."
      ],
      "metadata": {
        "id": "e64RDi2tsiaX"
      }
    },
    {
      "cell_type": "code",
      "source": [
        "def imageConvertFromTensorToNumpy(tensor):\n",
        "    image = tensor.clone().detach().numpy()\n",
        "    image = image.transpose(1, 2, 0)\n",
        "    print(image.shape)\n",
        "    image = image * np.array((0.5, 0.5, 0.5)) + np.array((0.5, 0.5, 0.5))\n",
        "    image = image.clip(0, 1)\n",
        "    return image"
      ],
      "metadata": {
        "id": "UFXo3arYrWqq"
      },
      "execution_count": 9,
      "outputs": []
    },
    {
      "cell_type": "code",
      "source": [
        "dataIter = iter(trainingLoader)\n",
        "images, labels = dataIter.next()\n",
        "figure = plt.figure(figsize=(25, 4))\n",
        "\n",
        "\n",
        "for index in np.arange(20):\n",
        "    # xticks=[], yticks=[] -> to remove horizontal and vertical tick marks\n",
        "    ax = figure.add_subplot(2, 10, index + 1, xticks=[], yticks=[])\n",
        "    plt.imshow(imageConvertFromTensorToNumpy(images[index]))\n",
        "    ax.set_title([labels[index].item()])\n",
        "    "
      ],
      "metadata": {
        "colab": {
          "base_uri": "https://localhost:8080/",
          "height": 588
        },
        "id": "fLbrUVLJzpNm",
        "outputId": "2588dd45-ed51-4578-bd12-f9864d8c0961"
      },
      "execution_count": 10,
      "outputs": [
        {
          "output_type": "stream",
          "name": "stdout",
          "text": [
            "(28, 28, 1)\n",
            "(28, 28, 1)\n",
            "(28, 28, 1)\n",
            "(28, 28, 1)\n",
            "(28, 28, 1)\n",
            "(28, 28, 1)\n",
            "(28, 28, 1)\n",
            "(28, 28, 1)\n",
            "(28, 28, 1)\n",
            "(28, 28, 1)\n",
            "(28, 28, 1)\n",
            "(28, 28, 1)\n",
            "(28, 28, 1)\n",
            "(28, 28, 1)\n",
            "(28, 28, 1)\n",
            "(28, 28, 1)\n",
            "(28, 28, 1)\n",
            "(28, 28, 1)\n",
            "(28, 28, 1)\n",
            "(28, 28, 1)\n"
          ]
        },
        {
          "output_type": "display_data",
          "data": {
            "image/png": "[encoded data removed]",
            "text/plain": [
              "<Figure size 1800x288 with 20 Axes>"
            ]
          },
          "metadata": {}
        }
      ]
    },
    {
      "cell_type": "markdown",
      "source": [
        "# 47. Neural Network Implementation"
      ],
      "metadata": {
        "id": "HBJsSKMob2VA"
      }
    },
    {
      "cell_type": "markdown",
      "source": [
        "Define a class named `Classifier` that will be using to create the neural model instances. And it will once again inherit from an `nn.Module`. We've defined the neural model in the constructor, **one input layer**, **two hidden layers** and **one output layer**.\n"
      ],
      "metadata": {
        "id": "09UctYcPtw_A"
      }
    },
    {
      "cell_type": "markdown",
      "source": [
        "### Why don't we use any activation function in **x = self.linear3(x)**?\n",
        "By not applying an activation function, we would get back raw output of the network in the end. This is often called the **score**. This matters when calculating the **cross entropy** loss of a multiclass dataset, namely `nn.CrossEntropyLoss`. This loss function is used for multiclass classification. It is a combination of the log softmax and the negative log likelihood loss, \n",
        "`nn.CrossEntropyLoss = log_softmax + NLLLoss()`"
      ],
      "metadata": {
        "id": "uzEdTmXaeK9L"
      }
    },
    {
      "cell_type": "code",
      "source": [
        "class Classifier(nn.Module):\n",
        "    def __init__(self, numberOfInputNodes, numberOfNodesInFirstHiddenLayer, numberOfNodesInSecondHiddenLayer, numberOfNodesInOuputLayer):\n",
        "        super().__init__()\n",
        "        # Initializing the input layer\n",
        "        self.linear1 = nn.Linear(in_features = numberOfInputNodes, out_features = numberOfNodesInFirstHiddenLayer)\n",
        "        # The second layer of nodes is the first hidden layer\n",
        "        self.linear2 = nn.Linear(in_features = numberOfNodesInFirstHiddenLayer, out_features = numberOfNodesInSecondHiddenLayer)\n",
        "        # The third layer of nodes is the second hidden layer\n",
        "        self.linear3 = nn.Linear(in_features = numberOfNodesInSecondHiddenLayer, out_features = numberOfNodesInOuputLayer)\n",
        "\n",
        "    def forward(self, x):\n",
        "        # Essentially relu function, just like sigmoid, is an activation function. \n",
        "        # Except relu through empirical observation, generally performs better in most situations.\n",
        "        x = F.relu(self.linear1(x))\n",
        "\n",
        "        x = F.relu(self.linear2(x))\n",
        "\n",
        "        # As we are dealing with a multi-class dataset, we will not apply any activation functions here such that what's returned is whatever value \n",
        "        # that's outputted by a linear3. We will be using \"nn.CrossEntropyLoss\" to compute the loss for our multiclass dataset, simply make sure that the outputs \n",
        "        # that are returned in the end is the output, the score such that no softmax activation function is being applied to it.\n",
        "        x = self.linear3(x)\n",
        "\n",
        "        # Return the final predicted value/score rather than a final probability\n",
        "        return x\n"
      ],
      "metadata": {
        "id": "DqiQujLnr9LN"
      },
      "execution_count": 11,
      "outputs": []
    },
    {
      "cell_type": "markdown",
      "source": [
        "### Setting up a Model\n",
        "According to the initialisation, we must set and put dimensions, hidden layer dimensions as well as output dimensions.\n",
        "1. Since each image is **28x28**, 28 pixels traversing the horizontal axis and 28 pixels, traversing the vertical axis in total. This corresponds to **784** pixels that must be fed into the deep neural network.\n",
        "2. The following neural network architecture to provide really good results, with **125** nodes in the first hidden layer and **65** nodes in the second hidden layer.\n",
        "3. The output size simply corresponds to the number of classes in which each element can be classified. And since there are ten classes from **0 to 9**, we require **10** output nodes"
      ],
      "metadata": {
        "id": "CeDL3nyHukGy"
      }
    },
    {
      "cell_type": "code",
      "source": [
        "model = Classifier(numberOfInputNodes = 784, numberOfNodesInFirstHiddenLayer = 125, numberOfNodesInSecondHiddenLayer = 65, numberOfNodesInOuputLayer = 10)\n",
        "print(model)"
      ],
      "metadata": {
        "colab": {
          "base_uri": "https://localhost:8080/"
        },
        "id": "jKOwAmLhf8WW",
        "outputId": "cbd98e53-0b32-43b1-e81d-d709e95c90ef"
      },
      "execution_count": 12,
      "outputs": [
        {
          "output_type": "stream",
          "name": "stdout",
          "text": [
            "Classifier(\n",
            "  (linear1): Linear(in_features=784, out_features=125, bias=True)\n",
            "  (linear2): Linear(in_features=125, out_features=65, bias=True)\n",
            "  (linear3): Linear(in_features=65, out_features=10, bias=True)\n",
            ")\n"
          ]
        }
      ]
    },
    {
      "cell_type": "markdown",
      "source": [
        "### Loss Function\n",
        "1. **nn.CrossEntropyLoss()** function is used for multiclass classification.\n",
        "2. Optimize the model parameters with a learning rate is equal to 0.0001, relatively low learning rate. A low learning rate can cause for the loss failure to get stuck in such a minima, whereas a higher learning rate's inherent, divergent behavior in that case would allow the parameters of the model to escape these local minimums, as our goal is generally to reach the absolute minimum of the loss function to minimize the loss as much as we can, while still generalising to new data and indication of getting stuck at a local minimum can be observed in the use of a low learning rate results any loss that stops decreasing at a relatively high value. In such a case, although it might seem counterintuitive, then increasing the learning rate would result in a better solution."
      ],
      "metadata": {
        "id": "1NQYNZy2NKK9"
      }
    },
    {
      "cell_type": "code",
      "source": [
        "criterion = nn.CrossEntropyLoss()\n",
        "optimizer = torch.optim.Adam(model.parameters(), lr = 0.0001)"
      ],
      "metadata": {
        "id": "FTKEgVcYhOd3"
      },
      "execution_count": 13,
      "outputs": []
    },
    {
      "cell_type": "markdown",
      "source": [
        "### Analyzing the Loss at Every Epoch with a Plot\n",
        "* We start by iterating through every epoch. And for every epoch, we must iterate through every single training batch that's provided by the `trainingLoader`. So for each training batch will contain **100** images as well as one hundred labels\n",
        "and train loader.\n",
        "* The shape of each image tensor is **1X28X28**, **784** pixels in total. Due to the structure of the neural network, the input values are going to be multiplied by the weight matrix, connecting the input layer to the first hidden layer. To conduct this matrix multiplication, the images have to be one dimensional (i.e., **1x784**).\n",
        "\n",
        "`inputs = inputs.view(inputs.shape[0], -1)`\n",
        "* `inputs.shape[0]` -> We leave the colour channel and index is 0 as is. `-1`, by putting a negative one, it will simply infer the total the number of pixels. `inputs` will be fed into the model. "
      ],
      "metadata": {
        "id": "Vkuc8ZaIOWBv"
      }
    },
    {
      "cell_type": "code",
      "source": [
        "epochs = 15\n",
        "\n",
        "runningLossHistory = []\n",
        "runningCorrectsHistory = []\n",
        "\n",
        "validationRunningLossHistory = []\n",
        "validationRunningCorrectsHistory = []\n",
        "\n",
        "for epoch in range(epochs):\n",
        "\n",
        "    # Keep track of the losses at every epoch \n",
        "    runningLoss = 0.0\n",
        "    # Keep track of the corrects at every epoch \n",
        "    runningCorrects = 0.0\n",
        "\n",
        "    validationRunningLoss = 0.0\n",
        "    validationRunningCorrects = 0.0\n",
        "\n",
        "    for inputs, labels in trainingLoader:\n",
        "        # Flatten the batches of images by reshaping them with the familiar view method\n",
        "        # 1 x 784\n",
        "        inputs = inputs.view(inputs.shape[0], -1)\n",
        "        \n",
        "        # Calling upon the forward function which will end up returning the raw output/final score \n",
        "        # rather than a final probability to which a log softmax is then applied\n",
        "        outputs = model(inputs)\n",
        "\n",
        "        # Calculate the total categorical cross entropy loss. The output is ultimately compared with the actual labels\n",
        "        # We are comparing the outputs and the labels and we determine the error based on the cross entropy criterion\n",
        "        loss = criterion(outputs, labels)\n",
        "\n",
        "        optimizer.zero_grad()\n",
        "        loss.backward()\n",
        "        optimizer.step()\n",
        "\n",
        "        _, predictions = torch.max(outputs, 1)\n",
        "\n",
        "        runningLoss += loss.item()\n",
        "        runningCorrects += torch.sum(predictions == labels.data)\n",
        "    else:\n",
        "        with torch.no_grad(): # Temporarily set all the requires grad flags to be false, \n",
        "            # subsequently invoking this block of code as a pair, that was really the only difference.\n",
        "            for validationInputs, validationLabels in validationLoader:\n",
        "                validationInputs = validationInputs.view(validationInputs.shape[0], -1)\n",
        "                validationOutputs = model(validationInputs)\n",
        "                validationLoss = criterion(validationOutputs, validationLabels)\n",
        "\n",
        "                _, validationPredictions = torch.max(validationOutputs, 1)\n",
        "\n",
        "                validationRunningLoss += validationLoss.item()\n",
        "                validationRunningCorrects += torch.sum(validationPredictions == validationLabels.data)\n",
        "\n",
        "\n",
        "        \n",
        "        # ******For Training Dataset******\n",
        "        # Calculate the average loss for a epoch for training dataset\n",
        "        epochLoss = runningLoss / len(trainingLoader)\n",
        "\n",
        "        # Calculate the average loss for a epoch for training dataset\n",
        "        epochAccuracy = runningCorrects.float() / len(trainingLoader)\n",
        "\n",
        "        runningLossHistory.append(epochLoss)\n",
        "        runningCorrectsHistory.append(epochAccuracy)\n",
        "\n",
        "\n",
        "        # ******For Validation Dataset******\n",
        "        # Calculate the average loss for a epoch for validation dataset\n",
        "        validationEpochLoss = validationRunningLoss / len(validationLoader)\n",
        "\n",
        "        # Calculate the average loss for a epoch for validation dataset\n",
        "        validationEpochAccuracy = validationRunningCorrects.float() / len(validationLoader)\n",
        "\n",
        "        validationRunningLossHistory.append(validationEpochLoss)\n",
        "        validationRunningCorrectsHistory.append(validationEpochAccuracy)\n",
        "\n",
        "        print(\"epoch : \", (epoch + 1))\n",
        "        print(\"training loss: {:.4f}, training accuracy: {:.4f}\".format(epochLoss, epochAccuracy.item()))\n",
        "        print(\"validation loss: {:.4f}, validation accuracy: {:.4f}\".format(validationEpochLoss, validationEpochAccuracy.item()))"
      ],
      "metadata": {
        "id": "T4EhziJ0h7pD",
        "colab": {
          "base_uri": "https://localhost:8080/"
        },
        "outputId": "20810608-f780-4394-ca99-a29bed87fc4f"
      },
      "execution_count": 14,
      "outputs": [
        {
          "output_type": "stream",
          "name": "stdout",
          "text": [
            "epoch :  1\n",
            "training loss: 0.9677, training accuracy: 76.0883\n",
            "validation loss: 0.4241, validation accuracy: 88.9500\n",
            "epoch :  2\n",
            "training loss: 0.3810, training accuracy: 89.3050\n",
            "validation loss: 0.3224, validation accuracy: 90.7600\n",
            "epoch :  3\n",
            "training loss: 0.3224, training accuracy: 90.7117\n",
            "validation loss: 0.2907, validation accuracy: 91.8600\n",
            "epoch :  4\n",
            "training loss: 0.2932, training accuracy: 91.4650\n",
            "validation loss: 0.2723, validation accuracy: 92.1500\n",
            "epoch :  5\n",
            "training loss: 0.2719, training accuracy: 92.0483\n",
            "validation loss: 0.2542, validation accuracy: 92.6300\n",
            "epoch :  6\n",
            "training loss: 0.2523, training accuracy: 92.6133\n",
            "validation loss: 0.2386, validation accuracy: 92.9700\n",
            "epoch :  7\n",
            "training loss: 0.2339, training accuracy: 93.1950\n",
            "validation loss: 0.2223, validation accuracy: 93.5500\n",
            "epoch :  8\n",
            "training loss: 0.2181, training accuracy: 93.6733\n",
            "validation loss: 0.2099, validation accuracy: 93.8300\n",
            "epoch :  9\n",
            "training loss: 0.2036, training accuracy: 94.1083\n",
            "validation loss: 0.1965, validation accuracy: 94.2000\n",
            "epoch :  10\n",
            "training loss: 0.1907, training accuracy: 94.4117\n",
            "validation loss: 0.1813, validation accuracy: 94.6000\n",
            "epoch :  11\n",
            "training loss: 0.1783, training accuracy: 94.8550\n",
            "validation loss: 0.1714, validation accuracy: 94.9300\n",
            "epoch :  12\n",
            "training loss: 0.1680, training accuracy: 95.1367\n",
            "validation loss: 0.1644, validation accuracy: 95.1200\n",
            "epoch :  13\n",
            "training loss: 0.1580, training accuracy: 95.3367\n",
            "validation loss: 0.1584, validation accuracy: 95.3700\n",
            "epoch :  14\n",
            "training loss: 0.1495, training accuracy: 95.6050\n",
            "validation loss: 0.1500, validation accuracy: 95.5600\n",
            "epoch :  15\n",
            "training loss: 0.1410, training accuracy: 95.8567\n",
            "validation loss: 0.1435, validation accuracy: 95.6300\n"
          ]
        }
      ]
    },
    {
      "cell_type": "markdown",
      "source": [
        "## Visualization"
      ],
      "metadata": {
        "id": "B0aPuTJej1X2"
      }
    },
    {
      "cell_type": "markdown",
      "source": [
        "### When learning rate is 0.01"
      ],
      "metadata": {
        "id": "LoXk1OKgsNMD"
      }
    },
    {
      "cell_type": "markdown",
      "source": [
        "### Training Loss\n",
        "Although it seems to minimize as the epochs progress to a final value of zero point one five. There is one problem that can be clearly seen that the loss kind of fluctuates as the epochs progress.\n",
        "\n",
        "Recall the concept of gradient descent, which gradually adjusts the parameters of your model in the direction of the least error. The steps that it takes to arrive to optimal parameters is dictated by the learning rate.\n",
        "\n",
        "If the learning rate is too high, the steps it takes will be too large, such that the parameters will, in a way flip flop back and forth between points, overshooting the minimum and thus leading to divergent classes.\n",
        "\n",
        "![image.png](data:image/png;base64,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)"
      ],
      "metadata": {
        "id": "Qy9xKQsgs7m4"
      }
    },
    {
      "cell_type": "code",
      "source": [
        "print(runningLossHistory)\n",
        "plt.plot(runningLossHistory, label = 'training loss')"
      ],
      "metadata": {
        "id": "jycMgGgpsQwU",
        "colab": {
          "base_uri": "https://localhost:8080/",
          "height": 322
        },
        "outputId": "5595a30f-f4eb-433a-a27e-d1ce99142154"
      },
      "execution_count": 15,
      "outputs": [
        {
          "output_type": "stream",
          "name": "stdout",
          "text": [
            "[0.9677469892303149, 0.3810187807679176, 0.3223742648214102, 0.2932207828511794, 0.27191048244635263, 0.2523131772999962, 0.23392704480638107, 0.21809989356746276, 0.2035923159122467, 0.1907274379208684, 0.17825096391141415, 0.16797631710146865, 0.15800019344314933, 0.14946269451330105, 0.14102340190050502]\n"
          ]
        },
        {
          "output_type": "execute_result",
          "data": {
            "text/plain": [
              "[<matplotlib.lines.Line2D at 0x7f01f91e5b50>]"
            ]
          },
          "metadata": {},
          "execution_count": 15
        },
        {
          "output_type": "display_data",
          "data": {
            "image/png": "[encoded data removed]",
            "text/plain": [
              "<Figure size 432x288 with 1 Axes>"
            ]
          },
          "metadata": {
            "needs_background": "light"
          }
        }
      ]
    },
    {
      "cell_type": "markdown",
      "source": [
        "#### Training Accuracy"
      ],
      "metadata": {
        "id": "Az_8fyiFt0P7"
      }
    },
    {
      "cell_type": "code",
      "source": [
        "print(runningCorrectsHistory)\n",
        "plt.plot(runningCorrectsHistory, label = 'training accuracy')"
      ],
      "metadata": {
        "id": "1UKigEn9tCyc",
        "colab": {
          "base_uri": "https://localhost:8080/",
          "height": 320
        },
        "outputId": "eebac958-2c91-4547-a781-b62e560e7706"
      },
      "execution_count": 16,
      "outputs": [
        {
          "output_type": "stream",
          "name": "stdout",
          "text": [
            "[tensor(76.0883), tensor(89.3050), tensor(90.7117), tensor(91.4650), tensor(92.0483), tensor(92.6133), tensor(93.1950), tensor(93.6733), tensor(94.1083), tensor(94.4117), tensor(94.8550), tensor(95.1367), tensor(95.3367), tensor(95.6050), tensor(95.8567)]\n"
          ]
        },
        {
          "output_type": "execute_result",
          "data": {
            "text/plain": [
              "[<matplotlib.lines.Line2D at 0x7f01f90f0110>]"
            ]
          },
          "metadata": {},
          "execution_count": 16
        },
        {
          "output_type": "display_data",
          "data": {
            "image/png": "[encoded data removed]",
            "text/plain": [
              "<Figure size 432x288 with 1 Axes>"
            ]
          },
          "metadata": {
            "needs_background": "light"
          }
        }
      ]
    },
    {
      "cell_type": "markdown",
      "source": [
        "### When learning rate is 0.0001\n",
        "Here, we can see a much smoother training process, it seems that as the epochs progress, the loss continuously decreases. It's not flip flopping back and forth. Had we specified more epochs, it seems that the loss would have still continued to decrease. So we see a much smoother learning process with a fairly reasonable accuracy if we plot the loss."
      ],
      "metadata": {
        "id": "ux7hXjvQsDT7"
      }
    },
    {
      "cell_type": "markdown",
      "source": [
        "#### Training Loss & Validation Loss\n",
        "It's a consistent decrease in running loss history."
      ],
      "metadata": {
        "id": "wAjgANbduWwo"
      }
    },
    {
      "cell_type": "code",
      "source": [
        "print(\"Running Loss History: \", runningLossHistory)\n",
        "print(\"Validation Running Loss History: \", validationRunningLossHistory)\n",
        "plt.plot(runningLossHistory, label = 'training loss')\n",
        "plt.plot(validationRunningLossHistory, label = 'validation loss')\n",
        "plt.legend()"
      ],
      "metadata": {
        "colab": {
          "base_uri": "https://localhost:8080/",
          "height": 339
        },
        "id": "0YFImCh-j1sS",
        "outputId": "cf619ce5-320a-471a-b3f3-5944c8ba3c8f"
      },
      "execution_count": 17,
      "outputs": [
        {
          "output_type": "stream",
          "name": "stdout",
          "text": [
            "Running Loss History:  [0.9677469892303149, 0.3810187807679176, 0.3223742648214102, 0.2932207828511794, 0.27191048244635263, 0.2523131772999962, 0.23392704480638107, 0.21809989356746276, 0.2035923159122467, 0.1907274379208684, 0.17825096391141415, 0.16797631710146865, 0.15800019344314933, 0.14946269451330105, 0.14102340190050502]\n",
            "Validation Running Loss History:  [0.4240522986650467, 0.32244239158928395, 0.2907231268845499, 0.2723310597334057, 0.2541661481186748, 0.23856541391462088, 0.22228726452216507, 0.2098636079020798, 0.19654133901000023, 0.18134820989333092, 0.1713538665510714, 0.1643521447526291, 0.15840631882660092, 0.1500375261856243, 0.14351539372932165]\n"
          ]
        },
        {
          "output_type": "execute_result",
          "data": {
            "text/plain": [
              "<matplotlib.legend.Legend at 0x7f01f90e9510>"
            ]
          },
          "metadata": {},
          "execution_count": 17
        },
        {
          "output_type": "display_data",
          "data": {
            "image/png": "[encoded data removed]",
            "text/plain": [
              "<Figure size 432x288 with 1 Axes>"
            ]
          },
          "metadata": {
            "needs_background": "light"
          }
        }
      ]
    },
    {
      "cell_type": "markdown",
      "source": [
        "#### Training Accuracy\n",
        "It's also a consistent increase in performance and a reasonable accuracy in the model."
      ],
      "metadata": {
        "id": "dvPV9SnzuauL"
      }
    },
    {
      "cell_type": "code",
      "source": [
        "print(\"Running Corrects History: \", runningCorrectsHistory)\n",
        "print(\"Validation Running Corrects History: \", validationRunningCorrectsHistory)\n",
        "plt.plot(runningCorrectsHistory, label = 'training accuracy')\n",
        "plt.plot(validationRunningCorrectsHistory, label = 'validation accuracy')\n",
        "plt.legend()"
      ],
      "metadata": {
        "colab": {
          "base_uri": "https://localhost:8080/",
          "height": 337
        },
        "id": "wsQUwjNTucm8",
        "outputId": "c28355d2-5199-4ce0-97a7-8f78da17c7e8"
      },
      "execution_count": 18,
      "outputs": [
        {
          "output_type": "stream",
          "name": "stdout",
          "text": [
            "Running Corrects History:  [tensor(76.0883), tensor(89.3050), tensor(90.7117), tensor(91.4650), tensor(92.0483), tensor(92.6133), tensor(93.1950), tensor(93.6733), tensor(94.1083), tensor(94.4117), tensor(94.8550), tensor(95.1367), tensor(95.3367), tensor(95.6050), tensor(95.8567)]\n",
            "Validation Running Corrects History:  [tensor(88.9500), tensor(90.7600), tensor(91.8600), tensor(92.1500), tensor(92.6300), tensor(92.9700), tensor(93.5500), tensor(93.8300), tensor(94.2000), tensor(94.6000), tensor(94.9300), tensor(95.1200), tensor(95.3700), tensor(95.5600), tensor(95.6300)]\n"
          ]
        },
        {
          "output_type": "execute_result",
          "data": {
            "text/plain": [
              "<matplotlib.legend.Legend at 0x7f01f9115490>"
            ]
          },
          "metadata": {},
          "execution_count": 18
        },
        {
          "output_type": "display_data",
          "data": {
            "image/png": "[encoded data removed]",
            "text/plain": [
              "<Figure size 432x288 with 1 Axes>"
            ]
          },
          "metadata": {
            "needs_background": "light"
          }
        }
      ]
    },
    {
      "cell_type": "markdown",
      "source": [
        "# 50. Final Tests"
      ],
      "metadata": {
        "id": "PNuBCaJy5DD3"
      }
    },
    {
      "cell_type": "markdown",
      "source": [
        "## Fetching a Test Image from Web Link"
      ],
      "metadata": {
        "id": "0IxhpUMx5FIS"
      }
    },
    {
      "cell_type": "code",
      "source": [
        "import requests\n",
        "# PIL -> Python Image Library\n",
        "from PIL import Image"
      ],
      "metadata": {
        "id": "N7M9cYxdjjFf"
      },
      "execution_count": null,
      "outputs": []
    },
    {
      "cell_type": "code",
      "source": [
        "imageUrl = \"https://images.homedepot-static.com/productImages/007164ea-d47e-4f66-8d8c-fd9f621984a2/svn/architectural-mailboxes-house-letters-numbers-3585b-5-64_1000.jpg\"\n",
        "response = requests.get(imageUrl, stream = True)\n",
        "image = Image.open(response.raw)\n",
        "plt.imshow(image)"
      ],
      "metadata": {
        "colab": {
          "base_uri": "https://localhost:8080/",
          "height": 286
        },
        "id": "QWkBnCG94pt2",
        "outputId": "3c5f5380-e97c-4690-ccb6-e75593e35227"
      },
      "execution_count": 19,
      "outputs": [
        {
          "output_type": "execute_result",
          "data": {
            "text/plain": [
              "<matplotlib.image.AxesImage at 0x7f01f8cfd490>"
            ]
          },
          "metadata": {},
          "execution_count": 19
        },
        {
          "output_type": "display_data",
          "data": {
            "image/png": "[encoded data removed]",
            "text/plain": [
              "<Figure size 432x288 with 1 Axes>"
            ]
          },
          "metadata": {
            "needs_background": "light"
          }
        }
      ]
    },
    {
      "cell_type": "code",
      "source": [
        ""
      ],
      "metadata": {
        "id": "WBk-bphXjxnF"
      },
      "execution_count": null,
      "outputs": []
    }
  ]
}