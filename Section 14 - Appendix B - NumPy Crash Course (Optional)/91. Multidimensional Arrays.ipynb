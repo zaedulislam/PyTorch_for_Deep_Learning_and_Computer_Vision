{
  "nbformat": 4,
  "nbformat_minor": 0,
  "metadata": {
    "colab": {
      "name": "91. Multidimensional Arrays.ipynb",
      "provenance": [],
      "authorship_tag": "ABX9TyMEjoOlhQL+sPH5He2FXKsq",
      "include_colab_link": true
    },
    "kernelspec": {
      "name": "python3",
      "display_name": "Python 3"
    },
    "language_info": {
      "name": "python"
    }
  },
  "cells": [
    {
      "cell_type": "markdown",
      "metadata": {
        "id": "view-in-github",
        "colab_type": "text"
      },
      "source": [
        "<a href=\"https://colab.research.google.com/github/zaedulislam/PyTorch_for_Deep_Learning_and_Computer_Vision/blob/main/Section%2014%20-%20Appendix%20B%20-%20NumPy%20Crash%20Course%20(Optional)/91.%20Multidimensional%20Arrays.ipynb\" target=\"_parent\"><img src=\"https://colab.research.google.com/assets/colab-badge.svg\" alt=\"Open In Colab\"/></a>"
      ]
    },
    {
      "cell_type": "markdown",
      "metadata": {
        "id": "ObcMorTYQYeR"
      },
      "source": [
        "Notion Page: https://www.notion.so/islamzaedul/Section-14-Appendix-B-NumPy-Crash-Course-Optional-8fb9170a96474ee098238fa8d0aeb73b#fd9d483d2f4344a1b3153428a741ed1c"
      ]
    },
    {
      "cell_type": "code",
      "metadata": {
        "id": "5NEQwhueDTOz"
      },
      "source": [
        " import numpy as np"
      ],
      "execution_count": 1,
      "outputs": []
    },
    {
      "cell_type": "code",
      "metadata": {
        "colab": {
          "base_uri": "https://localhost:8080/"
        },
        "id": "fpB1JxgsD90F",
        "outputId": "710fd644-df4c-4308-fdcd-ed2c3fb261ce"
      },
      "source": [
        "x = np.arange(3)\n",
        "x"
      ],
      "execution_count": 3,
      "outputs": [
        {
          "output_type": "execute_result",
          "data": {
            "text/plain": [
              "array([0, 1, 2])"
            ]
          },
          "metadata": {},
          "execution_count": 3
        }
      ]
    },
    {
      "cell_type": "code",
      "metadata": {
        "colab": {
          "base_uri": "https://localhost:8080/"
        },
        "id": "xgaqjayLEbHz",
        "outputId": "e2b142cc-aa23-4b65-c342-266352a42a3c"
      },
      "source": [
        "y = np.arange(0, 3)\n",
        "y"
      ],
      "execution_count": 7,
      "outputs": [
        {
          "output_type": "execute_result",
          "data": {
            "text/plain": [
              "array([0, 1, 2])"
            ]
          },
          "metadata": {},
          "execution_count": 7
        }
      ]
    },
    {
      "cell_type": "code",
      "metadata": {
        "colab": {
          "base_uri": "https://localhost:8080/"
        },
        "id": "4CWb7xkxEbjj",
        "outputId": "73a85536-31d8-4601-fad4-dc6dfe0b35cb"
      },
      "source": [
        "z = np.arange(0, 3)\n",
        "z"
      ],
      "execution_count": 6,
      "outputs": [
        {
          "output_type": "execute_result",
          "data": {
            "text/plain": [
              "array([0, 1, 2])"
            ]
          },
          "metadata": {},
          "execution_count": 6
        }
      ]
    },
    {
      "cell_type": "code",
      "metadata": {
        "colab": {
          "base_uri": "https://localhost:8080/"
        },
        "id": "KXLGpckpEdiv",
        "outputId": "33f8f81b-0f39-4a68-fd20-032ae5567079"
      },
      "source": [
        "multiDimensionalArray = np.array([x, y, z])\n",
        "print(multiDimensionalArray)\n",
        "print(multiDimensionalArray.shape)"
      ],
      "execution_count": 10,
      "outputs": [
        {
          "output_type": "stream",
          "name": "stdout",
          "text": [
            "[[0 1 2]\n",
            " [0 1 2]\n",
            " [0 1 2]]\n",
            "(3, 3)\n"
          ]
        }
      ]
    },
    {
      "cell_type": "markdown",
      "metadata": {
        "id": "IHUcl1aTP8-S"
      },
      "source": [
        "## arange vs linspace"
      ]
    },
    {
      "cell_type": "code",
      "metadata": {
        "colab": {
          "base_uri": "https://localhost:8080/"
        },
        "id": "wvuNAPSUExcS",
        "outputId": "02d3e6fd-8d8d-45ef-ff18-0dd8a6293a2d"
      },
      "source": [
        "#  A one dimensional array of numbers between one and ten. More specifically, it returns 50 numbers and all numbers are evenly spaced\n",
        "m = np.linspace(1, 10, 50)\n",
        "m"
      ],
      "execution_count": 32,
      "outputs": [
        {
          "output_type": "execute_result",
          "data": {
            "text/plain": [
              "array([ 1.        ,  1.18367347,  1.36734694,  1.55102041,  1.73469388,\n",
              "        1.91836735,  2.10204082,  2.28571429,  2.46938776,  2.65306122,\n",
              "        2.83673469,  3.02040816,  3.20408163,  3.3877551 ,  3.57142857,\n",
              "        3.75510204,  3.93877551,  4.12244898,  4.30612245,  4.48979592,\n",
              "        4.67346939,  4.85714286,  5.04081633,  5.2244898 ,  5.40816327,\n",
              "        5.59183673,  5.7755102 ,  5.95918367,  6.14285714,  6.32653061,\n",
              "        6.51020408,  6.69387755,  6.87755102,  7.06122449,  7.24489796,\n",
              "        7.42857143,  7.6122449 ,  7.79591837,  7.97959184,  8.16326531,\n",
              "        8.34693878,  8.53061224,  8.71428571,  8.89795918,  9.08163265,\n",
              "        9.26530612,  9.44897959,  9.63265306,  9.81632653, 10.        ])"
            ]
          },
          "metadata": {},
          "execution_count": 32
        }
      ]
    },
    {
      "cell_type": "code",
      "metadata": {
        "colab": {
          "base_uri": "https://localhost:8080/"
        },
        "id": "8QJpwdSwOc7S",
        "outputId": "8a2e54c7-e1de-4883-da75-c302e5d68332"
      },
      "source": [
        "# This third argument (step) specifies how many elements we want from one to 10\n",
        "n = np.arange(1, 10, step=3)\n",
        "n"
      ],
      "execution_count": 37,
      "outputs": [
        {
          "output_type": "execute_result",
          "data": {
            "text/plain": [
              "array([1, 4, 7])"
            ]
          },
          "metadata": {},
          "execution_count": 37
        }
      ]
    },
    {
      "cell_type": "code",
      "metadata": {
        "colab": {
          "base_uri": "https://localhost:8080/"
        },
        "id": "NOZfrg6TMYnr",
        "outputId": "4b5db85a-ec46-424f-c7f8-a7b36569d9c6"
      },
      "source": [
        "a = np.arange(3)\n",
        "b = np.arange(3, 6)\n",
        "c = np.arange(6, 9)\n",
        "\n",
        "multiDimensionalArray = np.array([a, b, c])\n",
        "print(multiDimensionalArray)\n",
        "print(multiDimensionalArray.shape)"
      ],
      "execution_count": 17,
      "outputs": [
        {
          "output_type": "stream",
          "name": "stdout",
          "text": [
            "[[0 1 2]\n",
            " [3 4 5]\n",
            " [6 7 8]]\n",
            "(3, 3)\n"
          ]
        }
      ]
    },
    {
      "cell_type": "code",
      "metadata": {
        "colab": {
          "base_uri": "https://localhost:8080/"
        },
        "id": "AVRf6wsSNH7l",
        "outputId": "d032ff91-2a2a-4fc0-af26-615b4b48139e"
      },
      "source": [
        "print(multiDimensionalArray.dtype)"
      ],
      "execution_count": 24,
      "outputs": [
        {
          "output_type": "stream",
          "name": "stdout",
          "text": [
            "int64\n"
          ]
        }
      ]
    },
    {
      "cell_type": "markdown",
      "metadata": {
        "id": "AmMxjXXFMwLW"
      },
      "source": [
        "### Accessing Element"
      ]
    },
    {
      "cell_type": "code",
      "metadata": {
        "colab": {
          "base_uri": "https://localhost:8080/"
        },
        "id": "y2mHfv_xMz77",
        "outputId": "5a1de93c-c0bc-42a9-f71d-6e1e2a164967"
      },
      "source": [
        "multiDimensionalArray[1][2]"
      ],
      "execution_count": 19,
      "outputs": [
        {
          "output_type": "execute_result",
          "data": {
            "text/plain": [
              "5"
            ]
          },
          "metadata": {},
          "execution_count": 19
        }
      ]
    },
    {
      "cell_type": "code",
      "metadata": {
        "colab": {
          "base_uri": "https://localhost:8080/"
        },
        "id": "kLwmfl24M5Xh",
        "outputId": "bd3203a2-cc75-476c-882c-5d70c03166b4"
      },
      "source": [
        "multiDimensionalArray[1, 2]"
      ],
      "execution_count": 20,
      "outputs": [
        {
          "output_type": "execute_result",
          "data": {
            "text/plain": [
              "5"
            ]
          },
          "metadata": {},
          "execution_count": 20
        }
      ]
    },
    {
      "cell_type": "markdown",
      "metadata": {
        "id": "bAOncMwrNSHJ"
      },
      "source": [
        "### Defining Array Type"
      ]
    },
    {
      "cell_type": "code",
      "metadata": {
        "colab": {
          "base_uri": "https://localhost:8080/"
        },
        "id": "3iGLacFcNVSd",
        "outputId": "07d39721-c111-4d20-de87-59aaac89ce72"
      },
      "source": [
        "p = np.array([1, 4], dtype=np.int16)\n",
        "print(p)\n",
        "print(p.dtype)"
      ],
      "execution_count": 29,
      "outputs": [
        {
          "output_type": "stream",
          "name": "stdout",
          "text": [
            "[1 4]\n",
            "int16\n"
          ]
        }
      ]
    }
  ]
}