{
  "nbformat": 4,
  "nbformat_minor": 0,
  "metadata": {
    "colab": {
      "name": "90. Arrays vs Lists.ipynb",
      "provenance": [],
      "collapsed_sections": [],
      "authorship_tag": "ABX9TyNJo+ZL8hrXRkDkI+2XLl4s",
      "include_colab_link": true
    },
    "kernelspec": {
      "name": "python3",
      "display_name": "Python 3"
    },
    "language_info": {
      "name": "python"
    }
  },
  "cells": [
    {
      "cell_type": "markdown",
      "metadata": {
        "id": "view-in-github",
        "colab_type": "text"
      },
      "source": [
        "<a href=\"https://colab.research.google.com/github/zaedulislam/PyTorch_for_Deep_Learning_and_Computer_Vision/blob/main/Section%2014%20-%20Appendix%20B%20-%20NumPy%20Crash%20Course%20(Optional)/90.%20Arrays%20vs%20Lists.ipynb\" target=\"_parent\"><img src=\"https://colab.research.google.com/assets/colab-badge.svg\" alt=\"Open In Colab\"/></a>"
      ]
    },
    {
      "cell_type": "markdown",
      "metadata": {
        "id": "y6di9RpAt8MP"
      },
      "source": [
        "Notion Page: https://www.notion.so/islamzaedul/Section-14-Appendix-B-NumPy-Crash-Course-Optional-8fb9170a96474ee098238fa8d0aeb73b#ca3df464f3734a919616e7460b6d64cc"
      ]
    },
    {
      "cell_type": "markdown",
      "metadata": {
        "id": "bwFEzJzMp1_2"
      },
      "source": [
        "## Python List"
      ]
    },
    {
      "cell_type": "code",
      "metadata": {
        "colab": {
          "base_uri": "https://localhost:8080/"
        },
        "id": "gh_56zCgogIS",
        "outputId": "460e8d41-742a-4913-baae-e2834ea4a2e6"
      },
      "source": [
        "listA = list(range(1, 4))\n",
        "listB = list(range(1, 4))\n",
        "listSum = []\n",
        "\n",
        "for index in range(3):\n",
        "    listA[index] = listA[index] ** 2\n",
        "    listB[index] = listB[index] ** 3\n",
        "\n",
        "    listSum.append(listA[index] + listB[index])\n",
        "\n",
        "print(listSum)"
      ],
      "execution_count": 14,
      "outputs": [
        {
          "output_type": "stream",
          "name": "stdout",
          "text": [
            "[2, 12, 36]\n"
          ]
        }
      ]
    },
    {
      "cell_type": "markdown",
      "metadata": {
        "id": "Ntw_7tzZp9p3"
      },
      "source": [
        "## numpy Array\n",
        "It also goes beyond convenience as an numpy is also have smaller memory consumption and high performance relative to their Python counterpart array when reading or writing from several large terabyte files."
      ]
    },
    {
      "cell_type": "code",
      "metadata": {
        "colab": {
          "base_uri": "https://localhost:8080/"
        },
        "id": "jx2zID5qp7t8",
        "outputId": "115f0226-66be-4b6a-f0be-09574502a4b8"
      },
      "source": [
        "import numpy as np\n",
        "\n",
        "arrayA = np.arange(1, 4) ** 2\n",
        "arrayB = np.arange(1, 4) ** 3\n",
        "arraySum = arrayA + arrayB\n",
        "\n",
        "print(arrayA)\n",
        "print(arrayB)\n",
        "print(arraySum)"
      ],
      "execution_count": 15,
      "outputs": [
        {
          "output_type": "stream",
          "name": "stdout",
          "text": [
            "[1 4 9]\n",
            "[ 1  8 27]\n",
            "[ 2 12 36]\n"
          ]
        }
      ]
    },
    {
      "cell_type": "code",
      "metadata": {
        "colab": {
          "base_uri": "https://localhost:8080/"
        },
        "id": "MvCgc5KXrM_X",
        "outputId": "633fac9a-764e-483a-fde0-ff875cabcc29"
      },
      "source": [
        "np.power(np.array([1, 2, 3]), 4)"
      ],
      "execution_count": 16,
      "outputs": [
        {
          "output_type": "execute_result",
          "data": {
            "text/plain": [
              "array([ 1, 16, 81])"
            ]
          },
          "metadata": {},
          "execution_count": 16
        }
      ]
    },
    {
      "cell_type": "code",
      "metadata": {
        "colab": {
          "base_uri": "https://localhost:8080/"
        },
        "id": "XX1EKzgZrnKO",
        "outputId": "e6ee01f5-34bc-4341-9d50-be573e210aab"
      },
      "source": [
        "np.array([1, 2, 3]) ** 4"
      ],
      "execution_count": 17,
      "outputs": [
        {
          "output_type": "execute_result",
          "data": {
            "text/plain": [
              "array([ 1, 16, 81])"
            ]
          },
          "metadata": {},
          "execution_count": 17
        }
      ]
    },
    {
      "cell_type": "code",
      "metadata": {
        "colab": {
          "base_uri": "https://localhost:8080/"
        },
        "id": "PjuCaWQ0rq9r",
        "outputId": "995c8415-8159-4548-8f02-4861b81314e8"
      },
      "source": [
        "np.negative(np.array([1, 2, 3]))"
      ],
      "execution_count": 18,
      "outputs": [
        {
          "output_type": "execute_result",
          "data": {
            "text/plain": [
              "array([-1, -2, -3])"
            ]
          },
          "metadata": {},
          "execution_count": 18
        }
      ]
    },
    {
      "cell_type": "code",
      "metadata": {
        "colab": {
          "base_uri": "https://localhost:8080/"
        },
        "id": "-imffHmQr1dn",
        "outputId": "5b077e97-ea94-4729-906b-81dc985615c0"
      },
      "source": [
        "np.array([1, 2, 3]) * (-1)"
      ],
      "execution_count": 19,
      "outputs": [
        {
          "output_type": "execute_result",
          "data": {
            "text/plain": [
              "array([-1, -2, -3])"
            ]
          },
          "metadata": {},
          "execution_count": 19
        }
      ]
    },
    {
      "cell_type": "code",
      "metadata": {
        "colab": {
          "base_uri": "https://localhost:8080/"
        },
        "id": "_uzjIlJQr4Wn",
        "outputId": "effb0a7d-1524-49a8-fb92-4c1ef4666994"
      },
      "source": [
        "np.exp(np.array([1, 2, 3]))"
      ],
      "execution_count": 20,
      "outputs": [
        {
          "output_type": "execute_result",
          "data": {
            "text/plain": [
              "array([ 2.71828183,  7.3890561 , 20.08553692])"
            ]
          },
          "metadata": {},
          "execution_count": 20
        }
      ]
    },
    {
      "cell_type": "code",
      "metadata": {
        "colab": {
          "base_uri": "https://localhost:8080/"
        },
        "id": "amsC9Q64sp1v",
        "outputId": "5663d688-a84a-4e8a-f396-8d79896b30ea"
      },
      "source": [
        "np.log(np.array([1, 2, 3]))"
      ],
      "execution_count": 21,
      "outputs": [
        {
          "output_type": "execute_result",
          "data": {
            "text/plain": [
              "array([0.        , 0.69314718, 1.09861229])"
            ]
          },
          "metadata": {},
          "execution_count": 21
        }
      ]
    },
    {
      "cell_type": "code",
      "metadata": {
        "colab": {
          "base_uri": "https://localhost:8080/"
        },
        "id": "oUz9MnEts6dr",
        "outputId": "ce836b01-ab1a-40b9-f27a-453f8f7cad9e"
      },
      "source": [
        "np.sin(np.array([1, 2, 3]))"
      ],
      "execution_count": 22,
      "outputs": [
        {
          "output_type": "execute_result",
          "data": {
            "text/plain": [
              "array([0.84147098, 0.90929743, 0.14112001])"
            ]
          },
          "metadata": {},
          "execution_count": 22
        }
      ]
    }
  ]
}