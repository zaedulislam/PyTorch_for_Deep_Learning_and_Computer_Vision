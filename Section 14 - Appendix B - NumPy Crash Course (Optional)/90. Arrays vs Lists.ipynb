{
  "nbformat": 4,
  "nbformat_minor": 0,
  "metadata": {
    "colab": {
      "name": "90. Arrays vs Lists.ipynb",
      "provenance": [],
      "collapsed_sections": [],
      "authorship_tag": "ABX9TyMtNtLA4lgKrcvj/lfA82XT",
      "include_colab_link": true
    },
    "kernelspec": {
      "name": "python3",
      "display_name": "Python 3"
    },
    "language_info": {
      "name": "python"
    }
  },
  "cells": [
    {
      "cell_type": "markdown",
      "metadata": {
        "id": "view-in-github",
        "colab_type": "text"
      },
      "source": [
        "<a href=\"https://colab.research.google.com/github/zaedulislam/PyTorch_for_Deep_Learning_and_Computer_Vision/blob/main/Section%2014%20-%20Appendix%20B%20-%20NumPy%20Crash%20Course%20(Optional)/90.%20Arrays%20vs%20Lists.ipynb\" target=\"_parent\"><img src=\"https://colab.research.google.com/assets/colab-badge.svg\" alt=\"Open In Colab\"/></a>"
      ]
    },
    {
      "cell_type": "markdown",
      "metadata": {
        "id": "y6di9RpAt8MP"
      },
      "source": [
        "Notion Page: https://www.notion.so/islamzaedul/Section-14-Appendix-B-NumPy-Crash-Course-Optional-8fb9170a96474ee098238fa8d0aeb73b#ca3df464f3734a919616e7460b6d64cc"
      ]
    },
    {
      "cell_type": "code",
      "source": [
        "import numpy as np"
      ],
      "metadata": {
        "id": "-jiZ71xreoYo"
      },
      "execution_count": null,
      "outputs": []
    },
    {
      "cell_type": "markdown",
      "metadata": {
        "id": "mKeynGvNwGkn"
      },
      "source": [
        "### Python List vs numpy Array"
      ]
    },
    {
      "cell_type": "markdown",
      "metadata": {
        "id": "pCov22dvvf5Z"
      },
      "source": [
        "1. A one dimensional or multidimensional array generally consists of a homogeneous group of values that are all of the same type, whereas lists would be the python equivalent of an array but are heterogeneous in the sense that they generally contain, generally contain elements of different types. This is the most obvious difference.\n",
        "\n",
        "2. A more subtle difference lies in their functionality. Numpty arrays allow vectorized operation such as Element Y's addition and multiplication, which is\n",
        "a lot more concise than how it would be done with Python lists.\n",
        "\n",
        "\n",
        "\n",
        "\n"
      ]
    },
    {
      "cell_type": "markdown",
      "metadata": {
        "id": "bwFEzJzMp1_2"
      },
      "source": [
        "## Python List"
      ]
    },
    {
      "cell_type": "code",
      "metadata": {
        "colab": {
          "base_uri": "https://localhost:8080/"
        },
        "id": "gh_56zCgogIS",
        "outputId": "88291a95-f9bd-4f7d-d8d4-8716b218160a"
      },
      "source": [
        "listA = list(range(1, 4))\n",
        "listB = list(range(1, 4))\n",
        "listSum = []\n",
        "\n",
        "for index in range(3):\n",
        "    listA[index] = listA[index] ** 2\n",
        "    listB[index] = listB[index] ** 3\n",
        "\n",
        "    listSum.append(listA[index] + listB[index])\n",
        "\n",
        "print(listSum)"
      ],
      "execution_count": null,
      "outputs": [
        {
          "output_type": "stream",
          "name": "stdout",
          "text": [
            "[2, 12, 36]\n"
          ]
        }
      ]
    },
    {
      "cell_type": "markdown",
      "metadata": {
        "id": "Ntw_7tzZp9p3"
      },
      "source": [
        "## numpy Array\n",
        "It also goes beyond convenience as an numpy is also have smaller memory consumption and high performance relative to their Python counterpart array when reading or writing from several large terabyte files."
      ]
    },
    {
      "cell_type": "code",
      "metadata": {
        "colab": {
          "base_uri": "https://localhost:8080/"
        },
        "id": "jx2zID5qp7t8",
        "outputId": "19d5b92e-6793-4d88-bfc3-38d0ceebfb66"
      },
      "source": [
        "arrayA = np.arange(1, 4) ** 2\n",
        "arrayB = np.arange(1, 4) ** 3\n",
        "arraySum = arrayA + arrayB\n",
        "\n",
        "print(arrayA)\n",
        "print(arrayB)\n",
        "print(arraySum)"
      ],
      "execution_count": null,
      "outputs": [
        {
          "output_type": "stream",
          "name": "stdout",
          "text": [
            "[1 4 9]\n",
            "[ 1  8 27]\n",
            "[ 2 12 36]\n"
          ]
        }
      ]
    },
    {
      "cell_type": "code",
      "metadata": {
        "colab": {
          "base_uri": "https://localhost:8080/"
        },
        "id": "MvCgc5KXrM_X",
        "outputId": "19dfc3a6-985d-426d-8b21-5249aec8628f"
      },
      "source": [
        "np.power(np.array([1, 2, 3]), 4)"
      ],
      "execution_count": null,
      "outputs": [
        {
          "output_type": "execute_result",
          "data": {
            "text/plain": [
              "array([ 1, 16, 81])"
            ]
          },
          "metadata": {},
          "execution_count": 5
        }
      ]
    },
    {
      "cell_type": "code",
      "metadata": {
        "colab": {
          "base_uri": "https://localhost:8080/"
        },
        "id": "XX1EKzgZrnKO",
        "outputId": "104176a0-84aa-4c5d-ab80-4563b294ea95"
      },
      "source": [
        "np.array([1, 2, 3]) ** 4"
      ],
      "execution_count": null,
      "outputs": [
        {
          "output_type": "execute_result",
          "data": {
            "text/plain": [
              "array([ 1, 16, 81])"
            ]
          },
          "metadata": {},
          "execution_count": 6
        }
      ]
    },
    {
      "cell_type": "code",
      "metadata": {
        "colab": {
          "base_uri": "https://localhost:8080/"
        },
        "id": "PjuCaWQ0rq9r",
        "outputId": "bc0feb73-e778-4062-e645-cc0c70f0e860"
      },
      "source": [
        "np.negative(np.array([1, 2, 3]))"
      ],
      "execution_count": null,
      "outputs": [
        {
          "output_type": "execute_result",
          "data": {
            "text/plain": [
              "array([-1, -2, -3])"
            ]
          },
          "metadata": {},
          "execution_count": 7
        }
      ]
    },
    {
      "cell_type": "code",
      "metadata": {
        "colab": {
          "base_uri": "https://localhost:8080/"
        },
        "id": "-imffHmQr1dn",
        "outputId": "ce3d8461-3352-4ee6-c4be-6d59249dbfc5"
      },
      "source": [
        "np.array([1, 2, 3]) * (-1)"
      ],
      "execution_count": null,
      "outputs": [
        {
          "output_type": "execute_result",
          "data": {
            "text/plain": [
              "array([-1, -2, -3])"
            ]
          },
          "metadata": {},
          "execution_count": 8
        }
      ]
    },
    {
      "cell_type": "code",
      "metadata": {
        "colab": {
          "base_uri": "https://localhost:8080/"
        },
        "id": "_uzjIlJQr4Wn",
        "outputId": "721f86a3-ff5f-4d12-ecbd-a5ff26744594"
      },
      "source": [
        "np.exp(np.array([1, 2, 3]))"
      ],
      "execution_count": null,
      "outputs": [
        {
          "output_type": "execute_result",
          "data": {
            "text/plain": [
              "array([ 2.71828183,  7.3890561 , 20.08553692])"
            ]
          },
          "metadata": {},
          "execution_count": 9
        }
      ]
    },
    {
      "cell_type": "code",
      "metadata": {
        "colab": {
          "base_uri": "https://localhost:8080/"
        },
        "id": "amsC9Q64sp1v",
        "outputId": "824db5c5-1b36-4324-a1a1-a2d95e030498"
      },
      "source": [
        "np.log(np.array([1, 2, 3]))"
      ],
      "execution_count": null,
      "outputs": [
        {
          "output_type": "execute_result",
          "data": {
            "text/plain": [
              "array([0.        , 0.69314718, 1.09861229])"
            ]
          },
          "metadata": {},
          "execution_count": 10
        }
      ]
    },
    {
      "cell_type": "code",
      "metadata": {
        "colab": {
          "base_uri": "https://localhost:8080/"
        },
        "id": "oUz9MnEts6dr",
        "outputId": "f28629b0-2c22-4a56-a37e-4c15594b15c4"
      },
      "source": [
        "np.sin(np.array([1, 2, 3]))"
      ],
      "execution_count": null,
      "outputs": [
        {
          "output_type": "execute_result",
          "data": {
            "text/plain": [
              "array([0.84147098, 0.90929743, 0.14112001])"
            ]
          },
          "metadata": {},
          "execution_count": 11
        }
      ]
    },
    {
      "cell_type": "markdown",
      "source": [
        "# Element-Wise Multiplication in NumPy"
      ],
      "metadata": {
        "id": "gqh1h68bZ7-L"
      }
    },
    {
      "cell_type": "markdown",
      "source": [
        "## 1. Element-Wise Multiplication (also known as Hadamard Product) of Matrices in Python Using the `np.multiply()` Method \n",
        "\n",
        "https://www.delftstack.com/howto/numpy/element-wise-multiplication-python/\n",
        "\n",
        "<p>In element-wise matrix multiplication (also known as Hadamard Product), every element of the first matrix is multiplied by the second matrix’s corresponding element.</p>\n",
        "\n",
        "<p>When performing the element-wise matrix multiplication, both matrices should be of the same dimensions. The resultant matrix <code>c</code> of the element-wise matrix multiplication <code>a*b = c</code> always has the same dimension as that in <code>a</code> and <code>b</code>.<span id=\"ezoic-pub-ad-placeholder-113\" class=\"ezoic-adpicker-ad\"></span><span class=\"ezoic-ad medrectangle-3 medrectangle-3113 adtester-container adtester-container-113\" data-ez-name=\"delftstack_com-medrectangle-3\" style=\"\"><span id=\"div-gpt-ad-delftstack_com-medrectangle-3-0\" ezaw=\"728\" ezah=\"90\" style=\"position: relative; z-index: 0; display: inline-block; padding: 0px; min-height: 90px; min-width: 728px;\" class=\"ezoic-ad\"><script data-ezscrex=\"false\" data-cfasync=\"false\" style=\"display:none\">if(typeof __ez_fad_position!='undefined'){__ez_fad_position('div-gpt-ad-delftstack_com-medrectangle-3-0')};</script><div id=\"google_ads_iframe_/1254144,21871662888/delftstack_com-medrectangle-3_0__container__\" style=\"border: 0pt none; width: 728px; height: 0px;\"></div></span></span></p>"
      ],
      "metadata": {
        "id": "zvAKZOMPaQ-2"
      }
    },
    {
      "cell_type": "code",
      "source": [
        "a1 = np.array([[12,46,23,7,2],[3,5,8,3,6]])\n",
        "a2 = np.array([[15,26,2,17,22],[13,8,9,3,4]])\n",
        "\n",
        "print(np.multiply(a1,a2))"
      ],
      "metadata": {
        "colab": {
          "base_uri": "https://localhost:8080/"
        },
        "id": "qSVGhMjuaHiI",
        "outputId": "5644440b-a17e-4c81-a52d-fcf5243c07db"
      },
      "execution_count": null,
      "outputs": [
        {
          "output_type": "stream",
          "name": "stdout",
          "text": [
            "[[ 180 1196   46  119   44]\n",
            " [  39   40   72    9   24]]\n"
          ]
        }
      ]
    }
  ]
}