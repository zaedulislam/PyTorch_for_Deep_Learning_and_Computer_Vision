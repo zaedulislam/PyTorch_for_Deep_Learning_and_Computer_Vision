{
  "nbformat": 4,
  "nbformat_minor": 0,
  "metadata": {
    "colab": {
      "name": "92. One Dimensional Slicing.ipynb",
      "provenance": [],
      "authorship_tag": "ABX9TyOr82Ox4/L2XogXMzH1TmsM",
      "include_colab_link": true
    },
    "kernelspec": {
      "name": "python3",
      "display_name": "Python 3"
    },
    "language_info": {
      "name": "python"
    }
  },
  "cells": [
    {
      "cell_type": "markdown",
      "metadata": {
        "id": "view-in-github",
        "colab_type": "text"
      },
      "source": [
        "<a href=\"https://colab.research.google.com/github/zaedulislam/PyTorch_for_Deep_Learning_and_Computer_Vision/blob/main/Section%2014%20-%20Appendix%20B%20-%20NumPy%20Crash%20Course%20(Optional)/92.%20One%20Dimensional%20Slicing.ipynb\" target=\"_parent\"><img src=\"https://colab.research.google.com/assets/colab-badge.svg\" alt=\"Open In Colab\"/></a>"
      ]
    },
    {
      "cell_type": "code",
      "metadata": {
        "id": "ze-tJDAbMAJO"
      },
      "source": [
        "import numpy as np"
      ],
      "execution_count": 13,
      "outputs": []
    },
    {
      "cell_type": "code",
      "metadata": {
        "colab": {
          "base_uri": "https://localhost:8080/"
        },
        "id": "Z6U8mst0Mntu",
        "outputId": "7e85f1a6-4424-482d-8bcc-8148ae257e83"
      },
      "source": [
        "x = np.arange(1, 10)\n",
        "x"
      ],
      "execution_count": 14,
      "outputs": [
        {
          "output_type": "execute_result",
          "data": {
            "text/plain": [
              "array([1, 2, 3, 4, 5, 6, 7, 8, 9])"
            ]
          },
          "metadata": {},
          "execution_count": 14
        }
      ]
    },
    {
      "cell_type": "code",
      "metadata": {
        "colab": {
          "base_uri": "https://localhost:8080/"
        },
        "id": "fDRdla46Mv4d",
        "outputId": "6971c706-cba9-441b-d39b-0b0df5414a9c"
      },
      "source": [
        "# \"start\" index is inclusive\n",
        "# \"stop\" index is exclusive\n",
        "print(x[2:7])"
      ],
      "execution_count": 15,
      "outputs": [
        {
          "output_type": "stream",
          "name": "stdout",
          "text": [
            "[3 4 5 6 7]\n"
          ]
        }
      ]
    },
    {
      "cell_type": "code",
      "metadata": {
        "colab": {
          "base_uri": "https://localhost:8080/"
        },
        "id": "87aBtReHPyxt",
        "outputId": "4c4c7061-7a2f-471e-9cb9-840d0b528d2e"
      },
      "source": [
        "# If starting index is omitted, it assumes that we're going to start at the very beginning of the list up until your stop index minus one\n",
        "# \"stop\" index is exclusive\n",
        "print(x[:7])"
      ],
      "execution_count": 16,
      "outputs": [
        {
          "output_type": "stream",
          "name": "stdout",
          "text": [
            "[1 2 3 4 5 6 7]\n"
          ]
        }
      ]
    },
    {
      "cell_type": "code",
      "metadata": {
        "colab": {
          "base_uri": "https://localhost:8080/"
        },
        "id": "_YzUJfjRP4vz",
        "outputId": "f37ed82b-c6ab-414c-8bd9-4245e681becf"
      },
      "source": [
        "# If the stop index is omitted, it automatically assumes that we want everything in the array beyond the start index \n",
        "print(x[:])"
      ],
      "execution_count": 17,
      "outputs": [
        {
          "output_type": "stream",
          "name": "stdout",
          "text": [
            "[1 2 3 4 5 6 7 8 9]\n"
          ]
        }
      ]
    },
    {
      "cell_type": "code",
      "metadata": {
        "colab": {
          "base_uri": "https://localhost:8080/"
        },
        "id": "ixS5GKUdNHLM",
        "outputId": "1656da91-9949-468a-b693-1320d6db1c28"
      },
      "source": [
        " print(x[2:7:2])"
      ],
      "execution_count": 18,
      "outputs": [
        {
          "output_type": "stream",
          "name": "stdout",
          "text": [
            "[3 5 7]\n"
          ]
        }
      ]
    }
  ]
}