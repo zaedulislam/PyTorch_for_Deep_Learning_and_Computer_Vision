{
  "nbformat": 4,
  "nbformat_minor": 0,
  "metadata": {
    "colab": {
      "name": "Section 8 - Convolutional Neural Networks - PyTorch.ipynb",
      "provenance": [],
      "authorship_tag": "ABX9TyNZeDGl75Ygdnz1QK8tde48",
      "include_colab_link": true
    },
    "kernelspec": {
      "name": "python3",
      "display_name": "Python 3"
    },
    "language_info": {
      "name": "python"
    }
  },
  "cells": [
    {
      "cell_type": "markdown",
      "metadata": {
        "id": "view-in-github",
        "colab_type": "text"
      },
      "source": [
        "<a href=\"https://colab.research.google.com/github/zaedulislam/PyTorch_for_Deep_Learning_and_Computer_Vision/blob/main/Section%208%20-%20Convolutional%20Neural%20Networks%20-%20PyTorch.ipynb\" target=\"_parent\"><img src=\"https://colab.research.google.com/assets/colab-badge.svg\" alt=\"Open In Colab\"/></a>"
      ]
    },
    {
      "cell_type": "markdown",
      "source": [
        "# 53. Convolutions and MNIST"
      ],
      "metadata": {
        "id": "RqEn1aJxpZvs"
      }
    },
    {
      "cell_type": "markdown",
      "source": [
        "# 54. Convolutional Layer"
      ],
      "metadata": {
        "id": "3TNVIyAZqvHv"
      }
    },
    {
      "cell_type": "markdown",
      "source": [
        "# 58. Neural Network Implementation with PyTorch"
      ],
      "metadata": {
        "id": "mIrt5zyzq_Ya"
      }
    },
    {
      "cell_type": "markdown",
      "source": [
        "## Preliminary Installations"
      ],
      "metadata": {
        "id": "2krKgXKktlcz"
      }
    },
    {
      "cell_type": "code",
      "execution_count": 1,
      "metadata": {
        "colab": {
          "base_uri": "https://localhost:8080/"
        },
        "id": "r1PmgWj5oK4-",
        "outputId": "d6dab906-12dc-47de-ec8a-1d466172cc84"
      },
      "outputs": [
        {
          "output_type": "stream",
          "name": "stdout",
          "text": [
            "Requirement already satisfied: torch in /usr/local/lib/python3.7/dist-packages (1.10.0+cu111)\n",
            "Requirement already satisfied: typing-extensions in /usr/local/lib/python3.7/dist-packages (from torch) (3.10.0.2)\n",
            "Requirement already satisfied: torchvision in /usr/local/lib/python3.7/dist-packages (0.11.1+cu111)\n",
            "Requirement already satisfied: numpy in /usr/local/lib/python3.7/dist-packages (from torchvision) (1.19.5)\n",
            "Requirement already satisfied: torch==1.10.0 in /usr/local/lib/python3.7/dist-packages (from torchvision) (1.10.0+cu111)\n",
            "Requirement already satisfied: pillow!=8.3.0,>=5.3.0 in /usr/local/lib/python3.7/dist-packages (from torchvision) (7.1.2)\n",
            "Requirement already satisfied: typing-extensions in /usr/local/lib/python3.7/dist-packages (from torch==1.10.0->torchvision) (3.10.0.2)\n"
          ]
        }
      ],
      "source": [
        "!pip3 install torch\n",
        "!pip3 install torchvision\n",
        "\n",
        "# Alternatively, both packages can be installed in one line using the following command\n",
        "# !pip3 install torch torchvision"
      ]
    },
    {
      "cell_type": "markdown",
      "source": [
        "## Importing Relevant Libraries"
      ],
      "metadata": {
        "id": "qNcZen6Yt1cy"
      }
    },
    {
      "cell_type": "code",
      "source": [
        "import torch\n",
        "import matplotlib.pyplot as plt\n",
        "import numpy as np\n",
        "import torch.nn.functional as F\n",
        "\n",
        "# PIL -> Python Image Library\n",
        "import PIL\n",
        "import requests\n",
        "\n",
        "from torch import nn\n",
        "from torchvision import datasets, transforms"
      ],
      "metadata": {
        "id": "eTBkaH0xtrWK"
      },
      "execution_count": 2,
      "outputs": []
    },
    {
      "cell_type": "markdown",
      "source": [
        "## Model Class Constructor"
      ],
      "metadata": {
        "id": "jYGqsKQ-uBpY"
      }
    },
    {
      "cell_type": "code",
      "source": [
        "class LeNet(nn.Module):\n",
        "\n",
        "    def __init__(self):\n",
        "        super().__init__()\n",
        "        self.conv1 = nn.Conv2d(in_channels = 1, out_channels = 20, kernel_size = 5, stride = 1)\n",
        "        self.conv2 = nn.Conv2d(in_channels = 20, out_channels = 50, kernel_size = 5, stride = 1)"
      ],
      "metadata": {
        "id": "n1uj9t3IuION"
      },
      "execution_count": 3,
      "outputs": []
    }
  ]
}